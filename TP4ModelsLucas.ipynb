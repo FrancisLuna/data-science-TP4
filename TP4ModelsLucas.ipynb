{
 "cells": [
  {
   "cell_type": "markdown",
   "id": "12c9dda8",
   "metadata": {},
   "source": [
    "# COMENTARIOS"
   ]
  },
  {
   "cell_type": "markdown",
   "id": "c6d8b702",
   "metadata": {},
   "source": [
    "* En este dataset se busca info con personas. Por eso, se pierden las filas donde hay problemas con la persona"
   ]
  },
  {
   "cell_type": "markdown",
   "id": "0f8cf283",
   "metadata": {},
   "source": [
    "# Información "
   ]
  },
  {
   "cell_type": "markdown",
   "id": "c78c4369",
   "metadata": {},
   "source": [
    "1. Descricpción del problema\n",
    "1. Data cleaning \n",
    "1. Data formatting\n",
    "1. EDA\n",
    "3. Feature selecction y engenieering\n",
    "4. Comparación de modelos\n",
    "5. Hyperparameter tunning sobre el mejor modelo\n",
    "6. Evaluacion\n",
    "7. Interpretación\n",
    "8. Conclusión"
   ]
  },
  {
   "cell_type": "markdown",
   "id": "7a6d601d",
   "metadata": {},
   "source": [
    "OBJETIVO: Determinar que personas van a ser morosos en los prestamos"
   ]
  },
  {
   "cell_type": "markdown",
   "id": "ca3152f4",
   "metadata": {},
   "source": [
    "# 0. IMPORTACIONES Y SETEOS"
   ]
  },
  {
   "cell_type": "markdown",
   "id": "3380509e",
   "metadata": {},
   "source": [
    "## Imports "
   ]
  },
  {
   "cell_type": "code",
   "execution_count": 1,
   "id": "b44075fb",
   "metadata": {},
   "outputs": [],
   "source": [
    "# Pandas y numpy para manipulación\n",
    "import pandas as pd\n",
    "import numpy as np\n",
    "import statistics\n",
    "# Librerias para gráficos \n",
    "import seaborn as sns\n",
    "import matplotlib.pyplot as plt\n",
    "\n",
    "# Funciones de DS\n",
    "import DSImplementation as dsimp\n",
    "# Funciones para analizar valores faltantes \n",
    "import missingno as msno\n",
    "\n",
    "from datetime import datetime\n",
    "from datetime import timedelta\n",
    "%matplotlib inline\n",
    "\n",
    "import warnings\n",
    "warnings.filterwarnings(\"ignore\")\n",
    "\n",
    "# Scaler\n",
    "from sklearn.preprocessing import RobustScaler\n",
    "from sklearn.preprocessing import binarize\n",
    "\n",
    "# Train Test Split\n",
    "from sklearn.model_selection import train_test_split\n",
    "\n",
    "#Models\n",
    "from sklearn.naive_bayes import GaussianNB\n",
    "from sklearn.linear_model import LogisticRegression\n",
    "from sklearn.neighbors import KNeighborsClassifier\n",
    "from sklearn.tree import DecisionTreeClassifier\n",
    "from sklearn.ensemble import RandomForestClassifier, VotingClassifier\n",
    "#import xgboost as xgb\n",
    "\n",
    "#Metrics\n",
    "from sklearn.metrics import mean_absolute_error\n",
    "from sklearn.metrics import accuracy_score\n",
    "from sklearn.metrics import accuracy_score, classification_report\n",
    "from sklearn.metrics import confusion_matrix\n",
    "from sklearn.metrics import balanced_accuracy_score\n",
    "from sklearn.metrics import roc_curve\n",
    "from sklearn.metrics import auc\n",
    "from sklearn.metrics import mean_squared_error\n",
    "#tree\n",
    "from sklearn import tree\n",
    "#Cross Validation\n",
    "from sklearn.model_selection import GridSearchCV\n",
    "# Pipeline\n",
    "from sklearn.pipeline import Pipeline\n",
    "from sklearn.tree import DecisionTreeRegressor\n",
    "from sklearn.ensemble import RandomForestRegressor\n",
    "from sklearn.linear_model import LinearRegression\n",
    "from sklearn.model_selection import KFold\n",
    "from sklearn.model_selection import cross_val_score\n",
    "from sklearn.model_selection import train_test_split\n",
    "from sklearn.svm import SVR\n",
    "from sklearn.linear_model import Lasso\n",
    "from sklearn.linear_model import ElasticNet\n",
    "from sklearn.neighbors import KNeighborsRegressor\n",
    "from sklearn.ensemble import GradientBoostingRegressor\n",
    "\n",
    "\n",
    "from sklearn.ensemble import RandomForestRegressor\n",
    "from sklearn.inspection import permutation_importance\n",
    "from sklearn.ensemble import RandomForestClassifier\n"
   ]
  },
  {
   "cell_type": "markdown",
   "id": "4453d761",
   "metadata": {},
   "source": [
    "## Seteos"
   ]
  },
  {
   "cell_type": "code",
   "execution_count": 2,
   "id": "f4e919bc",
   "metadata": {},
   "outputs": [],
   "source": [
    "# Para evitar que salgan advertencias por usar dataframes sin un .copy()\n",
    "pd.options.mode.chained_assignment = None\n",
    "\n",
    "# Se setea un maximo de 60 columnas para visualizar\n",
    "pd.set_option('display.max_columns', 60)\n",
    "\n",
    "# Matplotlib visualización en la celda\n",
    "%matplotlib inline"
   ]
  },
  {
   "cell_type": "markdown",
   "id": "7e336ae8",
   "metadata": {},
   "source": [
    "# 1. DESCRIPCIÓN DEL PROBLEMA "
   ]
  },
  {
   "cell_type": "markdown",
   "id": "757c9b96",
   "metadata": {},
   "source": [
    "* Fecha_Pago: fecha cuando la persona pago la cuota del prestamo. Es diferente a la fecha de acreditación. \n",
    "* Vencimiento: fecha en la cual vence el prestamos, y hay algunos prestamos con doble fecha de vencimiento. El primer vencimiento es siempre el 20 y el segundo es el 30. No todos los tipos de linea de prestamos admiten segundo vencimiento. \n",
    "* Tipo de prestamo: numero de ID, cada ID corresponde a un barrio diferente. El IVC construye de a un barrio por vez. Puede pasar que para un mismo barrio puedo tener diferentes tipo de prestamo (linea de prestamo). \n",
    "* Numero_Prestamo: Es el ID del prestamo. Es unico y no se repite\n",
    "* Total_prestamo[CALCULADO]: el total que tiene que pagar para el prestamos, no es lo que le falta. Se calcula como suma de capital, interes y gastos.\n",
    "* Total_cutas: cantidad de cuotas que tiene el prestamo\n",
    "* Numero de cuota: es la cuota que se esta pagando. Se permite saltear cuotas, es decir, se puede no pagar la 16 y pagar la 17. De esta forma la persona quedaria adeudnado la cuota 16.\n",
    "* Pago: monto del recibo de pago. Cada pago puede no corresponder a una unica cuota. Puede ser una de cuatro opciones: Pago de cuota completa, pago parcial de cuota, adelanto de cuota, pago completo del prestamo. \n",
    "* Genero: Masculino o Femenino, binario\n",
    "* Edad[CALCULADO]: la edad del que pide el prestamo\n",
    "* Paga_en_termino [CALCULADO]: si pago antes del vencimiento. A partir de 2021 se introdujo segundo vencimiento (el 30). 1 es que esta en termino, 0 que no pago en termino\n",
    "* Refinaciado [CALCULADO] : indica si el prestamo fue refinanciado en el pasado. Es decir, cuando se reestructura la deuda. 1 es que esta refinanciado, 0 que no esta refinanciado. \n"
   ]
  },
  {
   "cell_type": "markdown",
   "id": "9fb58e6a",
   "metadata": {},
   "source": [
    "Nuestro campo targe es \"Pagado en termino\" para evaluar si el mes que viene me van a pagar o no "
   ]
  },
  {
   "cell_type": "markdown",
   "id": "7fee74b7",
   "metadata": {},
   "source": [
    "Columnas a agregar:\n",
    "\n",
    "* Numerico indicando tipo de pago. 1: Pago de cuota completa, 2: pago parcial de cuota, 3: adelanto de cuota, 4: pago completo del prestamo\n",
    "* Faltante total a pagar: el monto que falta pagar del prestamo"
   ]
  },
  {
   "cell_type": "markdown",
   "id": "d3ba2d0f",
   "metadata": {},
   "source": [
    "Preguntas:\n",
    "\n",
    "* Agrego columnas que traiga cantidad de cuotas no pagas en terminas para ese prestamo por esa persona?\n"
   ]
  },
  {
   "cell_type": "markdown",
   "id": "4ab3c1fc",
   "metadata": {},
   "source": [
    "# 2. DATA CLEANING"
   ]
  },
  {
   "cell_type": "markdown",
   "id": "d9993546",
   "metadata": {},
   "source": [
    "## Carga del dataset a trabajar "
   ]
  },
  {
   "cell_type": "code",
   "execution_count": 3,
   "id": "face1877",
   "metadata": {},
   "outputs": [
    {
     "data": {
      "text/html": [
       "<div>\n",
       "<style scoped>\n",
       "    .dataframe tbody tr th:only-of-type {\n",
       "        vertical-align: middle;\n",
       "    }\n",
       "\n",
       "    .dataframe tbody tr th {\n",
       "        vertical-align: top;\n",
       "    }\n",
       "\n",
       "    .dataframe thead th {\n",
       "        text-align: right;\n",
       "    }\n",
       "</style>\n",
       "<table border=\"1\" class=\"dataframe\">\n",
       "  <thead>\n",
       "    <tr style=\"text-align: right;\">\n",
       "      <th></th>\n",
       "      <th>Fecha_Pago</th>\n",
       "      <th>Vencimiento</th>\n",
       "      <th>Tipo_Prestamo</th>\n",
       "      <th>Numero_Prestamo</th>\n",
       "      <th>DNI</th>\n",
       "      <th>Total_Prestamo</th>\n",
       "      <th>Total_cuotas</th>\n",
       "      <th>Numero_Cuota</th>\n",
       "      <th>Porcentaje_de_cuotas_faltantes</th>\n",
       "      <th>Pago</th>\n",
       "      <th>Porcentaje_de_cuota_sobre_prestamo</th>\n",
       "      <th>genero</th>\n",
       "      <th>Edad</th>\n",
       "      <th>Paga_en_Termino</th>\n",
       "      <th>Refinanciado</th>\n",
       "    </tr>\n",
       "  </thead>\n",
       "  <tbody>\n",
       "    <tr>\n",
       "      <th>0</th>\n",
       "      <td>02/01/2015</td>\n",
       "      <td>20/02/2015</td>\n",
       "      <td>974</td>\n",
       "      <td>1091205</td>\n",
       "      <td>16090435.0</td>\n",
       "      <td>181874,40</td>\n",
       "      <td>240</td>\n",
       "      <td>119</td>\n",
       "      <td>0,50</td>\n",
       "      <td>623,82</td>\n",
       "      <td>0,34</td>\n",
       "      <td>Masculino</td>\n",
       "      <td>42.0</td>\n",
       "      <td>1</td>\n",
       "      <td>0</td>\n",
       "    </tr>\n",
       "    <tr>\n",
       "      <th>1</th>\n",
       "      <td>02/01/2015</td>\n",
       "      <td>20/01/2015</td>\n",
       "      <td>974</td>\n",
       "      <td>1091205</td>\n",
       "      <td>16090435.0</td>\n",
       "      <td>181874,40</td>\n",
       "      <td>240</td>\n",
       "      <td>118</td>\n",
       "      <td>0,51</td>\n",
       "      <td>623,82</td>\n",
       "      <td>0,34</td>\n",
       "      <td>Masculino</td>\n",
       "      <td>42.0</td>\n",
       "      <td>1</td>\n",
       "      <td>0</td>\n",
       "    </tr>\n",
       "    <tr>\n",
       "      <th>2</th>\n",
       "      <td>02/01/2015</td>\n",
       "      <td>20/03/2015</td>\n",
       "      <td>974</td>\n",
       "      <td>1091205</td>\n",
       "      <td>16090435.0</td>\n",
       "      <td>181874,40</td>\n",
       "      <td>240</td>\n",
       "      <td>120</td>\n",
       "      <td>0,50</td>\n",
       "      <td>623,82</td>\n",
       "      <td>0,34</td>\n",
       "      <td>Masculino</td>\n",
       "      <td>42.0</td>\n",
       "      <td>1</td>\n",
       "      <td>0</td>\n",
       "    </tr>\n",
       "    <tr>\n",
       "      <th>3</th>\n",
       "      <td>02/01/2015</td>\n",
       "      <td>20/01/2015</td>\n",
       "      <td>955</td>\n",
       "      <td>1095467</td>\n",
       "      <td>2115837.0</td>\n",
       "      <td>14180,19</td>\n",
       "      <td>360</td>\n",
       "      <td>102</td>\n",
       "      <td>0,72</td>\n",
       "      <td>45,26</td>\n",
       "      <td>0,32</td>\n",
       "      <td>Femenino</td>\n",
       "      <td>95.0</td>\n",
       "      <td>1</td>\n",
       "      <td>0</td>\n",
       "    </tr>\n",
       "    <tr>\n",
       "      <th>4</th>\n",
       "      <td>02/01/2015</td>\n",
       "      <td>20/02/2015</td>\n",
       "      <td>877</td>\n",
       "      <td>10991758</td>\n",
       "      <td>25238393.0</td>\n",
       "      <td>551452,31</td>\n",
       "      <td>360</td>\n",
       "      <td>45</td>\n",
       "      <td>0,88</td>\n",
       "      <td>993,63</td>\n",
       "      <td>0,18</td>\n",
       "      <td>NaN</td>\n",
       "      <td>45.0</td>\n",
       "      <td>1</td>\n",
       "      <td>0</td>\n",
       "    </tr>\n",
       "  </tbody>\n",
       "</table>\n",
       "</div>"
      ],
      "text/plain": [
       "   Fecha_Pago Vencimiento  Tipo_Prestamo  Numero_Prestamo         DNI  \\\n",
       "0  02/01/2015  20/02/2015            974          1091205  16090435.0   \n",
       "1  02/01/2015  20/01/2015            974          1091205  16090435.0   \n",
       "2  02/01/2015  20/03/2015            974          1091205  16090435.0   \n",
       "3  02/01/2015  20/01/2015            955          1095467   2115837.0   \n",
       "4  02/01/2015  20/02/2015            877         10991758  25238393.0   \n",
       "\n",
       "  Total_Prestamo  Total_cuotas  Numero_Cuota Porcentaje_de_cuotas_faltantes  \\\n",
       "0      181874,40           240           119                           0,50   \n",
       "1      181874,40           240           118                           0,51   \n",
       "2      181874,40           240           120                           0,50   \n",
       "3       14180,19           360           102                           0,72   \n",
       "4      551452,31           360            45                           0,88   \n",
       "\n",
       "     Pago Porcentaje_de_cuota_sobre_prestamo     genero  Edad  \\\n",
       "0  623,82                               0,34  Masculino  42.0   \n",
       "1  623,82                               0,34  Masculino  42.0   \n",
       "2  623,82                               0,34  Masculino  42.0   \n",
       "3   45,26                               0,32   Femenino  95.0   \n",
       "4  993,63                               0,18        NaN  45.0   \n",
       "\n",
       "   Paga_en_Termino  Refinanciado  \n",
       "0                1             0  \n",
       "1                1             0  \n",
       "2                1             0  \n",
       "3                1             0  \n",
       "4                1             0  "
      ]
     },
     "execution_count": 3,
     "metadata": {},
     "output_type": "execute_result"
    }
   ],
   "source": [
    "# Se carga el dataset\n",
    "df = pd.read_csv('Data/DATASET TP4 VERSION 7 2015-2019 correjido.csv', sep=';')\n",
    "df.head(5)"
   ]
  },
  {
   "cell_type": "code",
   "execution_count": 4,
   "id": "42cfbd22",
   "metadata": {},
   "outputs": [
    {
     "data": {
      "text/html": [
       "<div>\n",
       "<style scoped>\n",
       "    .dataframe tbody tr th:only-of-type {\n",
       "        vertical-align: middle;\n",
       "    }\n",
       "\n",
       "    .dataframe tbody tr th {\n",
       "        vertical-align: top;\n",
       "    }\n",
       "\n",
       "    .dataframe thead th {\n",
       "        text-align: right;\n",
       "    }\n",
       "</style>\n",
       "<table border=\"1\" class=\"dataframe\">\n",
       "  <thead>\n",
       "    <tr style=\"text-align: right;\">\n",
       "      <th></th>\n",
       "      <th>fecha_pago</th>\n",
       "      <th>vencimiento</th>\n",
       "      <th>tipo_prestamo</th>\n",
       "      <th>numero_prestamo</th>\n",
       "      <th>dni</th>\n",
       "      <th>total_prestamo</th>\n",
       "      <th>total_cuotas</th>\n",
       "      <th>numero_cuota</th>\n",
       "      <th>porcentaje_de_cuotas_faltantes</th>\n",
       "      <th>pago</th>\n",
       "      <th>porcentaje_de_cuota_sobre_prestamo</th>\n",
       "      <th>genero</th>\n",
       "      <th>edad</th>\n",
       "      <th>paga_en_termino</th>\n",
       "      <th>refinanciado</th>\n",
       "    </tr>\n",
       "  </thead>\n",
       "  <tbody>\n",
       "    <tr>\n",
       "      <th>0</th>\n",
       "      <td>02/01/2015</td>\n",
       "      <td>20/02/2015</td>\n",
       "      <td>974</td>\n",
       "      <td>1091205</td>\n",
       "      <td>16090435.0</td>\n",
       "      <td>181874,40</td>\n",
       "      <td>240</td>\n",
       "      <td>119</td>\n",
       "      <td>0,50</td>\n",
       "      <td>623,82</td>\n",
       "      <td>0,34</td>\n",
       "      <td>Masculino</td>\n",
       "      <td>42.0</td>\n",
       "      <td>1</td>\n",
       "      <td>0</td>\n",
       "    </tr>\n",
       "    <tr>\n",
       "      <th>1</th>\n",
       "      <td>02/01/2015</td>\n",
       "      <td>20/01/2015</td>\n",
       "      <td>974</td>\n",
       "      <td>1091205</td>\n",
       "      <td>16090435.0</td>\n",
       "      <td>181874,40</td>\n",
       "      <td>240</td>\n",
       "      <td>118</td>\n",
       "      <td>0,51</td>\n",
       "      <td>623,82</td>\n",
       "      <td>0,34</td>\n",
       "      <td>Masculino</td>\n",
       "      <td>42.0</td>\n",
       "      <td>1</td>\n",
       "      <td>0</td>\n",
       "    </tr>\n",
       "    <tr>\n",
       "      <th>2</th>\n",
       "      <td>02/01/2015</td>\n",
       "      <td>20/03/2015</td>\n",
       "      <td>974</td>\n",
       "      <td>1091205</td>\n",
       "      <td>16090435.0</td>\n",
       "      <td>181874,40</td>\n",
       "      <td>240</td>\n",
       "      <td>120</td>\n",
       "      <td>0,50</td>\n",
       "      <td>623,82</td>\n",
       "      <td>0,34</td>\n",
       "      <td>Masculino</td>\n",
       "      <td>42.0</td>\n",
       "      <td>1</td>\n",
       "      <td>0</td>\n",
       "    </tr>\n",
       "    <tr>\n",
       "      <th>3</th>\n",
       "      <td>02/01/2015</td>\n",
       "      <td>20/01/2015</td>\n",
       "      <td>955</td>\n",
       "      <td>1095467</td>\n",
       "      <td>2115837.0</td>\n",
       "      <td>14180,19</td>\n",
       "      <td>360</td>\n",
       "      <td>102</td>\n",
       "      <td>0,72</td>\n",
       "      <td>45,26</td>\n",
       "      <td>0,32</td>\n",
       "      <td>Femenino</td>\n",
       "      <td>95.0</td>\n",
       "      <td>1</td>\n",
       "      <td>0</td>\n",
       "    </tr>\n",
       "    <tr>\n",
       "      <th>4</th>\n",
       "      <td>02/01/2015</td>\n",
       "      <td>20/02/2015</td>\n",
       "      <td>877</td>\n",
       "      <td>10991758</td>\n",
       "      <td>25238393.0</td>\n",
       "      <td>551452,31</td>\n",
       "      <td>360</td>\n",
       "      <td>45</td>\n",
       "      <td>0,88</td>\n",
       "      <td>993,63</td>\n",
       "      <td>0,18</td>\n",
       "      <td>NaN</td>\n",
       "      <td>45.0</td>\n",
       "      <td>1</td>\n",
       "      <td>0</td>\n",
       "    </tr>\n",
       "  </tbody>\n",
       "</table>\n",
       "</div>"
      ],
      "text/plain": [
       "   fecha_pago vencimiento  tipo_prestamo  numero_prestamo         dni  \\\n",
       "0  02/01/2015  20/02/2015            974          1091205  16090435.0   \n",
       "1  02/01/2015  20/01/2015            974          1091205  16090435.0   \n",
       "2  02/01/2015  20/03/2015            974          1091205  16090435.0   \n",
       "3  02/01/2015  20/01/2015            955          1095467   2115837.0   \n",
       "4  02/01/2015  20/02/2015            877         10991758  25238393.0   \n",
       "\n",
       "  total_prestamo  total_cuotas  numero_cuota porcentaje_de_cuotas_faltantes  \\\n",
       "0      181874,40           240           119                           0,50   \n",
       "1      181874,40           240           118                           0,51   \n",
       "2      181874,40           240           120                           0,50   \n",
       "3       14180,19           360           102                           0,72   \n",
       "4      551452,31           360            45                           0,88   \n",
       "\n",
       "     pago porcentaje_de_cuota_sobre_prestamo     genero  edad  \\\n",
       "0  623,82                               0,34  Masculino  42.0   \n",
       "1  623,82                               0,34  Masculino  42.0   \n",
       "2  623,82                               0,34  Masculino  42.0   \n",
       "3   45,26                               0,32   Femenino  95.0   \n",
       "4  993,63                               0,18        NaN  45.0   \n",
       "\n",
       "   paga_en_termino  refinanciado  \n",
       "0                1             0  \n",
       "1                1             0  \n",
       "2                1             0  \n",
       "3                1             0  \n",
       "4                1             0  "
      ]
     },
     "execution_count": 4,
     "metadata": {},
     "output_type": "execute_result"
    }
   ],
   "source": [
    "# Unifico nombre de columnas\n",
    "columns_names_new = list(map(lambda x: x.lower(), df.columns))\n",
    "df.columns = columns_names_new\n",
    "df.head()"
   ]
  },
  {
   "cell_type": "markdown",
   "id": "22f78414",
   "metadata": {},
   "source": [
    "## Tipo de datos, valores faltantes y valores nulos "
   ]
  },
  {
   "cell_type": "code",
   "execution_count": 5,
   "id": "01abf279",
   "metadata": {},
   "outputs": [
    {
     "name": "stdout",
     "output_type": "stream",
     "text": [
      "763877 15\n"
     ]
    }
   ],
   "source": [
    "# Cantidad de datos totales\n",
    "rows_n, cols_n = df.shape\n",
    "print(rows_n, cols_n)"
   ]
  },
  {
   "cell_type": "markdown",
   "id": "093f8ee9",
   "metadata": {},
   "source": [
    "### Valores nulos y tipo de datos "
   ]
  },
  {
   "cell_type": "code",
   "execution_count": 6,
   "id": "8bd3c0f4",
   "metadata": {},
   "outputs": [
    {
     "name": "stdout",
     "output_type": "stream",
     "text": [
      "<class 'pandas.core.frame.DataFrame'>\n",
      "RangeIndex: 763877 entries, 0 to 763876\n",
      "Data columns (total 15 columns):\n",
      " #   Column                              Non-Null Count   Dtype  \n",
      "---  ------                              --------------   -----  \n",
      " 0   fecha_pago                          763877 non-null  object \n",
      " 1   vencimiento                         763877 non-null  object \n",
      " 2   tipo_prestamo                       763877 non-null  int64  \n",
      " 3   numero_prestamo                     763877 non-null  int64  \n",
      " 4   dni                                 649441 non-null  float64\n",
      " 5   total_prestamo                      763877 non-null  object \n",
      " 6   total_cuotas                        763877 non-null  int64  \n",
      " 7   numero_cuota                        763877 non-null  int64  \n",
      " 8   porcentaje_de_cuotas_faltantes      763877 non-null  object \n",
      " 9   pago                                763877 non-null  object \n",
      " 10  porcentaje_de_cuota_sobre_prestamo  763877 non-null  object \n",
      " 11  genero                              437189 non-null  object \n",
      " 12  edad                                464327 non-null  float64\n",
      " 13  paga_en_termino                     763877 non-null  int64  \n",
      " 14  refinanciado                        763877 non-null  int64  \n",
      "dtypes: float64(2), int64(6), object(7)\n",
      "memory usage: 87.4+ MB\n"
     ]
    }
   ],
   "source": [
    "# Se observa los tipos de columna\n",
    "df.info()"
   ]
  },
  {
   "cell_type": "code",
   "execution_count": 7,
   "id": "192655bf",
   "metadata": {},
   "outputs": [
    {
     "name": "stdout",
     "output_type": "stream",
     "text": [
      "Your selected dataframe has 15 columns.\n",
      "There are 3 columns that have missing values.\n"
     ]
    },
    {
     "data": {
      "text/html": [
       "<div>\n",
       "<style scoped>\n",
       "    .dataframe tbody tr th:only-of-type {\n",
       "        vertical-align: middle;\n",
       "    }\n",
       "\n",
       "    .dataframe tbody tr th {\n",
       "        vertical-align: top;\n",
       "    }\n",
       "\n",
       "    .dataframe thead th {\n",
       "        text-align: right;\n",
       "    }\n",
       "</style>\n",
       "<table border=\"1\" class=\"dataframe\">\n",
       "  <thead>\n",
       "    <tr style=\"text-align: right;\">\n",
       "      <th></th>\n",
       "      <th>Missing Values</th>\n",
       "      <th>% of Total Values</th>\n",
       "    </tr>\n",
       "  </thead>\n",
       "  <tbody>\n",
       "    <tr>\n",
       "      <th>genero</th>\n",
       "      <td>326688</td>\n",
       "      <td>42.8</td>\n",
       "    </tr>\n",
       "    <tr>\n",
       "      <th>edad</th>\n",
       "      <td>299550</td>\n",
       "      <td>39.2</td>\n",
       "    </tr>\n",
       "    <tr>\n",
       "      <th>dni</th>\n",
       "      <td>114436</td>\n",
       "      <td>15.0</td>\n",
       "    </tr>\n",
       "  </tbody>\n",
       "</table>\n",
       "</div>"
      ],
      "text/plain": [
       "        Missing Values  % of Total Values\n",
       "genero          326688               42.8\n",
       "edad            299550               39.2\n",
       "dni             114436               15.0"
      ]
     },
     "execution_count": 7,
     "metadata": {},
     "output_type": "execute_result"
    }
   ],
   "source": [
    "# Detectamos valores faltantes en genero\n",
    "dsimp.missing_values_table(df)"
   ]
  },
  {
   "cell_type": "markdown",
   "id": "ed7894dc",
   "metadata": {},
   "source": [
    "Detectamos Valores faltantes en GENERO; EDAD Y DNI"
   ]
  },
  {
   "cell_type": "code",
   "execution_count": 8,
   "id": "7c2aa844",
   "metadata": {},
   "outputs": [
    {
     "data": {
      "text/plain": [
       "<AxesSubplot:>"
      ]
     },
     "execution_count": 8,
     "metadata": {},
     "output_type": "execute_result"
    },
    {
     "data": {
      "image/png": "[encoded data removed]",
      "text/plain": [
       "<Figure size 2160x720 with 2 Axes>"
      ]
     },
     "metadata": {
      "needs_background": "light"
     },
     "output_type": "display_data"
    }
   ],
   "source": [
    "# Detectamos valores faltantes\n",
    "msno.matrix(df, figsize=(30,10))"
   ]
  },
  {
   "cell_type": "markdown",
   "id": "b9708def",
   "metadata": {},
   "source": [
    "## Chequeo que para cada DNI exista una unica edad y genero"
   ]
  },
  {
   "cell_type": "code",
   "execution_count": 9,
   "id": "4bb31925",
   "metadata": {},
   "outputs": [],
   "source": [
    "dni_df = df[['dni', 'edad', 'genero']]"
   ]
  },
  {
   "cell_type": "code",
   "execution_count": 10,
   "id": "77d0637b",
   "metadata": {},
   "outputs": [
    {
     "data": {
      "text/html": [
       "<div>\n",
       "<style scoped>\n",
       "    .dataframe tbody tr th:only-of-type {\n",
       "        vertical-align: middle;\n",
       "    }\n",
       "\n",
       "    .dataframe tbody tr th {\n",
       "        vertical-align: top;\n",
       "    }\n",
       "\n",
       "    .dataframe thead th {\n",
       "        text-align: right;\n",
       "    }\n",
       "</style>\n",
       "<table border=\"1\" class=\"dataframe\">\n",
       "  <thead>\n",
       "    <tr style=\"text-align: right;\">\n",
       "      <th></th>\n",
       "      <th>edad</th>\n",
       "      <th>genero</th>\n",
       "    </tr>\n",
       "    <tr>\n",
       "      <th>dni</th>\n",
       "      <th></th>\n",
       "      <th></th>\n",
       "    </tr>\n",
       "  </thead>\n",
       "  <tbody>\n",
       "    <tr>\n",
       "      <th>2.0</th>\n",
       "      <td>0</td>\n",
       "      <td>0</td>\n",
       "    </tr>\n",
       "    <tr>\n",
       "      <th>9.0</th>\n",
       "      <td>1</td>\n",
       "      <td>1</td>\n",
       "    </tr>\n",
       "    <tr>\n",
       "      <th>29.0</th>\n",
       "      <td>1</td>\n",
       "      <td>1</td>\n",
       "    </tr>\n",
       "  </tbody>\n",
       "</table>\n",
       "</div>"
      ],
      "text/plain": [
       "      edad  genero\n",
       "dni               \n",
       "2.0      0       0\n",
       "9.0      1       1\n",
       "29.0     1       1"
      ]
     },
     "execution_count": 10,
     "metadata": {},
     "output_type": "execute_result"
    }
   ],
   "source": [
    "dni_uniques = dni_df.groupby('dni')['edad','genero'].nunique()\n",
    "dni_uniques.head(3)"
   ]
  },
  {
   "cell_type": "code",
   "execution_count": 11,
   "id": "18348b1c",
   "metadata": {},
   "outputs": [
    {
     "data": {
      "text/plain": [
       "Float64Index([ 3073270.0,  4305479.0,  4954272.0,  4991124.0,  5087952.0,\n",
       "               5124029.0,  5138405.0,  5201050.0,  5282162.0,  5570811.0,\n",
       "               5594257.0,  5658001.0,  5665791.0,  6084686.0,  6147893.0,\n",
       "               6245394.0,  6371629.0,  6519814.0,  6536437.0,  6652650.0,\n",
       "               7162249.0,  7377515.0,  7704965.0,  8252165.0,  8326485.0,\n",
       "               8400924.0,  8514256.0,  8633243.0, 10174146.0, 10758672.0,\n",
       "              11241030.0, 11469042.0, 11768623.0, 12702446.0, 12712566.0,\n",
       "              13285676.0, 14317845.0, 16051677.0, 16315055.0, 16938614.0,\n",
       "              17046748.0, 17187923.0, 17283305.0, 17563244.0, 17614252.0,\n",
       "              18328611.0, 18387076.0, 18404973.0, 18652869.0, 20351439.0,\n",
       "              20389809.0, 20986191.0, 21640157.0, 24905162.0, 25228398.0,\n",
       "              92028416.0, 92089425.0, 92099674.0, 92244256.0, 92452663.0,\n",
       "              92640824.0, 92676137.0, 92840561.0, 92903683.0, 92940304.0,\n",
       "              92947290.0, 92950018.0, 93329610.0, 93575551.0, 93953826.0,\n",
       "              94173978.0, 94317611.0, 94602650.0],\n",
       "             dtype='float64', name='dni')"
      ]
     },
     "execution_count": 11,
     "metadata": {},
     "output_type": "execute_result"
    }
   ],
   "source": [
    "# Obtengo los DNI que tengan mas de una edad o genero\n",
    "dni_error = dni_uniques[(dni_uniques>1).any(axis=1)].index\n",
    "dni_error"
   ]
  },
  {
   "cell_type": "code",
   "execution_count": 12,
   "id": "75c9891a",
   "metadata": {},
   "outputs": [],
   "source": [
    "df_1_sin_dni_error = df[~df['dni'].isin(dni_error)].copy()"
   ]
  },
  {
   "cell_type": "markdown",
   "id": "53afadbd",
   "metadata": {},
   "source": [
    "### Genero y edad "
   ]
  },
  {
   "cell_type": "code",
   "execution_count": 13,
   "id": "d50dded1",
   "metadata": {},
   "outputs": [],
   "source": [
    "# Separado las columnas que no tienen problemas de las que si\n",
    "columns_problem = ['genero', 'edad']\n",
    "columns_ok = list(set(df.columns) - set(columns_problem))"
   ]
  },
  {
   "cell_type": "code",
   "execution_count": 14,
   "id": "5c7ca706",
   "metadata": {},
   "outputs": [
    {
     "data": {
      "text/plain": [
       "65590"
      ]
     },
     "execution_count": 14,
     "metadata": {},
     "output_type": "execute_result"
    }
   ],
   "source": [
    "#  Chequeo filas duplicadas del dataset, habiendo sacado las columnas de genero y edad\n",
    "df_1_sin_dni_error[columns_ok].duplicated().sum()"
   ]
  },
  {
   "cell_type": "code",
   "execution_count": 15,
   "id": "092eb0ed",
   "metadata": {},
   "outputs": [],
   "source": [
    "# Mergeo las filas duplicadas remplazando los valores nulos de genero y edad // ver si las droppeo los prestamos\n",
    "df_2_sin_dup =df_1_sin_dni_error.groupby(columns_ok)[columns_problem].first().reset_index()"
   ]
  },
  {
   "cell_type": "code",
   "execution_count": 16,
   "id": "5b6a3662",
   "metadata": {},
   "outputs": [
    {
     "name": "stdout",
     "output_type": "stream",
     "text": [
      "Your selected dataframe has 15 columns.\n",
      "There are 2 columns that have missing values.\n"
     ]
    },
    {
     "data": {
      "text/html": [
       "<div>\n",
       "<style scoped>\n",
       "    .dataframe tbody tr th:only-of-type {\n",
       "        vertical-align: middle;\n",
       "    }\n",
       "\n",
       "    .dataframe tbody tr th {\n",
       "        vertical-align: top;\n",
       "    }\n",
       "\n",
       "    .dataframe thead th {\n",
       "        text-align: right;\n",
       "    }\n",
       "</style>\n",
       "<table border=\"1\" class=\"dataframe\">\n",
       "  <thead>\n",
       "    <tr style=\"text-align: right;\">\n",
       "      <th></th>\n",
       "      <th>Missing Values</th>\n",
       "      <th>% of Total Values</th>\n",
       "    </tr>\n",
       "  </thead>\n",
       "  <tbody>\n",
       "    <tr>\n",
       "      <th>genero</th>\n",
       "      <td>142829</td>\n",
       "      <td>24.8</td>\n",
       "    </tr>\n",
       "    <tr>\n",
       "      <th>edad</th>\n",
       "      <td>121511</td>\n",
       "      <td>21.1</td>\n",
       "    </tr>\n",
       "  </tbody>\n",
       "</table>\n",
       "</div>"
      ],
      "text/plain": [
       "        Missing Values  % of Total Values\n",
       "genero          142829               24.8\n",
       "edad            121511               21.1"
      ]
     },
     "execution_count": 16,
     "metadata": {},
     "output_type": "execute_result"
    }
   ],
   "source": [
    "# chequeo valores faltantes\n",
    "dsimp.missing_values_table(df_2_sin_dup)"
   ]
  },
  {
   "cell_type": "code",
   "execution_count": 17,
   "id": "45e08474",
   "metadata": {},
   "outputs": [
    {
     "data": {
      "text/plain": [
       "0"
      ]
     },
     "execution_count": 17,
     "metadata": {},
     "output_type": "execute_result"
    }
   ],
   "source": [
    "# ya no tengo filas duplicadas\n",
    "df_2_sin_dup[columns_ok].duplicated().sum()"
   ]
  },
  {
   "cell_type": "code",
   "execution_count": 18,
   "id": "7ca73c03",
   "metadata": {},
   "outputs": [],
   "source": [
    "# separo los dni que tienen valores nulos\n",
    "dni_gen_null = df_2_sin_dup.loc[df_2_sin_dup['genero'].isnull(), 'dni']\n",
    "dni_edad_null = df_2_sin_dup.loc[df_2_sin_dup['edad'].isnull(), 'dni']"
   ]
  },
  {
   "cell_type": "markdown",
   "id": "2d1a5b5b",
   "metadata": {},
   "source": [
    "### Busco completar el genero que sigue en NAN"
   ]
  },
  {
   "cell_type": "code",
   "execution_count": 19,
   "id": "1d8a1da2",
   "metadata": {},
   "outputs": [
    {
     "data": {
      "text/html": [
       "<div>\n",
       "<style scoped>\n",
       "    .dataframe tbody tr th:only-of-type {\n",
       "        vertical-align: middle;\n",
       "    }\n",
       "\n",
       "    .dataframe tbody tr th {\n",
       "        vertical-align: top;\n",
       "    }\n",
       "\n",
       "    .dataframe thead th {\n",
       "        text-align: right;\n",
       "    }\n",
       "</style>\n",
       "<table border=\"1\" class=\"dataframe\">\n",
       "  <thead>\n",
       "    <tr style=\"text-align: right;\">\n",
       "      <th></th>\n",
       "      <th>fecha_pago</th>\n",
       "      <th>vencimiento</th>\n",
       "      <th>tipo_prestamo</th>\n",
       "      <th>numero_prestamo</th>\n",
       "      <th>dni</th>\n",
       "      <th>total_prestamo</th>\n",
       "      <th>total_cuotas</th>\n",
       "      <th>numero_cuota</th>\n",
       "      <th>porcentaje_de_cuotas_faltantes</th>\n",
       "      <th>pago</th>\n",
       "      <th>porcentaje_de_cuota_sobre_prestamo</th>\n",
       "      <th>genero</th>\n",
       "      <th>edad</th>\n",
       "      <th>paga_en_termino</th>\n",
       "      <th>refinanciado</th>\n",
       "    </tr>\n",
       "  </thead>\n",
       "  <tbody>\n",
       "  </tbody>\n",
       "</table>\n",
       "</div>"
      ],
      "text/plain": [
       "Empty DataFrame\n",
       "Columns: [fecha_pago, vencimiento, tipo_prestamo, numero_prestamo, dni, total_prestamo, total_cuotas, numero_cuota, porcentaje_de_cuotas_faltantes, pago, porcentaje_de_cuota_sobre_prestamo, genero, edad, paga_en_termino, refinanciado]\n",
       "Index: []"
      ]
     },
     "execution_count": 19,
     "metadata": {},
     "output_type": "execute_result"
    }
   ],
   "source": [
    "# trato de ver si puedo traer el genero del dni\n",
    "df.loc[(df['dni'].isin(dni_gen_null)) & (~df['genero'].isnull())]"
   ]
  },
  {
   "cell_type": "markdown",
   "id": "ff9557b2",
   "metadata": {},
   "source": [
    "### Busco completar la edad que sigue en NAN"
   ]
  },
  {
   "cell_type": "code",
   "execution_count": 20,
   "id": "37a948c6",
   "metadata": {},
   "outputs": [
    {
     "data": {
      "text/html": [
       "<div>\n",
       "<style scoped>\n",
       "    .dataframe tbody tr th:only-of-type {\n",
       "        vertical-align: middle;\n",
       "    }\n",
       "\n",
       "    .dataframe tbody tr th {\n",
       "        vertical-align: top;\n",
       "    }\n",
       "\n",
       "    .dataframe thead th {\n",
       "        text-align: right;\n",
       "    }\n",
       "</style>\n",
       "<table border=\"1\" class=\"dataframe\">\n",
       "  <thead>\n",
       "    <tr style=\"text-align: right;\">\n",
       "      <th></th>\n",
       "      <th>fecha_pago</th>\n",
       "      <th>vencimiento</th>\n",
       "      <th>tipo_prestamo</th>\n",
       "      <th>numero_prestamo</th>\n",
       "      <th>dni</th>\n",
       "      <th>total_prestamo</th>\n",
       "      <th>total_cuotas</th>\n",
       "      <th>numero_cuota</th>\n",
       "      <th>porcentaje_de_cuotas_faltantes</th>\n",
       "      <th>pago</th>\n",
       "      <th>porcentaje_de_cuota_sobre_prestamo</th>\n",
       "      <th>genero</th>\n",
       "      <th>edad</th>\n",
       "      <th>paga_en_termino</th>\n",
       "      <th>refinanciado</th>\n",
       "    </tr>\n",
       "  </thead>\n",
       "  <tbody>\n",
       "  </tbody>\n",
       "</table>\n",
       "</div>"
      ],
      "text/plain": [
       "Empty DataFrame\n",
       "Columns: [fecha_pago, vencimiento, tipo_prestamo, numero_prestamo, dni, total_prestamo, total_cuotas, numero_cuota, porcentaje_de_cuotas_faltantes, pago, porcentaje_de_cuota_sobre_prestamo, genero, edad, paga_en_termino, refinanciado]\n",
       "Index: []"
      ]
     },
     "execution_count": 20,
     "metadata": {},
     "output_type": "execute_result"
    }
   ],
   "source": [
    "# trato de ver si puedo traer la edad del los dni faltantes buscandolos en el dataset  original\n",
    "df.loc[(df['dni'].isin(dni_edad_null)) & (~df['edad'].isnull())]"
   ]
  },
  {
   "cell_type": "code",
   "execution_count": 21,
   "id": "49ac1df3",
   "metadata": {},
   "outputs": [],
   "source": [
    "# No puedo completar las filas asi que las saco\n",
    "df_3_sin_nan = df_2_sin_dup.dropna()"
   ]
  },
  {
   "cell_type": "code",
   "execution_count": 22,
   "id": "1751ecb7",
   "metadata": {},
   "outputs": [
    {
     "name": "stdout",
     "output_type": "stream",
     "text": [
      "Your selected dataframe has 15 columns.\n",
      "There are 0 columns that have missing values.\n"
     ]
    },
    {
     "data": {
      "text/html": [
       "<div>\n",
       "<style scoped>\n",
       "    .dataframe tbody tr th:only-of-type {\n",
       "        vertical-align: middle;\n",
       "    }\n",
       "\n",
       "    .dataframe tbody tr th {\n",
       "        vertical-align: top;\n",
       "    }\n",
       "\n",
       "    .dataframe thead th {\n",
       "        text-align: right;\n",
       "    }\n",
       "</style>\n",
       "<table border=\"1\" class=\"dataframe\">\n",
       "  <thead>\n",
       "    <tr style=\"text-align: right;\">\n",
       "      <th></th>\n",
       "      <th>Missing Values</th>\n",
       "      <th>% of Total Values</th>\n",
       "    </tr>\n",
       "  </thead>\n",
       "  <tbody>\n",
       "  </tbody>\n",
       "</table>\n",
       "</div>"
      ],
      "text/plain": [
       "Empty DataFrame\n",
       "Columns: [Missing Values, % of Total Values]\n",
       "Index: []"
      ]
     },
     "execution_count": 22,
     "metadata": {},
     "output_type": "execute_result"
    }
   ],
   "source": [
    "# chequeo valores faltantes\n",
    "dsimp.missing_values_table(df_3_sin_nan)"
   ]
  },
  {
   "cell_type": "markdown",
   "id": "0eec5894",
   "metadata": {},
   "source": [
    "# 3. DATA FORMATING"
   ]
  },
  {
   "cell_type": "code",
   "execution_count": 23,
   "id": "109b66ac",
   "metadata": {},
   "outputs": [],
   "source": [
    "df_4_parsed = df_3_sin_nan.copy()"
   ]
  },
  {
   "cell_type": "code",
   "execution_count": 24,
   "id": "3da56392",
   "metadata": {},
   "outputs": [
    {
     "name": "stdout",
     "output_type": "stream",
     "text": [
      "<class 'pandas.core.frame.DataFrame'>\n",
      "Int64Index: 395516 entries, 0 to 575915\n",
      "Data columns (total 15 columns):\n",
      " #   Column                              Non-Null Count   Dtype  \n",
      "---  ------                              --------------   -----  \n",
      " 0   fecha_pago                          395516 non-null  object \n",
      " 1   total_cuotas                        395516 non-null  int64  \n",
      " 2   numero_cuota                        395516 non-null  int64  \n",
      " 3   dni                                 395516 non-null  float64\n",
      " 4   pago                                395516 non-null  object \n",
      " 5   porcentaje_de_cuota_sobre_prestamo  395516 non-null  object \n",
      " 6   refinanciado                        395516 non-null  int64  \n",
      " 7   numero_prestamo                     395516 non-null  int64  \n",
      " 8   total_prestamo                      395516 non-null  object \n",
      " 9   tipo_prestamo                       395516 non-null  int64  \n",
      " 10  porcentaje_de_cuotas_faltantes      395516 non-null  object \n",
      " 11  vencimiento                         395516 non-null  object \n",
      " 12  paga_en_termino                     395516 non-null  int64  \n",
      " 13  genero                              395516 non-null  object \n",
      " 14  edad                                395516 non-null  float64\n",
      "dtypes: float64(2), int64(6), object(7)\n",
      "memory usage: 48.3+ MB\n"
     ]
    }
   ],
   "source": [
    "df_4_parsed.info()"
   ]
  },
  {
   "cell_type": "markdown",
   "id": "716252e8",
   "metadata": {},
   "source": [
    " ### Análisis de los tipo de de columna"
   ]
  },
  {
   "cell_type": "code",
   "execution_count": 25,
   "id": "0193f6c3",
   "metadata": {},
   "outputs": [
    {
     "data": {
      "text/plain": [
       "Index(['fecha_pago', 'pago', 'porcentaje_de_cuota_sobre_prestamo',\n",
       "       'total_prestamo', 'porcentaje_de_cuotas_faltantes', 'vencimiento',\n",
       "       'genero'],\n",
       "      dtype='object')"
      ]
     },
     "execution_count": 25,
     "metadata": {},
     "output_type": "execute_result"
    }
   ],
   "source": [
    "# Columnas que son de tipo objeto\n",
    "df_4_parsed.select_dtypes(include=\"object\").columns"
   ]
  },
  {
   "cell_type": "code",
   "execution_count": 26,
   "id": "fd68a559",
   "metadata": {},
   "outputs": [
    {
     "data": {
      "text/plain": [
       "Index(['dni', 'edad'], dtype='object')"
      ]
     },
     "execution_count": 26,
     "metadata": {},
     "output_type": "execute_result"
    }
   ],
   "source": [
    "# Columnas que son de tipo float\n",
    "df_4_parsed.select_dtypes(include=\"float\").columns"
   ]
  },
  {
   "cell_type": "code",
   "execution_count": 27,
   "id": "eacf81b5",
   "metadata": {},
   "outputs": [
    {
     "data": {
      "text/plain": [
       "Index([], dtype='object')"
      ]
     },
     "execution_count": 27,
     "metadata": {},
     "output_type": "execute_result"
    }
   ],
   "source": [
    "# Columnas que son de tipo int\n",
    "df_4_parsed.select_dtypes(include=\"int\").columns"
   ]
  },
  {
   "cell_type": "markdown",
   "id": "543fe108",
   "metadata": {},
   "source": [
    "### Parseo de columnas str a float"
   ]
  },
  {
   "cell_type": "code",
   "execution_count": 28,
   "id": "de900a8a",
   "metadata": {},
   "outputs": [],
   "source": [
    "# Parceo a tipo float\n",
    "columns_to_float = ['pago', 'total_prestamo', 'porcentaje_de_cuotas_faltantes',  'porcentaje_de_cuota_sobre_prestamo']\n",
    "for column in columns_to_float:\n",
    "    df_4_parsed[column] = df_3_sin_nan[column].str.replace(',','.').astype('float')"
   ]
  },
  {
   "cell_type": "code",
   "execution_count": 29,
   "id": "cb1fb2f6",
   "metadata": {},
   "outputs": [
    {
     "name": "stdout",
     "output_type": "stream",
     "text": [
      "<class 'pandas.core.frame.DataFrame'>\n",
      "Int64Index: 395516 entries, 0 to 575915\n",
      "Data columns (total 4 columns):\n",
      " #   Column                              Non-Null Count   Dtype  \n",
      "---  ------                              --------------   -----  \n",
      " 0   pago                                395516 non-null  float64\n",
      " 1   total_prestamo                      395516 non-null  float64\n",
      " 2   porcentaje_de_cuotas_faltantes      395516 non-null  float64\n",
      " 3   porcentaje_de_cuota_sobre_prestamo  395516 non-null  float64\n",
      "dtypes: float64(4)\n",
      "memory usage: 15.1 MB\n"
     ]
    }
   ],
   "source": [
    "df_4_parsed[columns_to_float].info()"
   ]
  },
  {
   "cell_type": "code",
   "execution_count": 30,
   "id": "c47f2130",
   "metadata": {},
   "outputs": [
    {
     "data": {
      "text/html": [
       "<div>\n",
       "<style scoped>\n",
       "    .dataframe tbody tr th:only-of-type {\n",
       "        vertical-align: middle;\n",
       "    }\n",
       "\n",
       "    .dataframe tbody tr th {\n",
       "        vertical-align: top;\n",
       "    }\n",
       "\n",
       "    .dataframe thead th {\n",
       "        text-align: right;\n",
       "    }\n",
       "</style>\n",
       "<table border=\"1\" class=\"dataframe\">\n",
       "  <thead>\n",
       "    <tr style=\"text-align: right;\">\n",
       "      <th></th>\n",
       "      <th>pago</th>\n",
       "      <th>total_prestamo</th>\n",
       "      <th>porcentaje_de_cuotas_faltantes</th>\n",
       "      <th>porcentaje_de_cuota_sobre_prestamo</th>\n",
       "    </tr>\n",
       "  </thead>\n",
       "  <tbody>\n",
       "    <tr>\n",
       "      <th>count</th>\n",
       "      <td>395516.00000</td>\n",
       "      <td>395516.00000</td>\n",
       "      <td>395516.00000</td>\n",
       "      <td>395516.00000</td>\n",
       "    </tr>\n",
       "    <tr>\n",
       "      <th>mean</th>\n",
       "      <td>5613.99243</td>\n",
       "      <td>207312.16066</td>\n",
       "      <td>0.69413</td>\n",
       "      <td>0.75141</td>\n",
       "    </tr>\n",
       "    <tr>\n",
       "      <th>std</th>\n",
       "      <td>122692.01370</td>\n",
       "      <td>439371.30052</td>\n",
       "      <td>0.21966</td>\n",
       "      <td>4.72712</td>\n",
       "    </tr>\n",
       "    <tr>\n",
       "      <th>min</th>\n",
       "      <td>1.01000</td>\n",
       "      <td>94.74000</td>\n",
       "      <td>0.00000</td>\n",
       "      <td>0.00000</td>\n",
       "    </tr>\n",
       "    <tr>\n",
       "      <th>25%</th>\n",
       "      <td>58.04000</td>\n",
       "      <td>20001.68000</td>\n",
       "      <td>0.59000</td>\n",
       "      <td>0.23000</td>\n",
       "    </tr>\n",
       "    <tr>\n",
       "      <th>50%</th>\n",
       "      <td>201.81000</td>\n",
       "      <td>66939.97000</td>\n",
       "      <td>0.72000</td>\n",
       "      <td>0.30000</td>\n",
       "    </tr>\n",
       "    <tr>\n",
       "      <th>75%</th>\n",
       "      <td>453.00000</td>\n",
       "      <td>152827.93000</td>\n",
       "      <td>0.86000</td>\n",
       "      <td>0.40000</td>\n",
       "    </tr>\n",
       "    <tr>\n",
       "      <th>max</th>\n",
       "      <td>6680660.81000</td>\n",
       "      <td>7951994.75000</td>\n",
       "      <td>1.00000</td>\n",
       "      <td>105.56000</td>\n",
       "    </tr>\n",
       "  </tbody>\n",
       "</table>\n",
       "</div>"
      ],
      "text/plain": [
       "                pago total_prestamo porcentaje_de_cuotas_faltantes  \\\n",
       "count   395516.00000   395516.00000                   395516.00000   \n",
       "mean      5613.99243   207312.16066                        0.69413   \n",
       "std     122692.01370   439371.30052                        0.21966   \n",
       "min          1.01000       94.74000                        0.00000   \n",
       "25%         58.04000    20001.68000                        0.59000   \n",
       "50%        201.81000    66939.97000                        0.72000   \n",
       "75%        453.00000   152827.93000                        0.86000   \n",
       "max    6680660.81000  7951994.75000                        1.00000   \n",
       "\n",
       "      porcentaje_de_cuota_sobre_prestamo  \n",
       "count                       395516.00000  \n",
       "mean                             0.75141  \n",
       "std                              4.72712  \n",
       "min                              0.00000  \n",
       "25%                              0.23000  \n",
       "50%                              0.30000  \n",
       "75%                              0.40000  \n",
       "max                            105.56000  "
      ]
     },
     "execution_count": 30,
     "metadata": {},
     "output_type": "execute_result"
    }
   ],
   "source": [
    "df_4_parsed[columns_to_float].describe().apply(lambda col: col.apply('{0:.5f}'.format))"
   ]
  },
  {
   "cell_type": "markdown",
   "id": "2bd56db5",
   "metadata": {},
   "source": [
    "### Parseo de columnas str a date"
   ]
  },
  {
   "cell_type": "code",
   "execution_count": 31,
   "id": "54816273",
   "metadata": {},
   "outputs": [],
   "source": [
    "# Se convierten las columnas de tipo object a tipo date \n",
    "columns_to_dates = ['fecha_pago', 'vencimiento']\n",
    "df_4_parsed[columns_to_dates] =df_4_parsed[columns_to_dates].astype('datetime64[ns]')"
   ]
  },
  {
   "cell_type": "markdown",
   "id": "0e24cd70",
   "metadata": {},
   "source": [
    "### Formato final"
   ]
  },
  {
   "cell_type": "code",
   "execution_count": 32,
   "id": "b9e03baa",
   "metadata": {},
   "outputs": [
    {
     "name": "stdout",
     "output_type": "stream",
     "text": [
      "<class 'pandas.core.frame.DataFrame'>\n",
      "Int64Index: 395516 entries, 0 to 575915\n",
      "Data columns (total 15 columns):\n",
      " #   Column                              Non-Null Count   Dtype         \n",
      "---  ------                              --------------   -----         \n",
      " 0   fecha_pago                          395516 non-null  datetime64[ns]\n",
      " 1   total_cuotas                        395516 non-null  int64         \n",
      " 2   numero_cuota                        395516 non-null  int64         \n",
      " 3   dni                                 395516 non-null  float64       \n",
      " 4   pago                                395516 non-null  float64       \n",
      " 5   porcentaje_de_cuota_sobre_prestamo  395516 non-null  float64       \n",
      " 6   refinanciado                        395516 non-null  int64         \n",
      " 7   numero_prestamo                     395516 non-null  int64         \n",
      " 8   total_prestamo                      395516 non-null  float64       \n",
      " 9   tipo_prestamo                       395516 non-null  int64         \n",
      " 10  porcentaje_de_cuotas_faltantes      395516 non-null  float64       \n",
      " 11  vencimiento                         395516 non-null  datetime64[ns]\n",
      " 12  paga_en_termino                     395516 non-null  int64         \n",
      " 13  genero                              395516 non-null  object        \n",
      " 14  edad                                395516 non-null  float64       \n",
      "dtypes: datetime64[ns](2), float64(6), int64(6), object(1)\n",
      "memory usage: 48.3+ MB\n"
     ]
    }
   ],
   "source": [
    "df_4_parsed.info()"
   ]
  },
  {
   "cell_type": "markdown",
   "id": "4150bad5",
   "metadata": {
    "tags": []
   },
   "source": [
    "# 4. EDA"
   ]
  },
  {
   "cell_type": "markdown",
   "id": "10576bf8",
   "metadata": {},
   "source": [
    "## Analisis variable objetivo"
   ]
  },
  {
   "cell_type": "markdown",
   "id": "ca97064d",
   "metadata": {},
   "source": [
    "Primero se inicia analizando la variable target para analizar si se encuentra balanceado el data set. Observamos que sigue una distribución uniforme, con lo cual no vamos a necesitar recurrir a SMOTE para balancearlo. Concluimos que:\n",
    "\n",
    "* El dataset se encuentra balanceado\n",
    "* No se observa presencia de anomalias o outliers"
   ]
  },
  {
   "cell_type": "code",
   "execution_count": 33,
   "id": "bc003dc5",
   "metadata": {},
   "outputs": [
    {
     "data": {
      "text/plain": [
       "Text(0.5, 1.0, 'Balance de la variable objetivo \"Paga_en_Termino\"')"
      ]
     },
     "execution_count": 33,
     "metadata": {},
     "output_type": "execute_result"
    },
    {
     "data": {
      "image/png": "[encoded data removed]",
      "text/plain": [
       "<Figure size 432x288 with 1 Axes>"
      ]
     },
     "metadata": {
      "needs_background": "light"
     },
     "output_type": "display_data"
    }
   ],
   "source": [
    "# Grafico\n",
    "df_4_parsed['paga_en_termino'].value_counts().plot(kind='bar')\n",
    "# Seteos del gráfico\n",
    "plt.style.use('fivethirtyeight')\n",
    "plt.xlabel('clases')\n",
    "plt.ylabel ('cantidad')\n",
    "plt.title('Balance de la variable objetivo \"Paga_en_Termino\"')"
   ]
  },
  {
   "cell_type": "markdown",
   "id": "c3a209d5",
   "metadata": {},
   "source": [
    "## Análisis de variables  "
   ]
  },
  {
   "cell_type": "code",
   "execution_count": 34,
   "id": "cbe3e806",
   "metadata": {},
   "outputs": [
    {
     "data": {
      "text/plain": [
       "Index(['fecha_pago', 'total_cuotas', 'numero_cuota', 'dni', 'pago',\n",
       "       'porcentaje_de_cuota_sobre_prestamo', 'refinanciado', 'numero_prestamo',\n",
       "       'total_prestamo', 'tipo_prestamo', 'porcentaje_de_cuotas_faltantes',\n",
       "       'vencimiento', 'paga_en_termino', 'genero', 'edad'],\n",
       "      dtype='object')"
      ]
     },
     "execution_count": 34,
     "metadata": {},
     "output_type": "execute_result"
    }
   ],
   "source": [
    "df_4_parsed.columns"
   ]
  },
  {
   "cell_type": "code",
   "execution_count": 35,
   "id": "eb843efb",
   "metadata": {},
   "outputs": [],
   "source": [
    "columns_data = ['total_cuotas', 'fecha_pago', 'numero_cuota', 'refinanciado', 'tipo_prestamo', 'pago', 'vencimiento',\n",
    "                'total_prestamo','porcentaje_de_cuota_sobre_prestamo', 'paga_en_termino', 'porcentaje_de_cuotas_faltantes',  \n",
    "               'genero', 'edad']"
   ]
  },
  {
   "cell_type": "code",
   "execution_count": 36,
   "id": "1445d15e",
   "metadata": {},
   "outputs": [
    {
     "data": {
      "text/html": [
       "<div>\n",
       "<style scoped>\n",
       "    .dataframe tbody tr th:only-of-type {\n",
       "        vertical-align: middle;\n",
       "    }\n",
       "\n",
       "    .dataframe tbody tr th {\n",
       "        vertical-align: top;\n",
       "    }\n",
       "\n",
       "    .dataframe thead th {\n",
       "        text-align: right;\n",
       "    }\n",
       "</style>\n",
       "<table border=\"1\" class=\"dataframe\">\n",
       "  <thead>\n",
       "    <tr style=\"text-align: right;\">\n",
       "      <th></th>\n",
       "      <th>fecha_pago</th>\n",
       "      <th>total_cuotas</th>\n",
       "      <th>numero_cuota</th>\n",
       "      <th>dni</th>\n",
       "      <th>pago</th>\n",
       "      <th>porcentaje_de_cuota_sobre_prestamo</th>\n",
       "      <th>refinanciado</th>\n",
       "      <th>numero_prestamo</th>\n",
       "      <th>total_prestamo</th>\n",
       "      <th>tipo_prestamo</th>\n",
       "      <th>porcentaje_de_cuotas_faltantes</th>\n",
       "      <th>vencimiento</th>\n",
       "      <th>paga_en_termino</th>\n",
       "      <th>genero</th>\n",
       "      <th>edad</th>\n",
       "    </tr>\n",
       "  </thead>\n",
       "  <tbody>\n",
       "    <tr>\n",
       "      <th>count</th>\n",
       "      <td>395516</td>\n",
       "      <td>395516.000000</td>\n",
       "      <td>395516.000000</td>\n",
       "      <td>3.955160e+05</td>\n",
       "      <td>3.955160e+05</td>\n",
       "      <td>395516.000000</td>\n",
       "      <td>395516.000000</td>\n",
       "      <td>3.955160e+05</td>\n",
       "      <td>3.955160e+05</td>\n",
       "      <td>395516.000000</td>\n",
       "      <td>395516.000000</td>\n",
       "      <td>395516</td>\n",
       "      <td>395516.000000</td>\n",
       "      <td>395516</td>\n",
       "      <td>395516.000000</td>\n",
       "    </tr>\n",
       "    <tr>\n",
       "      <th>unique</th>\n",
       "      <td>1722</td>\n",
       "      <td>NaN</td>\n",
       "      <td>NaN</td>\n",
       "      <td>NaN</td>\n",
       "      <td>NaN</td>\n",
       "      <td>NaN</td>\n",
       "      <td>NaN</td>\n",
       "      <td>NaN</td>\n",
       "      <td>NaN</td>\n",
       "      <td>NaN</td>\n",
       "      <td>NaN</td>\n",
       "      <td>920</td>\n",
       "      <td>NaN</td>\n",
       "      <td>2</td>\n",
       "      <td>NaN</td>\n",
       "    </tr>\n",
       "    <tr>\n",
       "      <th>top</th>\n",
       "      <td>2018-01-22 00:00:00</td>\n",
       "      <td>NaN</td>\n",
       "      <td>NaN</td>\n",
       "      <td>NaN</td>\n",
       "      <td>NaN</td>\n",
       "      <td>NaN</td>\n",
       "      <td>NaN</td>\n",
       "      <td>NaN</td>\n",
       "      <td>NaN</td>\n",
       "      <td>NaN</td>\n",
       "      <td>NaN</td>\n",
       "      <td>2018-11-20 00:00:00</td>\n",
       "      <td>NaN</td>\n",
       "      <td>Masculino</td>\n",
       "      <td>NaN</td>\n",
       "    </tr>\n",
       "    <tr>\n",
       "      <th>freq</th>\n",
       "      <td>2062</td>\n",
       "      <td>NaN</td>\n",
       "      <td>NaN</td>\n",
       "      <td>NaN</td>\n",
       "      <td>NaN</td>\n",
       "      <td>NaN</td>\n",
       "      <td>NaN</td>\n",
       "      <td>NaN</td>\n",
       "      <td>NaN</td>\n",
       "      <td>NaN</td>\n",
       "      <td>NaN</td>\n",
       "      <td>6413</td>\n",
       "      <td>NaN</td>\n",
       "      <td>214486</td>\n",
       "      <td>NaN</td>\n",
       "    </tr>\n",
       "    <tr>\n",
       "      <th>first</th>\n",
       "      <td>2015-01-02 00:00:00</td>\n",
       "      <td>NaN</td>\n",
       "      <td>NaN</td>\n",
       "      <td>NaN</td>\n",
       "      <td>NaN</td>\n",
       "      <td>NaN</td>\n",
       "      <td>NaN</td>\n",
       "      <td>NaN</td>\n",
       "      <td>NaN</td>\n",
       "      <td>NaN</td>\n",
       "      <td>NaN</td>\n",
       "      <td>1997-09-22 00:00:00</td>\n",
       "      <td>NaN</td>\n",
       "      <td>NaN</td>\n",
       "      <td>NaN</td>\n",
       "    </tr>\n",
       "    <tr>\n",
       "      <th>last</th>\n",
       "      <td>2019-12-31 00:00:00</td>\n",
       "      <td>NaN</td>\n",
       "      <td>NaN</td>\n",
       "      <td>NaN</td>\n",
       "      <td>NaN</td>\n",
       "      <td>NaN</td>\n",
       "      <td>NaN</td>\n",
       "      <td>NaN</td>\n",
       "      <td>NaN</td>\n",
       "      <td>NaN</td>\n",
       "      <td>NaN</td>\n",
       "      <td>2025-11-20 00:00:00</td>\n",
       "      <td>NaN</td>\n",
       "      <td>NaN</td>\n",
       "      <td>NaN</td>\n",
       "    </tr>\n",
       "    <tr>\n",
       "      <th>mean</th>\n",
       "      <td>NaN</td>\n",
       "      <td>277.117313</td>\n",
       "      <td>76.516356</td>\n",
       "      <td>2.854829e+07</td>\n",
       "      <td>5.613992e+03</td>\n",
       "      <td>0.751407</td>\n",
       "      <td>0.019236</td>\n",
       "      <td>7.231048e+06</td>\n",
       "      <td>2.073122e+05</td>\n",
       "      <td>738.070306</td>\n",
       "      <td>0.694132</td>\n",
       "      <td>NaN</td>\n",
       "      <td>0.569304</td>\n",
       "      <td>NaN</td>\n",
       "      <td>54.061196</td>\n",
       "    </tr>\n",
       "    <tr>\n",
       "      <th>std</th>\n",
       "      <td>NaN</td>\n",
       "      <td>115.460061</td>\n",
       "      <td>55.638796</td>\n",
       "      <td>2.798373e+07</td>\n",
       "      <td>1.226920e+05</td>\n",
       "      <td>4.727115</td>\n",
       "      <td>0.137352</td>\n",
       "      <td>4.739496e+06</td>\n",
       "      <td>4.393713e+05</td>\n",
       "      <td>334.205292</td>\n",
       "      <td>0.219655</td>\n",
       "      <td>NaN</td>\n",
       "      <td>0.495174</td>\n",
       "      <td>NaN</td>\n",
       "      <td>15.488148</td>\n",
       "    </tr>\n",
       "    <tr>\n",
       "      <th>min</th>\n",
       "      <td>NaN</td>\n",
       "      <td>1.000000</td>\n",
       "      <td>1.000000</td>\n",
       "      <td>9.000000e+00</td>\n",
       "      <td>1.010000e+00</td>\n",
       "      <td>0.000000</td>\n",
       "      <td>0.000000</td>\n",
       "      <td>1.070590e+05</td>\n",
       "      <td>9.474000e+01</td>\n",
       "      <td>1.000000</td>\n",
       "      <td>0.000000</td>\n",
       "      <td>NaN</td>\n",
       "      <td>0.000000</td>\n",
       "      <td>NaN</td>\n",
       "      <td>3.000000</td>\n",
       "    </tr>\n",
       "    <tr>\n",
       "      <th>25%</th>\n",
       "      <td>NaN</td>\n",
       "      <td>188.000000</td>\n",
       "      <td>27.000000</td>\n",
       "      <td>1.213174e+07</td>\n",
       "      <td>5.804000e+01</td>\n",
       "      <td>0.230000</td>\n",
       "      <td>0.000000</td>\n",
       "      <td>1.093507e+06</td>\n",
       "      <td>2.000168e+04</td>\n",
       "      <td>480.000000</td>\n",
       "      <td>0.590000</td>\n",
       "      <td>NaN</td>\n",
       "      <td>0.000000</td>\n",
       "      <td>NaN</td>\n",
       "      <td>43.000000</td>\n",
       "    </tr>\n",
       "    <tr>\n",
       "      <th>50%</th>\n",
       "      <td>NaN</td>\n",
       "      <td>360.000000</td>\n",
       "      <td>69.000000</td>\n",
       "      <td>2.001971e+07</td>\n",
       "      <td>2.018100e+02</td>\n",
       "      <td>0.300000</td>\n",
       "      <td>0.000000</td>\n",
       "      <td>1.099107e+07</td>\n",
       "      <td>6.693997e+04</td>\n",
       "      <td>938.000000</td>\n",
       "      <td>0.720000</td>\n",
       "      <td>NaN</td>\n",
       "      <td>1.000000</td>\n",
       "      <td>NaN</td>\n",
       "      <td>50.000000</td>\n",
       "    </tr>\n",
       "    <tr>\n",
       "      <th>75%</th>\n",
       "      <td>NaN</td>\n",
       "      <td>360.000000</td>\n",
       "      <td>120.000000</td>\n",
       "      <td>2.782038e+07</td>\n",
       "      <td>4.530000e+02</td>\n",
       "      <td>0.400000</td>\n",
       "      <td>0.000000</td>\n",
       "      <td>1.099775e+07</td>\n",
       "      <td>1.528279e+05</td>\n",
       "      <td>955.000000</td>\n",
       "      <td>0.860000</td>\n",
       "      <td>NaN</td>\n",
       "      <td>1.000000</td>\n",
       "      <td>NaN</td>\n",
       "      <td>63.000000</td>\n",
       "    </tr>\n",
       "    <tr>\n",
       "      <th>max</th>\n",
       "      <td>NaN</td>\n",
       "      <td>999.000000</td>\n",
       "      <td>360.000000</td>\n",
       "      <td>9.584585e+07</td>\n",
       "      <td>6.680661e+06</td>\n",
       "      <td>105.560000</td>\n",
       "      <td>1.000000</td>\n",
       "      <td>2.000146e+07</td>\n",
       "      <td>7.951995e+06</td>\n",
       "      <td>998.000000</td>\n",
       "      <td>1.000000</td>\n",
       "      <td>NaN</td>\n",
       "      <td>1.000000</td>\n",
       "      <td>NaN</td>\n",
       "      <td>143.000000</td>\n",
       "    </tr>\n",
       "  </tbody>\n",
       "</table>\n",
       "</div>"
      ],
      "text/plain": [
       "                 fecha_pago   total_cuotas   numero_cuota           dni  \\\n",
       "count                395516  395516.000000  395516.000000  3.955160e+05   \n",
       "unique                 1722            NaN            NaN           NaN   \n",
       "top     2018-01-22 00:00:00            NaN            NaN           NaN   \n",
       "freq                   2062            NaN            NaN           NaN   \n",
       "first   2015-01-02 00:00:00            NaN            NaN           NaN   \n",
       "last    2019-12-31 00:00:00            NaN            NaN           NaN   \n",
       "mean                    NaN     277.117313      76.516356  2.854829e+07   \n",
       "std                     NaN     115.460061      55.638796  2.798373e+07   \n",
       "min                     NaN       1.000000       1.000000  9.000000e+00   \n",
       "25%                     NaN     188.000000      27.000000  1.213174e+07   \n",
       "50%                     NaN     360.000000      69.000000  2.001971e+07   \n",
       "75%                     NaN     360.000000     120.000000  2.782038e+07   \n",
       "max                     NaN     999.000000     360.000000  9.584585e+07   \n",
       "\n",
       "                pago  porcentaje_de_cuota_sobre_prestamo   refinanciado  \\\n",
       "count   3.955160e+05                       395516.000000  395516.000000   \n",
       "unique           NaN                                 NaN            NaN   \n",
       "top              NaN                                 NaN            NaN   \n",
       "freq             NaN                                 NaN            NaN   \n",
       "first            NaN                                 NaN            NaN   \n",
       "last             NaN                                 NaN            NaN   \n",
       "mean    5.613992e+03                            0.751407       0.019236   \n",
       "std     1.226920e+05                            4.727115       0.137352   \n",
       "min     1.010000e+00                            0.000000       0.000000   \n",
       "25%     5.804000e+01                            0.230000       0.000000   \n",
       "50%     2.018100e+02                            0.300000       0.000000   \n",
       "75%     4.530000e+02                            0.400000       0.000000   \n",
       "max     6.680661e+06                          105.560000       1.000000   \n",
       "\n",
       "        numero_prestamo  total_prestamo  tipo_prestamo  \\\n",
       "count      3.955160e+05    3.955160e+05  395516.000000   \n",
       "unique              NaN             NaN            NaN   \n",
       "top                 NaN             NaN            NaN   \n",
       "freq                NaN             NaN            NaN   \n",
       "first               NaN             NaN            NaN   \n",
       "last                NaN             NaN            NaN   \n",
       "mean       7.231048e+06    2.073122e+05     738.070306   \n",
       "std        4.739496e+06    4.393713e+05     334.205292   \n",
       "min        1.070590e+05    9.474000e+01       1.000000   \n",
       "25%        1.093507e+06    2.000168e+04     480.000000   \n",
       "50%        1.099107e+07    6.693997e+04     938.000000   \n",
       "75%        1.099775e+07    1.528279e+05     955.000000   \n",
       "max        2.000146e+07    7.951995e+06     998.000000   \n",
       "\n",
       "        porcentaje_de_cuotas_faltantes          vencimiento  paga_en_termino  \\\n",
       "count                    395516.000000               395516    395516.000000   \n",
       "unique                             NaN                  920              NaN   \n",
       "top                                NaN  2018-11-20 00:00:00              NaN   \n",
       "freq                               NaN                 6413              NaN   \n",
       "first                              NaN  1997-09-22 00:00:00              NaN   \n",
       "last                               NaN  2025-11-20 00:00:00              NaN   \n",
       "mean                          0.694132                  NaN         0.569304   \n",
       "std                           0.219655                  NaN         0.495174   \n",
       "min                           0.000000                  NaN         0.000000   \n",
       "25%                           0.590000                  NaN         0.000000   \n",
       "50%                           0.720000                  NaN         1.000000   \n",
       "75%                           0.860000                  NaN         1.000000   \n",
       "max                           1.000000                  NaN         1.000000   \n",
       "\n",
       "           genero           edad  \n",
       "count      395516  395516.000000  \n",
       "unique          2            NaN  \n",
       "top     Masculino            NaN  \n",
       "freq       214486            NaN  \n",
       "first         NaN            NaN  \n",
       "last          NaN            NaN  \n",
       "mean          NaN      54.061196  \n",
       "std           NaN      15.488148  \n",
       "min           NaN       3.000000  \n",
       "25%           NaN      43.000000  \n",
       "50%           NaN      50.000000  \n",
       "75%           NaN      63.000000  \n",
       "max           NaN     143.000000  "
      ]
     },
     "execution_count": 36,
     "metadata": {},
     "output_type": "execute_result"
    }
   ],
   "source": [
    "df_4_parsed.describe(include='all')"
   ]
  },
  {
   "cell_type": "code",
   "execution_count": 37,
   "id": "de71a426",
   "metadata": {},
   "outputs": [
    {
     "data": {
      "text/plain": [
       "0         422.07\n",
       "1         220.04\n",
       "2         220.04\n",
       "7         119.98\n",
       "18         90.01\n",
       "           ...  \n",
       "575908     48.37\n",
       "575910     22.21\n",
       "575911    156.74\n",
       "575914    347.91\n",
       "575915      1.34\n",
       "Name: pago, Length: 395516, dtype: float64"
      ]
     },
     "execution_count": 37,
     "metadata": {},
     "output_type": "execute_result"
    }
   ],
   "source": [
    "df_4_parsed.pago"
   ]
  },
  {
   "cell_type": "code",
   "execution_count": 38,
   "id": "d1fc6dff",
   "metadata": {},
   "outputs": [
    {
     "data": {
      "text/plain": [
       "<Figure size 432x288 with 0 Axes>"
      ]
     },
     "metadata": {},
     "output_type": "display_data"
    },
    {
     "data": {
      "image/png": "[encoded data removed]",
      "text/plain": [
       "<Figure size 1440x1440 with 12 Axes>"
      ]
     },
     "metadata": {},
     "output_type": "display_data"
    }
   ],
   "source": [
    "f = plt.figure() \n",
    "df_4_parsed.hist(figsize=(20,20))\n",
    "plt.ticklabel_format(style='plain', axis='x')\n",
    "plt.show()"
   ]
  },
  {
   "cell_type": "markdown",
   "id": "4e251990",
   "metadata": {},
   "source": [
    "### Total cuotas"
   ]
  },
  {
   "cell_type": "code",
   "execution_count": 39,
   "id": "92f173a9",
   "metadata": {},
   "outputs": [
    {
     "data": {
      "text/plain": [
       "<AxesSubplot:>"
      ]
     },
     "execution_count": 39,
     "metadata": {},
     "output_type": "execute_result"
    },
    {
     "data": {
      "image/png": "[encoded data removed]",
      "text/plain": [
       "<Figure size 432x288 with 1 Axes>"
      ]
     },
     "metadata": {},
     "output_type": "display_data"
    }
   ],
   "source": [
    "df_4_parsed['total_cuotas'].hist()"
   ]
  },
  {
   "cell_type": "code",
   "execution_count": 40,
   "id": "e1f07323",
   "metadata": {},
   "outputs": [
    {
     "data": {
      "text/plain": [
       "count    395516.000000\n",
       "mean        277.117313\n",
       "std         115.460061\n",
       "min           1.000000\n",
       "25%         188.000000\n",
       "50%         360.000000\n",
       "75%         360.000000\n",
       "max         999.000000\n",
       "Name: total_cuotas, dtype: float64"
      ]
     },
     "execution_count": 40,
     "metadata": {},
     "output_type": "execute_result"
    }
   ],
   "source": [
    "df_4_parsed['total_cuotas'].describe()"
   ]
  },
  {
   "cell_type": "code",
   "execution_count": 41,
   "id": "f5a297c1",
   "metadata": {},
   "outputs": [
    {
     "data": {
      "text/plain": [
       "{'whiskers': [<matplotlib.lines.Line2D at 0x11e5e82cb80>,\n",
       "  <matplotlib.lines.Line2D at 0x11e5e82cf40>],\n",
       " 'caps': [<matplotlib.lines.Line2D at 0x11e5e82c190>,\n",
       "  <matplotlib.lines.Line2D at 0x11e5e82c760>],\n",
       " 'boxes': [<matplotlib.lines.Line2D at 0x11e5e82c610>],\n",
       " 'medians': [<matplotlib.lines.Line2D at 0x11e5f26d0d0>],\n",
       " 'fliers': [<matplotlib.lines.Line2D at 0x11e5f26d4c0>],\n",
       " 'means': []}"
      ]
     },
     "execution_count": 41,
     "metadata": {},
     "output_type": "execute_result"
    },
    {
     "data": {
      "image/png": "[encoded data removed]",
      "text/plain": [
       "<Figure size 432x288 with 1 Axes>"
      ]
     },
     "metadata": {},
     "output_type": "display_data"
    }
   ],
   "source": [
    "green_diamond = dict(markerfacecolor='g', marker='D')\n",
    "fig, ax = plt.subplots()\n",
    "ax.set_title('Boxplot total cuotas')\n",
    "ax.boxplot(df_4_parsed['total_cuotas'], flierprops=green_diamond, labels=[\"Edad\"])"
   ]
  },
  {
   "cell_type": "markdown",
   "id": "99fe837a",
   "metadata": {},
   "source": [
    "### Total prestamo"
   ]
  },
  {
   "cell_type": "code",
   "execution_count": 42,
   "id": "05514019",
   "metadata": {},
   "outputs": [
    {
     "data": {
      "text/plain": [
       "<AxesSubplot:>"
      ]
     },
     "execution_count": 42,
     "metadata": {},
     "output_type": "execute_result"
    },
    {
     "data": {
      "image/png": "[encoded data removed]",
      "text/plain": [
       "<Figure size 432x288 with 1 Axes>"
      ]
     },
     "metadata": {},
     "output_type": "display_data"
    }
   ],
   "source": [
    "df_4_parsed['total_prestamo'].hist()"
   ]
  },
  {
   "cell_type": "code",
   "execution_count": 43,
   "id": "11d3e3bd",
   "metadata": {},
   "outputs": [
    {
     "data": {
      "text/plain": [
       "count    395516.0\n",
       "mean     207312.2\n",
       "std      439371.3\n",
       "min          94.7\n",
       "25%       20001.7\n",
       "50%       66940.0\n",
       "75%      152827.9\n",
       "max     7951994.8\n",
       "Name: total_prestamo, dtype: float64"
      ]
     },
     "execution_count": 43,
     "metadata": {},
     "output_type": "execute_result"
    }
   ],
   "source": [
    "pd.options.display.float_format = '{:.1f}'.format\n",
    "df_4_parsed['total_prestamo'].describe()"
   ]
  },
  {
   "cell_type": "code",
   "execution_count": 44,
   "id": "d5352405",
   "metadata": {},
   "outputs": [
    {
     "data": {
      "text/plain": [
       "{'whiskers': [<matplotlib.lines.Line2D at 0x11e544f2370>,\n",
       "  <matplotlib.lines.Line2D at 0x11e544f2c40>],\n",
       " 'caps': [<matplotlib.lines.Line2D at 0x11e544f2af0>,\n",
       "  <matplotlib.lines.Line2D at 0x11e544f20d0>],\n",
       " 'boxes': [<matplotlib.lines.Line2D at 0x11e544f22e0>],\n",
       " 'medians': [<matplotlib.lines.Line2D at 0x11e5f1bc400>],\n",
       " 'fliers': [<matplotlib.lines.Line2D at 0x11e5f1bcb80>],\n",
       " 'means': []}"
      ]
     },
     "execution_count": 44,
     "metadata": {},
     "output_type": "execute_result"
    },
    {
     "data": {
      "image/png": "[encoded data removed]",
      "text/plain": [
       "<Figure size 432x288 with 1 Axes>"
      ]
     },
     "metadata": {},
     "output_type": "display_data"
    }
   ],
   "source": [
    "green_diamond = dict(markerfacecolor='g', marker='D')\n",
    "fig, ax = plt.subplots()\n",
    "ax.set_title('Boxplot total_prestamo')\n",
    "ax.boxplot(df_4_parsed['total_prestamo'], flierprops=green_diamond, labels=[\"Edad\"])"
   ]
  },
  {
   "cell_type": "code",
   "execution_count": 45,
   "id": "bc14a98f",
   "metadata": {},
   "outputs": [
    {
     "ename": "TypeError",
     "evalue": "'AxesSubplot' object is not callable",
     "output_type": "error",
     "traceback": [
      "\u001b[1;31m---------------------------------------------------------------------------\u001b[0m",
      "\u001b[1;31mTypeError\u001b[0m                                 Traceback (most recent call last)",
      "\u001b[1;32m~\\AppData\\Local\\Temp/ipykernel_8412/2698798945.py\u001b[0m in \u001b[0;36m<module>\u001b[1;34m\u001b[0m\n\u001b[0;32m      1\u001b[0m \u001b[0mgreen_diamond\u001b[0m \u001b[1;33m=\u001b[0m \u001b[0mdict\u001b[0m\u001b[1;33m(\u001b[0m\u001b[0mmarkerfacecolor\u001b[0m\u001b[1;33m=\u001b[0m\u001b[1;34m'g'\u001b[0m\u001b[1;33m,\u001b[0m \u001b[0mmarker\u001b[0m\u001b[1;33m=\u001b[0m\u001b[1;34m'D'\u001b[0m\u001b[1;33m)\u001b[0m\u001b[1;33m\u001b[0m\u001b[1;33m\u001b[0m\u001b[0m\n\u001b[0;32m      2\u001b[0m \u001b[0mfig\u001b[0m\u001b[1;33m,\u001b[0m \u001b[0max\u001b[0m \u001b[1;33m=\u001b[0m \u001b[0mplt\u001b[0m\u001b[1;33m.\u001b[0m\u001b[0msubplots\u001b[0m\u001b[1;33m(\u001b[0m\u001b[1;33m)\u001b[0m\u001b[1;33m\u001b[0m\u001b[1;33m\u001b[0m\u001b[0m\n\u001b[1;32m----> 3\u001b[1;33m \u001b[0max\u001b[0m\u001b[1;33m(\u001b[0m\u001b[0mfigsize\u001b[0m\u001b[1;33m=\u001b[0m\u001b[1;33m(\u001b[0m\u001b[1;36m8\u001b[0m\u001b[1;33m,\u001b[0m \u001b[1;36m8\u001b[0m\u001b[1;33m)\u001b[0m\u001b[1;33m)\u001b[0m\u001b[1;33m\u001b[0m\u001b[1;33m\u001b[0m\u001b[0m\n\u001b[0m\u001b[0;32m      4\u001b[0m \u001b[0max\u001b[0m\u001b[1;33m.\u001b[0m\u001b[0mset_title\u001b[0m\u001b[1;33m(\u001b[0m\u001b[1;34m'Boxplot total_prestamo'\u001b[0m\u001b[1;33m)\u001b[0m\u001b[1;33m\u001b[0m\u001b[1;33m\u001b[0m\u001b[0m\n\u001b[0;32m      5\u001b[0m \u001b[0max\u001b[0m\u001b[1;33m.\u001b[0m\u001b[0mticklabel_format\u001b[0m\u001b[1;33m(\u001b[0m\u001b[0museOffset\u001b[0m\u001b[1;33m=\u001b[0m\u001b[1;32mFalse\u001b[0m\u001b[1;33m)\u001b[0m\u001b[1;33m\u001b[0m\u001b[1;33m\u001b[0m\u001b[0m\n",
      "\u001b[1;31mTypeError\u001b[0m: 'AxesSubplot' object is not callable"
     ]
    },
    {
     "data": {
      "image/png": "[encoded data removed]",
      "text/plain": [
       "<Figure size 432x288 with 1 Axes>"
      ]
     },
     "metadata": {},
     "output_type": "display_data"
    }
   ],
   "source": [
    "green_diamond = dict(markerfacecolor='g', marker='D')\n",
    "fig, ax = plt.subplots()\n",
    "ax(figsize=(8, 8))\n",
    "ax.set_title('Boxplot total_prestamo')\n",
    "ax.ticklabel_format(useOffset=False)\n",
    "ax.scatter(y= df_4_parsed['total_prestamo'], x=df_4_parsed['total_prestamo'].index)\n",
    "ax.ticklabel_format(useOffset=False)\n",
    "plt.plot()"
   ]
  },
  {
   "cell_type": "markdown",
   "id": "8451af0f",
   "metadata": {},
   "source": [
    "------------------\n",
    "----"
   ]
  },
  {
   "cell_type": "code",
   "execution_count": 46,
   "id": "b29c05c1",
   "metadata": {},
   "outputs": [
    {
     "ename": "ModuleNotFoundError",
     "evalue": "No module named 'pyod'",
     "output_type": "error",
     "traceback": [
      "\u001b[1;31m---------------------------------------------------------------------------\u001b[0m",
      "\u001b[1;31mModuleNotFoundError\u001b[0m                       Traceback (most recent call last)",
      "\u001b[1;32m<ipython-input-46-e01d6af40d56>\u001b[0m in \u001b[0;36m<module>\u001b[1;34m\u001b[0m\n\u001b[1;32m----> 1\u001b[1;33m \u001b[1;32mfrom\u001b[0m \u001b[0mpyod\u001b[0m\u001b[1;33m.\u001b[0m\u001b[0mmodels\u001b[0m\u001b[1;33m.\u001b[0m\u001b[0mknn\u001b[0m \u001b[1;32mimport\u001b[0m \u001b[0mKNN\u001b[0m\u001b[1;33m\u001b[0m\u001b[1;33m\u001b[0m\u001b[0m\n\u001b[0m\u001b[0;32m      2\u001b[0m \u001b[1;32mimport\u001b[0m \u001b[0mpandas\u001b[0m \u001b[1;32mas\u001b[0m \u001b[0mpd\u001b[0m\u001b[1;33m\u001b[0m\u001b[1;33m\u001b[0m\u001b[0m\n\u001b[0;32m      3\u001b[0m \u001b[1;33m\u001b[0m\u001b[0m\n\u001b[0;32m      4\u001b[0m \u001b[0medades\u001b[0m \u001b[1;33m=\u001b[0m \u001b[0mnp\u001b[0m\u001b[1;33m.\u001b[0m\u001b[0marray\u001b[0m\u001b[1;33m(\u001b[0m\u001b[1;33m[\u001b[0m\u001b[1;36m22\u001b[0m\u001b[1;33m,\u001b[0m\u001b[1;36m22\u001b[0m\u001b[1;33m,\u001b[0m\u001b[1;36m23\u001b[0m\u001b[1;33m,\u001b[0m\u001b[1;36m23\u001b[0m\u001b[1;33m,\u001b[0m\u001b[1;36m23\u001b[0m\u001b[1;33m,\u001b[0m\u001b[1;36m23\u001b[0m\u001b[1;33m,\u001b[0m\u001b[1;36m26\u001b[0m\u001b[1;33m,\u001b[0m\u001b[1;36m27\u001b[0m\u001b[1;33m,\u001b[0m\u001b[1;36m27\u001b[0m\u001b[1;33m,\u001b[0m\u001b[1;36m28\u001b[0m\u001b[1;33m,\u001b[0m\u001b[1;36m30\u001b[0m\u001b[1;33m,\u001b[0m\u001b[1;36m30\u001b[0m\u001b[1;33m,\u001b[0m\u001b[1;36m30\u001b[0m\u001b[1;33m,\u001b[0m\u001b[1;36m30\u001b[0m\u001b[1;33m,\u001b[0m\u001b[1;36m31\u001b[0m\u001b[1;33m,\u001b[0m\u001b[1;36m32\u001b[0m\u001b[1;33m,\u001b[0m\u001b[1;36m33\u001b[0m\u001b[1;33m,\u001b[0m\u001b[1;36m34\u001b[0m\u001b[1;33m,\u001b[0m\u001b[1;36m80\u001b[0m\u001b[1;33m]\u001b[0m\u001b[1;33m)\u001b[0m\u001b[1;33m\u001b[0m\u001b[1;33m\u001b[0m\u001b[0m\n\u001b[0;32m      5\u001b[0m \u001b[0medad_unique\u001b[0m\u001b[1;33m,\u001b[0m \u001b[0mcounts\u001b[0m \u001b[1;33m=\u001b[0m \u001b[0mnp\u001b[0m\u001b[1;33m.\u001b[0m\u001b[0munique\u001b[0m\u001b[1;33m(\u001b[0m\u001b[0medades\u001b[0m\u001b[1;33m,\u001b[0m \u001b[0mreturn_counts\u001b[0m\u001b[1;33m=\u001b[0m\u001b[1;32mTrue\u001b[0m\u001b[1;33m)\u001b[0m\u001b[1;33m\u001b[0m\u001b[1;33m\u001b[0m\u001b[0m\n",
      "\u001b[1;31mModuleNotFoundError\u001b[0m: No module named 'pyod'"
     ]
    }
   ],
   "source": [
    "from pyod.models.knn import KNN\n",
    "import pandas as pd\n",
    " \n",
    "edades = np.array([22,22,23,23,23,23,26,27,27,28,30,30,30,30,31,32,33,34,80])\n",
    "edad_unique, counts = np.unique(edades, return_counts=True)\n",
    "salario_anual_miles = np.array([16,20,15,21,19,17,33,22,31,32,56,30,22,31,30,16,2,22,23])\n",
    "compras_mes = np.array([1,2,1,20,1,0,3,2,3,0,5,3,2,1,0,1,2,2,2])\n",
    "\n",
    "\n",
    "X = pd.DataFrame(data={'edad':edades,'salario':salario_anual_miles, 'compras':compras_mes})\n",
    "X"
   ]
  },
  {
   "cell_type": "code",
   "execution_count": 47,
   "id": "aa1520e5",
   "metadata": {},
   "outputs": [
    {
     "ename": "NameError",
     "evalue": "name 'KNN' is not defined",
     "output_type": "error",
     "traceback": [
      "\u001b[1;31m---------------------------------------------------------------------------\u001b[0m",
      "\u001b[1;31mNameError\u001b[0m                                 Traceback (most recent call last)",
      "\u001b[1;32m<ipython-input-47-ec9c09fff732>\u001b[0m in \u001b[0;36m<module>\u001b[1;34m\u001b[0m\n\u001b[1;32m----> 1\u001b[1;33m \u001b[0mclf\u001b[0m \u001b[1;33m=\u001b[0m \u001b[0mKNN\u001b[0m\u001b[1;33m(\u001b[0m\u001b[0mcontamination\u001b[0m\u001b[1;33m=\u001b[0m\u001b[1;36m0.18\u001b[0m\u001b[1;33m)\u001b[0m\u001b[1;33m\u001b[0m\u001b[1;33m\u001b[0m\u001b[0m\n\u001b[0m\u001b[0;32m      2\u001b[0m \u001b[0mclf\u001b[0m\u001b[1;33m.\u001b[0m\u001b[0mfit\u001b[0m\u001b[1;33m(\u001b[0m\u001b[0mX\u001b[0m\u001b[1;33m)\u001b[0m\u001b[1;33m\u001b[0m\u001b[1;33m\u001b[0m\u001b[0m\n\u001b[0;32m      3\u001b[0m \u001b[0my_pred\u001b[0m \u001b[1;33m=\u001b[0m \u001b[0mclf\u001b[0m\u001b[1;33m.\u001b[0m\u001b[0mpredict\u001b[0m\u001b[1;33m(\u001b[0m\u001b[0mX\u001b[0m\u001b[1;33m)\u001b[0m\u001b[1;33m\u001b[0m\u001b[1;33m\u001b[0m\u001b[0m\n\u001b[0;32m      4\u001b[0m \u001b[0mX\u001b[0m\u001b[1;33m[\u001b[0m\u001b[0my_pred\u001b[0m \u001b[1;33m==\u001b[0m \u001b[1;36m1\u001b[0m\u001b[1;33m]\u001b[0m\u001b[1;33m\u001b[0m\u001b[1;33m\u001b[0m\u001b[0m\n",
      "\u001b[1;31mNameError\u001b[0m: name 'KNN' is not defined"
     ]
    }
   ],
   "source": [
    "clf = KNN(contamination=0.18)\n",
    "clf.fit(X)\n",
    "y_pred = clf.predict(X)\n",
    "X[y_pred == 1]"
   ]
  },
  {
   "cell_type": "code",
   "execution_count": null,
   "id": "58bdf550",
   "metadata": {},
   "outputs": [],
   "source": []
  },
  {
   "cell_type": "markdown",
   "id": "8cae149d",
   "metadata": {},
   "source": [
    "--------\n",
    "-------"
   ]
  },
  {
   "cell_type": "markdown",
   "id": "6b5b4bd5",
   "metadata": {},
   "source": [
    "## Distribución de prestamos entre mujeres, hombres y edades "
   ]
  },
  {
   "cell_type": "code",
   "execution_count": 46,
   "id": "1a65933c",
   "metadata": {},
   "outputs": [
    {
     "name": "stdout",
     "output_type": "stream",
     "text": [
      "<class 'pandas.core.frame.DataFrame'>\n",
      "Int64Index: 395516 entries, 0 to 575915\n",
      "Data columns (total 15 columns):\n",
      " #   Column                              Non-Null Count   Dtype         \n",
      "---  ------                              --------------   -----         \n",
      " 0   fecha_pago                          395516 non-null  datetime64[ns]\n",
      " 1   total_cuotas                        395516 non-null  int64         \n",
      " 2   numero_cuota                        395516 non-null  int64         \n",
      " 3   dni                                 395516 non-null  float64       \n",
      " 4   pago                                395516 non-null  float64       \n",
      " 5   porcentaje_de_cuota_sobre_prestamo  395516 non-null  float64       \n",
      " 6   refinanciado                        395516 non-null  int64         \n",
      " 7   numero_prestamo                     395516 non-null  int64         \n",
      " 8   total_prestamo                      395516 non-null  float64       \n",
      " 9   tipo_prestamo                       395516 non-null  int64         \n",
      " 10  porcentaje_de_cuotas_faltantes      395516 non-null  float64       \n",
      " 11  vencimiento                         395516 non-null  datetime64[ns]\n",
      " 12  paga_en_termino                     395516 non-null  int64         \n",
      " 13  genero                              395516 non-null  object        \n",
      " 14  edad                                395516 non-null  float64       \n",
      "dtypes: datetime64[ns](2), float64(6), int64(6), object(1)\n",
      "memory usage: 48.3+ MB\n"
     ]
    }
   ],
   "source": [
    "df_4_parsed.info()"
   ]
  },
  {
   "cell_type": "code",
   "execution_count": 47,
   "id": "8bcdc3a4",
   "metadata": {},
   "outputs": [
    {
     "data": {
      "text/plain": [
       "10386"
      ]
     },
     "execution_count": 47,
     "metadata": {},
     "output_type": "execute_result"
    }
   ],
   "source": [
    "df_prestamos = df_4_parsed[['numero_prestamo', 'edad', 'genero']]\n",
    "df_prestamos = df_prestamos.drop_duplicates()\n",
    "df_prestamos.groupby(['genero','edad']).count().reset_index()['numero_prestamo'].sum()"
   ]
  },
  {
   "cell_type": "markdown",
   "id": "02f46653",
   "metadata": {},
   "source": [
    "### Corr "
   ]
  },
  {
   "cell_type": "code",
   "execution_count": 48,
   "id": "b31ede74",
   "metadata": {},
   "outputs": [
    {
     "data": {
      "image/png": "[encoded data removed]",
      "text/plain": [
       "<Figure size 1080x720 with 2 Axes>"
      ]
     },
     "metadata": {},
     "output_type": "display_data"
    }
   ],
   "source": [
    "corr = df_4_parsed.corr()\n",
    "mask = np.triu(np.ones_like(corr))\n",
    "plt.figure(figsize=(15,10))\n",
    "sns.heatmap(corr, annot=True, fmt='.2f', linewidths=.2, mask=mask)\n",
    "plt.title('Dataset showing correlation between different variables in the dataset')\n",
    "plt.show()"
   ]
  },
  {
   "cell_type": "code",
   "execution_count": 49,
   "id": "ac1b5f57",
   "metadata": {},
   "outputs": [
    {
     "name": "stdout",
     "output_type": "stream",
     "text": [
      "top corr: \n",
      "paga_en_termino                       1.0\n",
      "numero_cuota                          0.1\n",
      "total_prestamo                        0.0\n",
      "porcentaje_de_cuota_sobre_prestamo    0.0\n",
      "pago                                  0.0\n",
      "edad                                  0.0\n",
      "total_cuotas                          0.0\n",
      "tipo_prestamo                        -0.0\n",
      "dni                                  -0.0\n",
      "numero_prestamo                      -0.0\n",
      "Name: paga_en_termino, dtype: float64 \n",
      "\n",
      "bottom corr: \n",
      "total_prestamo                        0.0\n",
      "porcentaje_de_cuota_sobre_prestamo    0.0\n",
      "pago                                  0.0\n",
      "edad                                  0.0\n",
      "total_cuotas                          0.0\n",
      "tipo_prestamo                        -0.0\n",
      "dni                                  -0.0\n",
      "numero_prestamo                      -0.0\n",
      "refinanciado                         -0.0\n",
      "porcentaje_de_cuotas_faltantes       -0.1\n",
      "Name: paga_en_termino, dtype: float64\n"
     ]
    }
   ],
   "source": [
    "price_range_corr =  corr.paga_en_termino.sort_values(ascending = False)\n",
    "price_range_corr_top = price_range_corr.head(10)\n",
    "price_range_corr_bottom = price_range_corr.tail(10)\n",
    "print ('top corr: \\n{} \\n\\nbottom corr: \\n{}'.format(price_range_corr_top, price_range_corr_bottom))"
   ]
  },
  {
   "cell_type": "code",
   "execution_count": 50,
   "id": "201fa042",
   "metadata": {},
   "outputs": [
    {
     "data": {
      "image/png": "[encoded data removed]",
      "text/plain": [
       "<Figure size 1080x720 with 2 Axes>"
      ]
     },
     "metadata": {},
     "output_type": "display_data"
    }
   ],
   "source": [
    "columns_data_corr = list(set(columns_data)&set(corr.columns))\n",
    "corr_filter = corr[(corr>0.4) | (corr<-0.4)][columns_data_corr].copy()\n",
    "corr_filter = corr_filter.filter(items = columns_data_corr, axis=0)\n",
    "mask = np.triu(np.ones_like(corr_filter))\n",
    "corr_filter.shape\n",
    "\n",
    "plt.figure(figsize=(15,10))\n",
    "sns.heatmap(corr_filter, annot=True, fmt='.2f', linewidths=.2,mask=mask)\n",
    "plt.title('Dataset showing correlation between different variables in the dataset')\n",
    "plt.show()"
   ]
  },
  {
   "cell_type": "markdown",
   "id": "ca2240e3",
   "metadata": {},
   "source": [
    "### Limpio los outliers principales "
   ]
  },
  {
   "cell_type": "code",
   "execution_count": 51,
   "id": "4eb91103",
   "metadata": {},
   "outputs": [
    {
     "data": {
      "text/plain": [
       "0        165771.4\n",
       "1          4203.8\n",
       "2          4195.0\n",
       "7          4218.6\n",
       "18         4640.3\n",
       "           ...   \n",
       "575908    15585.6\n",
       "575910    57026.9\n",
       "575911    57026.9\n",
       "575914   150472.2\n",
       "575915   150472.2\n",
       "Name: total_prestamo, Length: 395516, dtype: float64"
      ]
     },
     "execution_count": 51,
     "metadata": {},
     "output_type": "execute_result"
    }
   ],
   "source": [
    "df_4_parsed['total_prestamo']"
   ]
  },
  {
   "cell_type": "code",
   "execution_count": 52,
   "id": "3b7824ab",
   "metadata": {},
   "outputs": [],
   "source": [
    "df_4_parsed['genero'] = df_4_parsed['genero'].str.lower().replace(['femenino','masculino'],[0,1])"
   ]
  },
  {
   "cell_type": "code",
   "execution_count": 53,
   "id": "d1cee69d",
   "metadata": {},
   "outputs": [
    {
     "data": {
      "text/plain": [
       "132826.25"
      ]
     },
     "execution_count": 53,
     "metadata": {},
     "output_type": "execute_result"
    }
   ],
   "source": [
    "Q1 = df_4_parsed['total_prestamo'].quantile(0.25)\n",
    "Q3 = df_4_parsed['total_prestamo'].quantile(0.75)\n",
    "IQR = Q3 - Q1\n",
    "IQR"
   ]
  },
  {
   "cell_type": "code",
   "execution_count": 54,
   "id": "22da9fc0",
   "metadata": {},
   "outputs": [
    {
     "data": {
      "text/plain": [
       "array([0.09454596, 0.46227097, 0.46229104, ..., 0.34204649, 0.12936678,\n",
       "       0.12936678])"
      ]
     },
     "execution_count": 54,
     "metadata": {},
     "output_type": "execute_result"
    }
   ],
   "source": [
    "from scipy import stats\n",
    "z = np.abs(stats.zscore(df_4_parsed['total_prestamo']))\n",
    "z"
   ]
  },
  {
   "cell_type": "code",
   "execution_count": 55,
   "id": "6f0103fd",
   "metadata": {},
   "outputs": [],
   "source": [
    "index_no_outlier = df_4_parsed['total_prestamo'][(z < 2)].index"
   ]
  },
  {
   "cell_type": "code",
   "execution_count": 56,
   "id": "4aef57c7",
   "metadata": {},
   "outputs": [
    {
     "data": {
      "text/plain": [
       "Int64Index([     0,      1,      2,      7,     18,     20,     21,     22,\n",
       "                23,     24,\n",
       "            ...\n",
       "            575903, 575904, 575905, 575906, 575907, 575908, 575910, 575911,\n",
       "            575914, 575915],\n",
       "           dtype='int64', length=379746)"
      ]
     },
     "execution_count": 56,
     "metadata": {},
     "output_type": "execute_result"
    }
   ],
   "source": [
    "index_no_outlier"
   ]
  },
  {
   "cell_type": "code",
   "execution_count": 57,
   "id": "3f091562",
   "metadata": {},
   "outputs": [],
   "source": [
    "prestamos_sin_outlier = df.filter(items = index_no_outlier, axis=0)['numero_prestamo'].unique()"
   ]
  },
  {
   "cell_type": "code",
   "execution_count": 58,
   "id": "479ac942",
   "metadata": {},
   "outputs": [],
   "source": [
    "df_5_sin_outlier = df_4_parsed[df_4_parsed['numero_prestamo'].isin(prestamos_sin_outlier)].copy()"
   ]
  },
  {
   "cell_type": "markdown",
   "id": "f0384c19",
   "metadata": {},
   "source": [
    "## Pipeline de modelos para elegir el mejor modelo para poder predecir"
   ]
  },
  {
   "cell_type": "code",
   "execution_count": 72,
   "id": "aaf3ef00",
   "metadata": {},
   "outputs": [],
   "source": [
    "from sklearn.model_selection import train_test_split\n",
    "y = df_5_sin_outlier['paga_en_termino']\n",
    "X = df_5_sin_outlier[list(set(columns_data)-  {'paga_en_termino','fecha_pago', 'vencimiento','dni','numero_prestamo','pago'})]\n",
    "X_train, X_test, y_train, y_test = train_test_split(X, y, test_size=0.3) # 70% training and 30% test"
   ]
  },
  {
   "cell_type": "code",
   "execution_count": null,
   "id": "f1e75224",
   "metadata": {},
   "outputs": [
    {
     "name": "stdout",
     "output_type": "stream",
     "text": [
      "ScaledCART: -0.123252 (0.001886)\n",
      "ScaledRFR: -0.213023 (0.000564)\n",
      "ScaledLR: -0.238617 (0.000354)\n",
      "ScaledLASSO: -0.244985 (0.000070)\n",
      "ScaledEN: -0.244985 (0.000070)\n",
      "ScaledKNN: -0.127685 (0.000641)\n",
      "ScaledGBM: -0.199548 (0.000581)\n"
     ]
    }
   ],
   "source": [
    "pipelines = []\n",
    "\n",
    "pipelines.append(('ScaledCART', Pipeline([('Scaler', RobustScaler()),('CART', DecisionTreeRegressor())])))\n",
    "pipelines.append(('ScaledRFR', Pipeline([('Scaler', RobustScaler()),('RFR', RandomForestRegressor(max_depth = 5))])))\n",
    "pipelines.append(('ScaledLR', Pipeline([('Scaler', RobustScaler()),('LR',LinearRegression())])))\n",
    "pipelines.append(('ScaledLASSO', Pipeline([('Scaler', RobustScaler()),('LASSO', Lasso())])))\n",
    "pipelines.append(('ScaledEN', Pipeline([('Scaler', RobustScaler()),('EN', ElasticNet())])))\n",
    "pipelines.append(('ScaledKNN', Pipeline([('Scaler', RobustScaler()),('KNN', KNeighborsRegressor())])))\n",
    "pipelines.append(('ScaledGBM', Pipeline([('Scaler', RobustScaler()),('GBM', GradientBoostingRegressor())])))\n",
    "\n",
    "\n",
    "results = []\n",
    "names = []\n",
    "\n",
    "for name, model in pipelines:\n",
    "    kfold = KFold(n_splits=5, random_state=21, shuffle=True)\n",
    "    cv_results = cross_val_score(model, X_train, y_train, cv=kfold, scoring='neg_mean_squared_error')\n",
    "    results.append(cv_results)\n",
    "    names.append(name)\n",
    "    msg = \"%s: %f (%f)\" % (name, cv_results.mean(), cv_results.std())\n",
    "    print(msg)"
   ]
  },
  {
   "cell_type": "markdown",
   "id": "0f05cfe7",
   "metadata": {},
   "source": [
    "## MODELADO "
   ]
  },
  {
   "cell_type": "code",
   "execution_count": 61,
   "id": "9076bc48",
   "metadata": {},
   "outputs": [
    {
     "data": {
      "text/plain": [
       "Index(['fecha_pago', 'vencimiento', 'tipo_prestamo', 'numero_prestamo', 'dni',\n",
       "       'total_prestamo', 'total_cuotas', 'numero_cuota',\n",
       "       'porcentaje_de_cuotas_faltantes', 'pago',\n",
       "       'porcentaje_de_cuota_sobre_prestamo', 'genero', 'edad',\n",
       "       'paga_en_termino', 'refinanciado'],\n",
       "      dtype='object')"
      ]
     },
     "execution_count": 61,
     "metadata": {},
     "output_type": "execute_result"
    }
   ],
   "source": [
    "df.columns"
   ]
  },
  {
   "cell_type": "code",
   "execution_count": 62,
   "id": "76dc4584",
   "metadata": {},
   "outputs": [
    {
     "data": {
      "text/plain": [
       "['total_cuotas',\n",
       " 'fecha_pago',\n",
       " 'numero_cuota',\n",
       " 'refinanciado',\n",
       " 'tipo_prestamo',\n",
       " 'pago',\n",
       " 'vencimiento',\n",
       " 'total_prestamo',\n",
       " 'porcentaje_de_cuota_sobre_prestamo',\n",
       " 'paga_en_termino',\n",
       " 'porcentaje_de_cuotas_faltantes',\n",
       " 'genero',\n",
       " 'edad']"
      ]
     },
     "execution_count": 62,
     "metadata": {},
     "output_type": "execute_result"
    }
   ],
   "source": [
    "columns_data"
   ]
  },
  {
   "cell_type": "markdown",
   "id": "f1d93b3e",
   "metadata": {},
   "source": [
    "## Linear Regression"
   ]
  },
  {
   "cell_type": "code",
   "execution_count": 89,
   "id": "3dcac9ce",
   "metadata": {},
   "outputs": [
    {
     "name": "stdout",
     "output_type": "stream",
     "text": [
      "score RL:  0.02467735734861698\n",
      "promedio de error absoluto RL 0.4772949195931153\n"
     ]
    }
   ],
   "source": [
    "# Se instancia el modelo\n",
    "lr = LinearRegression()\n",
    "# Se fitea el modelo\n",
    "lr.fit(X_train, y_train)\n",
    "# Se evalua el modelo\n",
    "lr_Range = lr.predict(X_test)\n",
    "lr_Score = lr.score(X_test, y_test)\n",
    "lr_Mae = mean_absolute_error(y_test, lr_Range)\n",
    "print('score RL: ', lr_Score)\n",
    "print('promedio de error absoluto RL', lr_Mae)"
   ]
  },
  {
   "cell_type": "markdown",
   "id": "38f921a0",
   "metadata": {},
   "source": [
    "## Random Forest"
   ]
  },
  {
   "cell_type": "code",
   "execution_count": 73,
   "id": "126380c9",
   "metadata": {},
   "outputs": [
    {
     "name": "stdout",
     "output_type": "stream",
     "text": [
      "Accuracy: 0.8854356567779977\n"
     ]
    }
   ],
   "source": [
    "#Import Random Forest Model\n",
    "from sklearn.ensemble import RandomForestClassifier\n",
    "\n",
    "#Create a Gaussian Classifier\n",
    "clf=RandomForestClassifier(n_estimators=100)\n",
    "\n",
    "#Train the model using the training sets y_pred=clf.predict(X_test)\n",
    "clf.fit(X_train,y_train)\n",
    "\n",
    "y_pred=clf.predict(X_test)\n",
    "\n",
    "from sklearn import metrics\n",
    "print(\"Accuracy:\",metrics.accuracy_score(y_test, y_pred))\n"
   ]
  },
  {
   "cell_type": "markdown",
   "id": "fc419ebc",
   "metadata": {},
   "source": [
    "-----------"
   ]
  },
  {
   "cell_type": "markdown",
   "id": "fcd22f72",
   "metadata": {},
   "source": [
    "# COSAS CAMI "
   ]
  },
  {
   "cell_type": "markdown",
   "id": "aa538ded",
   "metadata": {},
   "source": [
    "* Sacar el tipo de prestamo porque el random forest busca si es mayor o menor a un numero"
   ]
  },
  {
   "cell_type": "code",
   "execution_count": 60,
   "id": "6593049b",
   "metadata": {},
   "outputs": [
    {
     "data": {
      "text/plain": [
       "Index(['fecha_pago', 'total_cuotas', 'numero_cuota', 'dni', 'pago',\n",
       "       'porcentaje_de_cuota_sobre_prestamo', 'refinanciado', 'numero_prestamo',\n",
       "       'total_prestamo', 'tipo_prestamo', 'porcentaje_de_cuotas_faltantes',\n",
       "       'vencimiento', 'paga_en_termino', 'genero', 'edad'],\n",
       "      dtype='object')"
      ]
     },
     "execution_count": 60,
     "metadata": {},
     "output_type": "execute_result"
    }
   ],
   "source": [
    "df_5_sin_outlier.columns"
   ]
  },
  {
   "cell_type": "code",
   "execution_count": 61,
   "id": "0b763522",
   "metadata": {},
   "outputs": [],
   "source": [
    "df_5_sin_outlier['month_fp'] = df_5_sin_outlier['fecha_pago'].dt.month \n",
    "df_5_sin_outlier['year_fp'] = df_5_sin_outlier['fecha_pago'].dt.year "
   ]
  },
  {
   "cell_type": "code",
   "execution_count": 63,
   "id": "54e2a678",
   "metadata": {},
   "outputs": [
    {
     "data": {
      "text/plain": [
       "[2015, 2016, 2017, 2018, 2019]"
      ]
     },
     "execution_count": 63,
     "metadata": {},
     "output_type": "execute_result"
    }
   ],
   "source": [
    "sorted(df_5_sin_outlier['year_fp'].unique())"
   ]
  },
  {
   "cell_type": "code",
   "execution_count": 79,
   "id": "1a4ddf57",
   "metadata": {},
   "outputs": [
    {
     "name": "stdout",
     "output_type": "stream",
     "text": [
      "Accuracy: 0.8854356567779977\n",
      "Accuracy: 0.7402924861321231\n",
      "Accuracy: 0.7507583417593529\n",
      "Accuracy: 0.7804992382514943\n",
      "Accuracy: 0.7970632530120482\n",
      "Accuracy: 0.8055822906641001\n",
      "Accuracy: 0.8096280087527352\n",
      "Accuracy: 0.8112457778660839\n",
      "Accuracy: 0.8016832110487699\n",
      "Accuracy: 0.8364580023302616\n",
      "Accuracy: 0.8436363636363636\n",
      "Accuracy: 0.8095744680851064\n"
     ]
    },
    {
     "ename": "ValueError",
     "evalue": "Found array with 0 sample(s) (shape=(0, 9)) while a minimum of 1 is required.",
     "output_type": "error",
     "traceback": [
      "\u001b[1;31m---------------------------------------------------------------------------\u001b[0m",
      "\u001b[1;31mValueError\u001b[0m                                Traceback (most recent call last)",
      "\u001b[1;32m~\\AppData\\Local\\Temp/ipykernel_11640/283950633.py\u001b[0m in \u001b[0;36m<module>\u001b[1;34m\u001b[0m\n\u001b[0;32m     21\u001b[0m         \u001b[0mclf\u001b[0m\u001b[1;33m.\u001b[0m\u001b[0mfit\u001b[0m\u001b[1;33m(\u001b[0m\u001b[0mX_train\u001b[0m\u001b[1;33m,\u001b[0m\u001b[0my_train\u001b[0m\u001b[1;33m)\u001b[0m\u001b[1;33m\u001b[0m\u001b[1;33m\u001b[0m\u001b[0m\n\u001b[0;32m     22\u001b[0m \u001b[1;33m\u001b[0m\u001b[0m\n\u001b[1;32m---> 23\u001b[1;33m         \u001b[0my_pred\u001b[0m\u001b[1;33m=\u001b[0m\u001b[0mclf\u001b[0m\u001b[1;33m.\u001b[0m\u001b[0mpredict\u001b[0m\u001b[1;33m(\u001b[0m\u001b[0mX_test\u001b[0m\u001b[1;33m)\u001b[0m\u001b[1;33m\u001b[0m\u001b[1;33m\u001b[0m\u001b[0m\n\u001b[0m\u001b[0;32m     24\u001b[0m \u001b[1;33m\u001b[0m\u001b[0m\n\u001b[0;32m     25\u001b[0m         \u001b[0mprint\u001b[0m\u001b[1;33m(\u001b[0m\u001b[1;34m\"Accuracy:\"\u001b[0m\u001b[1;33m,\u001b[0m\u001b[0mmetrics\u001b[0m\u001b[1;33m.\u001b[0m\u001b[0maccuracy_score\u001b[0m\u001b[1;33m(\u001b[0m\u001b[0my_test\u001b[0m\u001b[1;33m,\u001b[0m \u001b[0my_pred\u001b[0m\u001b[1;33m)\u001b[0m\u001b[1;33m)\u001b[0m\u001b[1;33m\u001b[0m\u001b[1;33m\u001b[0m\u001b[0m\n",
      "\u001b[1;32m~\\AppData\\Roaming\\Python\\Python38\\site-packages\\sklearn\\ensemble\\_forest.py\u001b[0m in \u001b[0;36mpredict\u001b[1;34m(self, X)\u001b[0m\n\u001b[0;32m    627\u001b[0m             \u001b[0mThe\u001b[0m \u001b[0mpredicted\u001b[0m \u001b[0mclasses\u001b[0m\u001b[1;33m.\u001b[0m\u001b[1;33m\u001b[0m\u001b[1;33m\u001b[0m\u001b[0m\n\u001b[0;32m    628\u001b[0m         \"\"\"\n\u001b[1;32m--> 629\u001b[1;33m         \u001b[0mproba\u001b[0m \u001b[1;33m=\u001b[0m \u001b[0mself\u001b[0m\u001b[1;33m.\u001b[0m\u001b[0mpredict_proba\u001b[0m\u001b[1;33m(\u001b[0m\u001b[0mX\u001b[0m\u001b[1;33m)\u001b[0m\u001b[1;33m\u001b[0m\u001b[1;33m\u001b[0m\u001b[0m\n\u001b[0m\u001b[0;32m    630\u001b[0m \u001b[1;33m\u001b[0m\u001b[0m\n\u001b[0;32m    631\u001b[0m         \u001b[1;32mif\u001b[0m \u001b[0mself\u001b[0m\u001b[1;33m.\u001b[0m\u001b[0mn_outputs_\u001b[0m \u001b[1;33m==\u001b[0m \u001b[1;36m1\u001b[0m\u001b[1;33m:\u001b[0m\u001b[1;33m\u001b[0m\u001b[1;33m\u001b[0m\u001b[0m\n",
      "\u001b[1;32m~\\AppData\\Roaming\\Python\\Python38\\site-packages\\sklearn\\ensemble\\_forest.py\u001b[0m in \u001b[0;36mpredict_proba\u001b[1;34m(self, X)\u001b[0m\n\u001b[0;32m    671\u001b[0m         \u001b[0mcheck_is_fitted\u001b[0m\u001b[1;33m(\u001b[0m\u001b[0mself\u001b[0m\u001b[1;33m)\u001b[0m\u001b[1;33m\u001b[0m\u001b[1;33m\u001b[0m\u001b[0m\n\u001b[0;32m    672\u001b[0m         \u001b[1;31m# Check data\u001b[0m\u001b[1;33m\u001b[0m\u001b[1;33m\u001b[0m\u001b[1;33m\u001b[0m\u001b[0m\n\u001b[1;32m--> 673\u001b[1;33m         \u001b[0mX\u001b[0m \u001b[1;33m=\u001b[0m \u001b[0mself\u001b[0m\u001b[1;33m.\u001b[0m\u001b[0m_validate_X_predict\u001b[0m\u001b[1;33m(\u001b[0m\u001b[0mX\u001b[0m\u001b[1;33m)\u001b[0m\u001b[1;33m\u001b[0m\u001b[1;33m\u001b[0m\u001b[0m\n\u001b[0m\u001b[0;32m    674\u001b[0m \u001b[1;33m\u001b[0m\u001b[0m\n\u001b[0;32m    675\u001b[0m         \u001b[1;31m# Assign chunk of trees to jobs\u001b[0m\u001b[1;33m\u001b[0m\u001b[1;33m\u001b[0m\u001b[1;33m\u001b[0m\u001b[0m\n",
      "\u001b[1;32m~\\AppData\\Roaming\\Python\\Python38\\site-packages\\sklearn\\ensemble\\_forest.py\u001b[0m in \u001b[0;36m_validate_X_predict\u001b[1;34m(self, X)\u001b[0m\n\u001b[0;32m    419\u001b[0m         \u001b[0mcheck_is_fitted\u001b[0m\u001b[1;33m(\u001b[0m\u001b[0mself\u001b[0m\u001b[1;33m)\u001b[0m\u001b[1;33m\u001b[0m\u001b[1;33m\u001b[0m\u001b[0m\n\u001b[0;32m    420\u001b[0m \u001b[1;33m\u001b[0m\u001b[0m\n\u001b[1;32m--> 421\u001b[1;33m         \u001b[1;32mreturn\u001b[0m \u001b[0mself\u001b[0m\u001b[1;33m.\u001b[0m\u001b[0mestimators_\u001b[0m\u001b[1;33m[\u001b[0m\u001b[1;36m0\u001b[0m\u001b[1;33m]\u001b[0m\u001b[1;33m.\u001b[0m\u001b[0m_validate_X_predict\u001b[0m\u001b[1;33m(\u001b[0m\u001b[0mX\u001b[0m\u001b[1;33m,\u001b[0m \u001b[0mcheck_input\u001b[0m\u001b[1;33m=\u001b[0m\u001b[1;32mTrue\u001b[0m\u001b[1;33m)\u001b[0m\u001b[1;33m\u001b[0m\u001b[1;33m\u001b[0m\u001b[0m\n\u001b[0m\u001b[0;32m    422\u001b[0m \u001b[1;33m\u001b[0m\u001b[0m\n\u001b[0;32m    423\u001b[0m     \u001b[1;33m@\u001b[0m\u001b[0mproperty\u001b[0m\u001b[1;33m\u001b[0m\u001b[1;33m\u001b[0m\u001b[0m\n",
      "\u001b[1;32m~\\AppData\\Roaming\\Python\\Python38\\site-packages\\sklearn\\tree\\_classes.py\u001b[0m in \u001b[0;36m_validate_X_predict\u001b[1;34m(self, X, check_input)\u001b[0m\n\u001b[0;32m    386\u001b[0m         \u001b[1;34m\"\"\"Validate X whenever one tries to predict, apply, predict_proba\"\"\"\u001b[0m\u001b[1;33m\u001b[0m\u001b[1;33m\u001b[0m\u001b[0m\n\u001b[0;32m    387\u001b[0m         \u001b[1;32mif\u001b[0m \u001b[0mcheck_input\u001b[0m\u001b[1;33m:\u001b[0m\u001b[1;33m\u001b[0m\u001b[1;33m\u001b[0m\u001b[0m\n\u001b[1;32m--> 388\u001b[1;33m             \u001b[0mX\u001b[0m \u001b[1;33m=\u001b[0m \u001b[0mcheck_array\u001b[0m\u001b[1;33m(\u001b[0m\u001b[0mX\u001b[0m\u001b[1;33m,\u001b[0m \u001b[0mdtype\u001b[0m\u001b[1;33m=\u001b[0m\u001b[0mDTYPE\u001b[0m\u001b[1;33m,\u001b[0m \u001b[0maccept_sparse\u001b[0m\u001b[1;33m=\u001b[0m\u001b[1;34m\"csr\"\u001b[0m\u001b[1;33m)\u001b[0m\u001b[1;33m\u001b[0m\u001b[1;33m\u001b[0m\u001b[0m\n\u001b[0m\u001b[0;32m    389\u001b[0m             if issparse(X) and (X.indices.dtype != np.intc or\n\u001b[0;32m    390\u001b[0m                                 X.indptr.dtype != np.intc):\n",
      "\u001b[1;32m~\\AppData\\Roaming\\Python\\Python38\\site-packages\\sklearn\\utils\\validation.py\u001b[0m in \u001b[0;36minner_f\u001b[1;34m(*args, **kwargs)\u001b[0m\n\u001b[0;32m     71\u001b[0m                           FutureWarning)\n\u001b[0;32m     72\u001b[0m         \u001b[0mkwargs\u001b[0m\u001b[1;33m.\u001b[0m\u001b[0mupdate\u001b[0m\u001b[1;33m(\u001b[0m\u001b[1;33m{\u001b[0m\u001b[0mk\u001b[0m\u001b[1;33m:\u001b[0m \u001b[0marg\u001b[0m \u001b[1;32mfor\u001b[0m \u001b[0mk\u001b[0m\u001b[1;33m,\u001b[0m \u001b[0marg\u001b[0m \u001b[1;32min\u001b[0m \u001b[0mzip\u001b[0m\u001b[1;33m(\u001b[0m\u001b[0msig\u001b[0m\u001b[1;33m.\u001b[0m\u001b[0mparameters\u001b[0m\u001b[1;33m,\u001b[0m \u001b[0margs\u001b[0m\u001b[1;33m)\u001b[0m\u001b[1;33m}\u001b[0m\u001b[1;33m)\u001b[0m\u001b[1;33m\u001b[0m\u001b[1;33m\u001b[0m\u001b[0m\n\u001b[1;32m---> 73\u001b[1;33m         \u001b[1;32mreturn\u001b[0m \u001b[0mf\u001b[0m\u001b[1;33m(\u001b[0m\u001b[1;33m**\u001b[0m\u001b[0mkwargs\u001b[0m\u001b[1;33m)\u001b[0m\u001b[1;33m\u001b[0m\u001b[1;33m\u001b[0m\u001b[0m\n\u001b[0m\u001b[0;32m     74\u001b[0m     \u001b[1;32mreturn\u001b[0m \u001b[0minner_f\u001b[0m\u001b[1;33m\u001b[0m\u001b[1;33m\u001b[0m\u001b[0m\n\u001b[0;32m     75\u001b[0m \u001b[1;33m\u001b[0m\u001b[0m\n",
      "\u001b[1;32m~\\AppData\\Roaming\\Python\\Python38\\site-packages\\sklearn\\utils\\validation.py\u001b[0m in \u001b[0;36mcheck_array\u001b[1;34m(array, accept_sparse, accept_large_sparse, dtype, order, copy, force_all_finite, ensure_2d, allow_nd, ensure_min_samples, ensure_min_features, estimator)\u001b[0m\n\u001b[0;32m    649\u001b[0m         \u001b[0mn_samples\u001b[0m \u001b[1;33m=\u001b[0m \u001b[0m_num_samples\u001b[0m\u001b[1;33m(\u001b[0m\u001b[0marray\u001b[0m\u001b[1;33m)\u001b[0m\u001b[1;33m\u001b[0m\u001b[1;33m\u001b[0m\u001b[0m\n\u001b[0;32m    650\u001b[0m         \u001b[1;32mif\u001b[0m \u001b[0mn_samples\u001b[0m \u001b[1;33m<\u001b[0m \u001b[0mensure_min_samples\u001b[0m\u001b[1;33m:\u001b[0m\u001b[1;33m\u001b[0m\u001b[1;33m\u001b[0m\u001b[0m\n\u001b[1;32m--> 651\u001b[1;33m             raise ValueError(\"Found array with %d sample(s) (shape=%s) while a\"\n\u001b[0m\u001b[0;32m    652\u001b[0m                              \u001b[1;34m\" minimum of %d is required%s.\"\u001b[0m\u001b[1;33m\u001b[0m\u001b[1;33m\u001b[0m\u001b[0m\n\u001b[0;32m    653\u001b[0m                              % (n_samples, array.shape, ensure_min_samples,\n",
      "\u001b[1;31mValueError\u001b[0m: Found array with 0 sample(s) (shape=(0, 9)) while a minimum of 1 is required."
     ]
    }
   ],
   "source": [
    "from sklearn.ensemble import RandomForestClassifier\n",
    "clf=RandomForestClassifier(n_estimators=100)\n",
    "\n",
    "from sklearn import svm, datasets\n",
    "from sklearn.model_selection import GridSearchCV\n",
    "\n",
    "\n",
    "\n",
    "sorted(clf.cv_results_.keys())\n",
    "\n",
    "features = list(set(columns_data)-  {'paga_en_termino','fecha_pago', 'vencimiento','dni','numero_prestamo','pago'})\n",
    "\n",
    "res = []\n",
    "from sklearn import metrics\n",
    "print(\"Accuracy:\",metrics.accuracy_score(y_test, y_pred))\n",
    "\n",
    "for anio in [2015, 2016, 2017, 2018, 2019]:\n",
    "    for mes in range (1,13):\n",
    "        df_4_train = df_4_parsed.loc[(df_4_parsed['year_fp']<=anio) & (df_4_parsed['month_fp']<=mes), :]\n",
    "        df_4_test  = df_4_parsed.loc[(df_4_parsed['year_fp']==anio) & (df_4_parsed['month_fp']==mes+1),: ]\n",
    "        \n",
    "        X_train = df_4_train[features]\n",
    "        y_train = df_4_train['paga_en_termino']\n",
    "        \n",
    "        X_test = df_4_test[features]\n",
    "        y_test = df_4_test['paga_en_termino']    \n",
    "        \n",
    "#         USAR GRID SEARCH ACA\n",
    "        parameters = {'kernel':('linear', 'rbf'), 'C':[1, 10]}\n",
    "        svc = svm.SVC()\n",
    "        clf = GridSearchCV(svc, parameters)\n",
    "        clf.fit(iris.data, iris.target)\n",
    "        \n",
    "        clf.fit(X_train,y_train)\n",
    "        \n",
    "        y_pred=clf.predict(X_test)\n",
    "        \n",
    "        print(\"Accuracy:\",metrics.accuracy_score(y_test, y_pred))\n",
    "        \n",
    "        res.append(metrics.accuracy_score(y_test, y_pred))"
   ]
  },
  {
   "cell_type": "code",
   "execution_count": 65,
   "id": "c9e285f8",
   "metadata": {},
   "outputs": [
    {
     "name": "stdout",
     "output_type": "stream",
     "text": [
      "Accuracy: 0.7362304194037392\n",
      "Accuracy: 0.7436156763590392\n",
      "Accuracy: 0.7701149425287356\n",
      "Accuracy: 0.7883239171374764\n",
      "Accuracy: 0.7968780111774908\n",
      "Accuracy: 0.7931411893469537\n",
      "Accuracy: 0.7831013916500994\n",
      "Accuracy: 0.7886442141623489\n",
      "Accuracy: 0.8227754237288135\n",
      "Accuracy: 0.8172062568206621\n",
      "Accuracy: 0.7977288857345636\n"
     ]
    },
    {
     "ename": "ValueError",
     "evalue": "Found array with 0 sample(s) (shape=(0, 8)) while a minimum of 1 is required.",
     "output_type": "error",
     "traceback": [
      "\u001b[1;31m---------------------------------------------------------------------------\u001b[0m",
      "\u001b[1;31mValueError\u001b[0m                                Traceback (most recent call last)",
      "\u001b[1;32m~\\AppData\\Local\\Temp/ipykernel_8412/3646428433.py\u001b[0m in \u001b[0;36m<module>\u001b[1;34m\u001b[0m\n\u001b[0;32m     20\u001b[0m         \u001b[0mclf\u001b[0m\u001b[1;33m.\u001b[0m\u001b[0mfit\u001b[0m\u001b[1;33m(\u001b[0m\u001b[0mX_train\u001b[0m\u001b[1;33m,\u001b[0m\u001b[0my_train\u001b[0m\u001b[1;33m)\u001b[0m\u001b[1;33m\u001b[0m\u001b[1;33m\u001b[0m\u001b[0m\n\u001b[0;32m     21\u001b[0m \u001b[1;33m\u001b[0m\u001b[0m\n\u001b[1;32m---> 22\u001b[1;33m         \u001b[0my_pred\u001b[0m\u001b[1;33m=\u001b[0m\u001b[0mclf\u001b[0m\u001b[1;33m.\u001b[0m\u001b[0mpredict\u001b[0m\u001b[1;33m(\u001b[0m\u001b[0mX_test\u001b[0m\u001b[1;33m)\u001b[0m\u001b[1;33m\u001b[0m\u001b[1;33m\u001b[0m\u001b[0m\n\u001b[0m\u001b[0;32m     23\u001b[0m \u001b[1;33m\u001b[0m\u001b[0m\n\u001b[0;32m     24\u001b[0m         \u001b[0mprint\u001b[0m\u001b[1;33m(\u001b[0m\u001b[1;34m\"Accuracy:\"\u001b[0m\u001b[1;33m,\u001b[0m\u001b[0mmetrics\u001b[0m\u001b[1;33m.\u001b[0m\u001b[0maccuracy_score\u001b[0m\u001b[1;33m(\u001b[0m\u001b[0my_test\u001b[0m\u001b[1;33m,\u001b[0m \u001b[0my_pred\u001b[0m\u001b[1;33m)\u001b[0m\u001b[1;33m)\u001b[0m\u001b[1;33m\u001b[0m\u001b[1;33m\u001b[0m\u001b[0m\n",
      "\u001b[1;32m~\\AppData\\Roaming\\Python\\Python38\\site-packages\\sklearn\\ensemble\\_forest.py\u001b[0m in \u001b[0;36mpredict\u001b[1;34m(self, X)\u001b[0m\n\u001b[0;32m    627\u001b[0m             \u001b[0mThe\u001b[0m \u001b[0mpredicted\u001b[0m \u001b[0mclasses\u001b[0m\u001b[1;33m.\u001b[0m\u001b[1;33m\u001b[0m\u001b[1;33m\u001b[0m\u001b[0m\n\u001b[0;32m    628\u001b[0m         \"\"\"\n\u001b[1;32m--> 629\u001b[1;33m         \u001b[0mproba\u001b[0m \u001b[1;33m=\u001b[0m \u001b[0mself\u001b[0m\u001b[1;33m.\u001b[0m\u001b[0mpredict_proba\u001b[0m\u001b[1;33m(\u001b[0m\u001b[0mX\u001b[0m\u001b[1;33m)\u001b[0m\u001b[1;33m\u001b[0m\u001b[1;33m\u001b[0m\u001b[0m\n\u001b[0m\u001b[0;32m    630\u001b[0m \u001b[1;33m\u001b[0m\u001b[0m\n\u001b[0;32m    631\u001b[0m         \u001b[1;32mif\u001b[0m \u001b[0mself\u001b[0m\u001b[1;33m.\u001b[0m\u001b[0mn_outputs_\u001b[0m \u001b[1;33m==\u001b[0m \u001b[1;36m1\u001b[0m\u001b[1;33m:\u001b[0m\u001b[1;33m\u001b[0m\u001b[1;33m\u001b[0m\u001b[0m\n",
      "\u001b[1;32m~\\AppData\\Roaming\\Python\\Python38\\site-packages\\sklearn\\ensemble\\_forest.py\u001b[0m in \u001b[0;36mpredict_proba\u001b[1;34m(self, X)\u001b[0m\n\u001b[0;32m    671\u001b[0m         \u001b[0mcheck_is_fitted\u001b[0m\u001b[1;33m(\u001b[0m\u001b[0mself\u001b[0m\u001b[1;33m)\u001b[0m\u001b[1;33m\u001b[0m\u001b[1;33m\u001b[0m\u001b[0m\n\u001b[0;32m    672\u001b[0m         \u001b[1;31m# Check data\u001b[0m\u001b[1;33m\u001b[0m\u001b[1;33m\u001b[0m\u001b[1;33m\u001b[0m\u001b[0m\n\u001b[1;32m--> 673\u001b[1;33m         \u001b[0mX\u001b[0m \u001b[1;33m=\u001b[0m \u001b[0mself\u001b[0m\u001b[1;33m.\u001b[0m\u001b[0m_validate_X_predict\u001b[0m\u001b[1;33m(\u001b[0m\u001b[0mX\u001b[0m\u001b[1;33m)\u001b[0m\u001b[1;33m\u001b[0m\u001b[1;33m\u001b[0m\u001b[0m\n\u001b[0m\u001b[0;32m    674\u001b[0m \u001b[1;33m\u001b[0m\u001b[0m\n\u001b[0;32m    675\u001b[0m         \u001b[1;31m# Assign chunk of trees to jobs\u001b[0m\u001b[1;33m\u001b[0m\u001b[1;33m\u001b[0m\u001b[1;33m\u001b[0m\u001b[0m\n",
      "\u001b[1;32m~\\AppData\\Roaming\\Python\\Python38\\site-packages\\sklearn\\ensemble\\_forest.py\u001b[0m in \u001b[0;36m_validate_X_predict\u001b[1;34m(self, X)\u001b[0m\n\u001b[0;32m    419\u001b[0m         \u001b[0mcheck_is_fitted\u001b[0m\u001b[1;33m(\u001b[0m\u001b[0mself\u001b[0m\u001b[1;33m)\u001b[0m\u001b[1;33m\u001b[0m\u001b[1;33m\u001b[0m\u001b[0m\n\u001b[0;32m    420\u001b[0m \u001b[1;33m\u001b[0m\u001b[0m\n\u001b[1;32m--> 421\u001b[1;33m         \u001b[1;32mreturn\u001b[0m \u001b[0mself\u001b[0m\u001b[1;33m.\u001b[0m\u001b[0mestimators_\u001b[0m\u001b[1;33m[\u001b[0m\u001b[1;36m0\u001b[0m\u001b[1;33m]\u001b[0m\u001b[1;33m.\u001b[0m\u001b[0m_validate_X_predict\u001b[0m\u001b[1;33m(\u001b[0m\u001b[0mX\u001b[0m\u001b[1;33m,\u001b[0m \u001b[0mcheck_input\u001b[0m\u001b[1;33m=\u001b[0m\u001b[1;32mTrue\u001b[0m\u001b[1;33m)\u001b[0m\u001b[1;33m\u001b[0m\u001b[1;33m\u001b[0m\u001b[0m\n\u001b[0m\u001b[0;32m    422\u001b[0m \u001b[1;33m\u001b[0m\u001b[0m\n\u001b[0;32m    423\u001b[0m     \u001b[1;33m@\u001b[0m\u001b[0mproperty\u001b[0m\u001b[1;33m\u001b[0m\u001b[1;33m\u001b[0m\u001b[0m\n",
      "\u001b[1;32m~\\AppData\\Roaming\\Python\\Python38\\site-packages\\sklearn\\tree\\_classes.py\u001b[0m in \u001b[0;36m_validate_X_predict\u001b[1;34m(self, X, check_input)\u001b[0m\n\u001b[0;32m    386\u001b[0m         \u001b[1;34m\"\"\"Validate X whenever one tries to predict, apply, predict_proba\"\"\"\u001b[0m\u001b[1;33m\u001b[0m\u001b[1;33m\u001b[0m\u001b[0m\n\u001b[0;32m    387\u001b[0m         \u001b[1;32mif\u001b[0m \u001b[0mcheck_input\u001b[0m\u001b[1;33m:\u001b[0m\u001b[1;33m\u001b[0m\u001b[1;33m\u001b[0m\u001b[0m\n\u001b[1;32m--> 388\u001b[1;33m             \u001b[0mX\u001b[0m \u001b[1;33m=\u001b[0m \u001b[0mcheck_array\u001b[0m\u001b[1;33m(\u001b[0m\u001b[0mX\u001b[0m\u001b[1;33m,\u001b[0m \u001b[0mdtype\u001b[0m\u001b[1;33m=\u001b[0m\u001b[0mDTYPE\u001b[0m\u001b[1;33m,\u001b[0m \u001b[0maccept_sparse\u001b[0m\u001b[1;33m=\u001b[0m\u001b[1;34m\"csr\"\u001b[0m\u001b[1;33m)\u001b[0m\u001b[1;33m\u001b[0m\u001b[1;33m\u001b[0m\u001b[0m\n\u001b[0m\u001b[0;32m    389\u001b[0m             if issparse(X) and (X.indices.dtype != np.intc or\n\u001b[0;32m    390\u001b[0m                                 X.indptr.dtype != np.intc):\n",
      "\u001b[1;32m~\\AppData\\Roaming\\Python\\Python38\\site-packages\\sklearn\\utils\\validation.py\u001b[0m in \u001b[0;36minner_f\u001b[1;34m(*args, **kwargs)\u001b[0m\n\u001b[0;32m     71\u001b[0m                           FutureWarning)\n\u001b[0;32m     72\u001b[0m         \u001b[0mkwargs\u001b[0m\u001b[1;33m.\u001b[0m\u001b[0mupdate\u001b[0m\u001b[1;33m(\u001b[0m\u001b[1;33m{\u001b[0m\u001b[0mk\u001b[0m\u001b[1;33m:\u001b[0m \u001b[0marg\u001b[0m \u001b[1;32mfor\u001b[0m \u001b[0mk\u001b[0m\u001b[1;33m,\u001b[0m \u001b[0marg\u001b[0m \u001b[1;32min\u001b[0m \u001b[0mzip\u001b[0m\u001b[1;33m(\u001b[0m\u001b[0msig\u001b[0m\u001b[1;33m.\u001b[0m\u001b[0mparameters\u001b[0m\u001b[1;33m,\u001b[0m \u001b[0margs\u001b[0m\u001b[1;33m)\u001b[0m\u001b[1;33m}\u001b[0m\u001b[1;33m)\u001b[0m\u001b[1;33m\u001b[0m\u001b[1;33m\u001b[0m\u001b[0m\n\u001b[1;32m---> 73\u001b[1;33m         \u001b[1;32mreturn\u001b[0m \u001b[0mf\u001b[0m\u001b[1;33m(\u001b[0m\u001b[1;33m**\u001b[0m\u001b[0mkwargs\u001b[0m\u001b[1;33m)\u001b[0m\u001b[1;33m\u001b[0m\u001b[1;33m\u001b[0m\u001b[0m\n\u001b[0m\u001b[0;32m     74\u001b[0m     \u001b[1;32mreturn\u001b[0m \u001b[0minner_f\u001b[0m\u001b[1;33m\u001b[0m\u001b[1;33m\u001b[0m\u001b[0m\n\u001b[0;32m     75\u001b[0m \u001b[1;33m\u001b[0m\u001b[0m\n",
      "\u001b[1;32m~\\AppData\\Roaming\\Python\\Python38\\site-packages\\sklearn\\utils\\validation.py\u001b[0m in \u001b[0;36mcheck_array\u001b[1;34m(array, accept_sparse, accept_large_sparse, dtype, order, copy, force_all_finite, ensure_2d, allow_nd, ensure_min_samples, ensure_min_features, estimator)\u001b[0m\n\u001b[0;32m    649\u001b[0m         \u001b[0mn_samples\u001b[0m \u001b[1;33m=\u001b[0m \u001b[0m_num_samples\u001b[0m\u001b[1;33m(\u001b[0m\u001b[0marray\u001b[0m\u001b[1;33m)\u001b[0m\u001b[1;33m\u001b[0m\u001b[1;33m\u001b[0m\u001b[0m\n\u001b[0;32m    650\u001b[0m         \u001b[1;32mif\u001b[0m \u001b[0mn_samples\u001b[0m \u001b[1;33m<\u001b[0m \u001b[0mensure_min_samples\u001b[0m\u001b[1;33m:\u001b[0m\u001b[1;33m\u001b[0m\u001b[1;33m\u001b[0m\u001b[0m\n\u001b[1;32m--> 651\u001b[1;33m             raise ValueError(\"Found array with %d sample(s) (shape=%s) while a\"\n\u001b[0m\u001b[0;32m    652\u001b[0m                              \u001b[1;34m\" minimum of %d is required%s.\"\u001b[0m\u001b[1;33m\u001b[0m\u001b[1;33m\u001b[0m\u001b[0m\n\u001b[0;32m    653\u001b[0m                              % (n_samples, array.shape, ensure_min_samples,\n",
      "\u001b[1;31mValueError\u001b[0m: Found array with 0 sample(s) (shape=(0, 8)) while a minimum of 1 is required."
     ]
    }
   ],
   "source": [
    "from sklearn.ensemble import RandomForestClassifier\n",
    "clf=RandomForestClassifier(n_estimators=100)\n",
    "\n",
    "features = list(set(columns_data)-  {'paga_en_termino','fecha_pago', 'vencimiento','dni','numero_prestamo','pago', 'tipo_prestamo'})\n",
    "\n",
    "res = []\n",
    "from sklearn import metrics\n",
    "\n",
    "for anio in [2015, 2016, 2017, 2018, 2019]:\n",
    "    for mes in range (1,13):\n",
    "        df_4_train = df_5_sin_outlier.loc[(df_5_sin_outlier['year_fp']<=anio) & (df_5_sin_outlier['month_fp']<=mes), :].copy()\n",
    "        df_4_test  = df_5_sin_outlier.loc[(df_5_sin_outlier['year_fp']==anio) & (df_5_sin_outlier['month_fp']==mes+1),: ].copy()\n",
    "        \n",
    "        X_train = df_4_train[features]\n",
    "        y_train = df_4_train['paga_en_termino']\n",
    "        \n",
    "        X_test = df_4_test[features]\n",
    "        y_test = df_4_test['paga_en_termino']       \n",
    "        \n",
    "        clf.fit(X_train,y_train)\n",
    "        \n",
    "        y_pred=clf.predict(X_test)\n",
    "        \n",
    "        print(\"Accuracy:\",metrics.accuracy_score(y_test, y_pred))\n",
    "        \n",
    "        res.append(metrics.accuracy_score(y_test, y_pred))"
   ]
  },
  {
   "cell_type": "code",
   "execution_count": 66,
   "id": "5a2b74e5",
   "metadata": {},
   "outputs": [
    {
     "data": {
      "text/html": [
       "<div>\n",
       "<style scoped>\n",
       "    .dataframe tbody tr th:only-of-type {\n",
       "        vertical-align: middle;\n",
       "    }\n",
       "\n",
       "    .dataframe tbody tr th {\n",
       "        vertical-align: top;\n",
       "    }\n",
       "\n",
       "    .dataframe thead th {\n",
       "        text-align: right;\n",
       "    }\n",
       "</style>\n",
       "<table border=\"1\" class=\"dataframe\">\n",
       "  <thead>\n",
       "    <tr style=\"text-align: right;\">\n",
       "      <th></th>\n",
       "      <th>total_cuotas</th>\n",
       "      <th>genero</th>\n",
       "      <th>numero_cuota</th>\n",
       "      <th>porcentaje_de_cuota_sobre_prestamo</th>\n",
       "      <th>refinanciado</th>\n",
       "      <th>total_prestamo</th>\n",
       "      <th>edad</th>\n",
       "      <th>porcentaje_de_cuotas_faltantes</th>\n",
       "    </tr>\n",
       "  </thead>\n",
       "  <tbody>\n",
       "    <tr>\n",
       "      <th>0</th>\n",
       "      <td>360</td>\n",
       "      <td>0</td>\n",
       "      <td>66</td>\n",
       "      <td>0.2</td>\n",
       "      <td>0</td>\n",
       "      <td>165771.4</td>\n",
       "      <td>47.0</td>\n",
       "      <td>0.8</td>\n",
       "    </tr>\n",
       "    <tr>\n",
       "      <th>1</th>\n",
       "      <td>20</td>\n",
       "      <td>0</td>\n",
       "      <td>3</td>\n",
       "      <td>5.2</td>\n",
       "      <td>0</td>\n",
       "      <td>4203.8</td>\n",
       "      <td>79.0</td>\n",
       "      <td>0.8</td>\n",
       "    </tr>\n",
       "    <tr>\n",
       "      <th>2</th>\n",
       "      <td>20</td>\n",
       "      <td>0</td>\n",
       "      <td>6</td>\n",
       "      <td>5.2</td>\n",
       "      <td>0</td>\n",
       "      <td>4195.0</td>\n",
       "      <td>65.0</td>\n",
       "      <td>0.7</td>\n",
       "    </tr>\n",
       "    <tr>\n",
       "      <th>7</th>\n",
       "      <td>38</td>\n",
       "      <td>0</td>\n",
       "      <td>6</td>\n",
       "      <td>2.8</td>\n",
       "      <td>0</td>\n",
       "      <td>4218.6</td>\n",
       "      <td>50.0</td>\n",
       "      <td>0.8</td>\n",
       "    </tr>\n",
       "    <tr>\n",
       "      <th>18</th>\n",
       "      <td>58</td>\n",
       "      <td>1</td>\n",
       "      <td>56</td>\n",
       "      <td>1.9</td>\n",
       "      <td>0</td>\n",
       "      <td>4640.3</td>\n",
       "      <td>87.0</td>\n",
       "      <td>0.0</td>\n",
       "    </tr>\n",
       "    <tr>\n",
       "      <th>...</th>\n",
       "      <td>...</td>\n",
       "      <td>...</td>\n",
       "      <td>...</td>\n",
       "      <td>...</td>\n",
       "      <td>...</td>\n",
       "      <td>...</td>\n",
       "      <td>...</td>\n",
       "      <td>...</td>\n",
       "    </tr>\n",
       "    <tr>\n",
       "      <th>575908</th>\n",
       "      <td>360</td>\n",
       "      <td>0</td>\n",
       "      <td>161</td>\n",
       "      <td>0.3</td>\n",
       "      <td>0</td>\n",
       "      <td>15585.6</td>\n",
       "      <td>68.0</td>\n",
       "      <td>0.6</td>\n",
       "    </tr>\n",
       "    <tr>\n",
       "      <th>575910</th>\n",
       "      <td>360</td>\n",
       "      <td>1</td>\n",
       "      <td>168</td>\n",
       "      <td>0.0</td>\n",
       "      <td>0</td>\n",
       "      <td>57026.9</td>\n",
       "      <td>121.0</td>\n",
       "      <td>0.5</td>\n",
       "    </tr>\n",
       "    <tr>\n",
       "      <th>575911</th>\n",
       "      <td>360</td>\n",
       "      <td>1</td>\n",
       "      <td>169</td>\n",
       "      <td>0.3</td>\n",
       "      <td>0</td>\n",
       "      <td>57026.9</td>\n",
       "      <td>121.0</td>\n",
       "      <td>0.5</td>\n",
       "    </tr>\n",
       "    <tr>\n",
       "      <th>575914</th>\n",
       "      <td>360</td>\n",
       "      <td>1</td>\n",
       "      <td>187</td>\n",
       "      <td>0.2</td>\n",
       "      <td>0</td>\n",
       "      <td>150472.2</td>\n",
       "      <td>43.0</td>\n",
       "      <td>0.5</td>\n",
       "    </tr>\n",
       "    <tr>\n",
       "      <th>575915</th>\n",
       "      <td>360</td>\n",
       "      <td>1</td>\n",
       "      <td>188</td>\n",
       "      <td>0.0</td>\n",
       "      <td>0</td>\n",
       "      <td>150472.2</td>\n",
       "      <td>43.0</td>\n",
       "      <td>0.5</td>\n",
       "    </tr>\n",
       "  </tbody>\n",
       "</table>\n",
       "<p>381860 rows × 8 columns</p>\n",
       "</div>"
      ],
      "text/plain": [
       "        total_cuotas  genero  numero_cuota  \\\n",
       "0                360       0            66   \n",
       "1                 20       0             3   \n",
       "2                 20       0             6   \n",
       "7                 38       0             6   \n",
       "18                58       1            56   \n",
       "...              ...     ...           ...   \n",
       "575908           360       0           161   \n",
       "575910           360       1           168   \n",
       "575911           360       1           169   \n",
       "575914           360       1           187   \n",
       "575915           360       1           188   \n",
       "\n",
       "        porcentaje_de_cuota_sobre_prestamo  refinanciado  total_prestamo  \\\n",
       "0                                      0.2             0        165771.4   \n",
       "1                                      5.2             0          4203.8   \n",
       "2                                      5.2             0          4195.0   \n",
       "7                                      2.8             0          4218.6   \n",
       "18                                     1.9             0          4640.3   \n",
       "...                                    ...           ...             ...   \n",
       "575908                                 0.3             0         15585.6   \n",
       "575910                                 0.0             0         57026.9   \n",
       "575911                                 0.3             0         57026.9   \n",
       "575914                                 0.2             0        150472.2   \n",
       "575915                                 0.0             0        150472.2   \n",
       "\n",
       "        edad  porcentaje_de_cuotas_faltantes  \n",
       "0       47.0                             0.8  \n",
       "1       79.0                             0.8  \n",
       "2       65.0                             0.7  \n",
       "7       50.0                             0.8  \n",
       "18      87.0                             0.0  \n",
       "...      ...                             ...  \n",
       "575908  68.0                             0.6  \n",
       "575910 121.0                             0.5  \n",
       "575911 121.0                             0.5  \n",
       "575914  43.0                             0.5  \n",
       "575915  43.0                             0.5  \n",
       "\n",
       "[381860 rows x 8 columns]"
      ]
     },
     "execution_count": 66,
     "metadata": {},
     "output_type": "execute_result"
    }
   ],
   "source": [
    "df_5_sin_outlier[features]"
   ]
  },
  {
   "cell_type": "markdown",
   "id": "47871eaa",
   "metadata": {},
   "source": [
    "-------"
   ]
  },
  {
   "cell_type": "code",
   "execution_count": null,
   "id": "537a6db4",
   "metadata": {},
   "outputs": [],
   "source": []
  },
  {
   "cell_type": "code",
   "execution_count": null,
   "id": "77c09057",
   "metadata": {},
   "outputs": [],
   "source": []
  },
  {
   "cell_type": "code",
   "execution_count": null,
   "id": "59cbcc26",
   "metadata": {},
   "outputs": [],
   "source": []
  },
  {
   "cell_type": "code",
   "execution_count": null,
   "id": "d64cf6e7",
   "metadata": {},
   "outputs": [],
   "source": []
  },
  {
   "cell_type": "code",
   "execution_count": 120,
   "id": "b998ca08",
   "metadata": {},
   "outputs": [
    {
     "data": {
      "text/plain": [
       "array([0.23581233, 0.05960475, 0.10517046, 0.17142813, 0.20890368,\n",
       "       0.069803  , 0.12817068, 0.00218618, 0.01892079])"
      ]
     },
     "execution_count": 120,
     "metadata": {},
     "output_type": "execute_result"
    }
   ],
   "source": [
    "clf.feature_importances_\n"
   ]
  },
  {
   "cell_type": "code",
   "execution_count": 140,
   "id": "a8423b12",
   "metadata": {},
   "outputs": [
    {
     "data": {
      "text/plain": [
       "RandomForestClassifier(random_state=0)"
      ]
     },
     "execution_count": 140,
     "metadata": {},
     "output_type": "execute_result"
    }
   ],
   "source": [
    "feature_names = [f\"feature {i}\" for i in range(X.shape[1])]\n",
    "forest = RandomForestClassifier(random_state=0)\n",
    "forest.fit(X_train, y_train)"
   ]
  },
  {
   "cell_type": "code",
   "execution_count": 143,
   "id": "19069d4f",
   "metadata": {},
   "outputs": [
    {
     "name": "stdout",
     "output_type": "stream",
     "text": [
      "Elapsed time to compute the importances: 0.248 seconds\n"
     ]
    }
   ],
   "source": [
    "import time\n",
    "start_time = time.time()\n",
    "importances = clf.feature_importances_\n",
    "std = np.std([tree.feature_importances_ for tree in clf.estimators_], axis=0)\n",
    "elapsed_time = time.time() - start_time\n",
    "\n",
    "print(f\"Elapsed time to compute the importances: {elapsed_time:.3f} seconds\")"
   ]
  },
  {
   "cell_type": "code",
   "execution_count": 144,
   "id": "c02aa774",
   "metadata": {},
   "outputs": [
    {
     "data": {
      "image/png": "[encoded data removed]",
      "text/plain": [
       "<Figure size 432x288 with 1 Axes>"
      ]
     },
     "metadata": {
      "needs_background": "light"
     },
     "output_type": "display_data"
    }
   ],
   "source": [
    "\n",
    "\n",
    "forest_importances = pd.Series(clf.feature_importances_, index=feature_names)\n",
    "\n",
    "fig, ax = plt.subplots()\n",
    "forest_importances.plot.bar(yerr=std, ax=ax)\n",
    "ax.set_title(\"Feature importances using MDI\")\n",
    "ax.set_ylabel(\"Mean decrease in impurity\")\n",
    "fig.tight_layout()\n"
   ]
  },
  {
   "cell_type": "code",
   "execution_count": 151,
   "id": "3e76ba5d",
   "metadata": {},
   "outputs": [],
   "source": [
    "\n",
    "def plot_feature_importance(importance,names,model_type):\n",
    "\n",
    "    #Create arrays from feature importance and feature names\n",
    "    feature_importance = np.array(importance)\n",
    "    feature_names = np.array(names)\n",
    "\n",
    "    #Create a DataFrame using a Dictionary\n",
    "    data={'feature_names':feature_names,'feature_importance':feature_importance}\n",
    "    fi_df = pd.DataFrame(data)\n",
    "\n",
    "    #Sort the DataFrame in order decreasing feature importance\n",
    "    fi_df.sort_values(by=['feature_importance'], ascending=False,inplace=True)\n",
    "\n",
    "     #Define size of bar plot\n",
    "    plt.figure(figsize=(10,8))\n",
    "    #Plot Searborn bar chart\n",
    "    sns.barplot(x=fi_df['feature_importance'], y=fi_df['feature_names'])\n",
    "    #Add chart labels\n",
    "    plt.title(model_type + 'FEATURE IMPORTANCE')\n",
    "    plt.xlabel('FEATURE IMPORTANCE')\n",
    "    plt.ylabel('FEATURE NAMES') \n"
   ]
  },
  {
   "cell_type": "code",
   "execution_count": 153,
   "id": "243e5111",
   "metadata": {},
   "outputs": [
    {
     "data": {
      "image/png": "[encoded data removed]",
      "text/plain": [
       "<Figure size 720x576 with 1 Axes>"
      ]
     },
     "metadata": {
      "needs_background": "light"
     },
     "output_type": "display_data"
    }
   ],
   "source": [
    "plot_feature_importance(clf.feature_importances_,X_train.columns,'RANDOM FOREST') "
   ]
  },
  {
   "cell_type": "markdown",
   "id": "da1f86bc",
   "metadata": {},
   "source": [
    "## KNeighborsRegressor"
   ]
  },
  {
   "cell_type": "code",
   "execution_count": 78,
   "id": "a96a4ee2",
   "metadata": {},
   "outputs": [
    {
     "name": "stdout",
     "output_type": "stream",
     "text": [
      "score KNN:  0.8652728873239437\n",
      "promedio de error absoluto KNN 0.13472711267605633\n"
     ]
    }
   ],
   "source": [
    "# Se instancia el modelo\n",
    "knn = KNeighborsClassifier(n_neighbors=4)\n",
    "# Se fitea el modelo\n",
    "knn.fit(X_train, y_train)\n",
    "# Se predice el modelo\n",
    "knn_range = knn.predict(X_test)\n",
    "# Se evalua el modelo\n",
    "knn_score = knn.score(X_test,y_test)\n",
    "knn_mae = mean_absolute_error(y_test, knn_range)\n",
    "print('score KNN: ', knn_score)\n",
    "print('promedio de error absoluto KNN', knn_mae)\n"
   ]
  },
  {
   "cell_type": "code",
   "execution_count": 70,
   "id": "db93b4b7",
   "metadata": {},
   "outputs": [],
   "source": [
    "error_rate = []\n",
    "for i in range(1,20):\n",
    "    knn = KNeighborsClassifier(n_neighbors=i)\n",
    "    knn.fit(X_train,y_train)\n",
    "    pred_i = knn.predict(X_test)\n",
    "    error_rate.append(np.mean(pred_i != y_test))"
   ]
  },
  {
   "cell_type": "code",
   "execution_count": 71,
   "id": "433620f3",
   "metadata": {},
   "outputs": [
    {
     "data": {
      "text/plain": [
       "Text(0, 0.5, 'Error Rate')"
      ]
     },
     "execution_count": 71,
     "metadata": {},
     "output_type": "execute_result"
    },
    {
     "data": {
      "image/png": "[encoded data removed]",
      "text/plain": [
       "<Figure size 720x432 with 1 Axes>"
      ]
     },
     "metadata": {
      "needs_background": "light"
     },
     "output_type": "display_data"
    }
   ],
   "source": [
    "plt.figure(figsize=(10,6))\n",
    "plt.xticks([x for x in range(21)])\n",
    "plt.plot(range(1,20),error_rate,color='blue', linestyle='dashed', marker='o',\n",
    "         markerfacecolor='red', markersize=5)\n",
    "plt.title('Error Rate vs. K Value')\n",
    "plt.xlabel('K')\n",
    "plt.ylabel('Error Rate')"
   ]
  },
  {
   "cell_type": "markdown",
   "id": "a7c55c3f",
   "metadata": {},
   "source": [
    "## Decision Tree Classifier"
   ]
  },
  {
   "cell_type": "code",
   "execution_count": 116,
   "id": "55311a8b",
   "metadata": {},
   "outputs": [
    {
     "name": "stdout",
     "output_type": "stream",
     "text": [
      "score DT:  0.7251408450704225\n",
      "promedio de error absoluto DT 0.27485915492957746\n"
     ]
    },
    {
     "data": {
      "text/html": [
       "<div>\n",
       "<style scoped>\n",
       "    .dataframe tbody tr th:only-of-type {\n",
       "        vertical-align: middle;\n",
       "    }\n",
       "\n",
       "    .dataframe tbody tr th {\n",
       "        vertical-align: top;\n",
       "    }\n",
       "\n",
       "    .dataframe thead th {\n",
       "        text-align: right;\n",
       "    }\n",
       "</style>\n",
       "<table border=\"1\" class=\"dataframe\">\n",
       "  <thead>\n",
       "    <tr style=\"text-align: right;\">\n",
       "      <th></th>\n",
       "      <th>importancia</th>\n",
       "    </tr>\n",
       "  </thead>\n",
       "  <tbody>\n",
       "    <tr>\n",
       "      <th>porcentaje_de_cuota_sobre_prestamo</th>\n",
       "      <td>0.4</td>\n",
       "    </tr>\n",
       "    <tr>\n",
       "      <th>total_prestamo</th>\n",
       "      <td>0.2</td>\n",
       "    </tr>\n",
       "    <tr>\n",
       "      <th>total_cuotas</th>\n",
       "      <td>0.2</td>\n",
       "    </tr>\n",
       "    <tr>\n",
       "      <th>tipo_prestamo</th>\n",
       "      <td>0.1</td>\n",
       "    </tr>\n",
       "    <tr>\n",
       "      <th>numero_cuota</th>\n",
       "      <td>0.1</td>\n",
       "    </tr>\n",
       "  </tbody>\n",
       "</table>\n",
       "</div>"
      ],
      "text/plain": [
       "                                    importancia\n",
       "porcentaje_de_cuota_sobre_prestamo          0.4\n",
       "total_prestamo                              0.2\n",
       "total_cuotas                                0.2\n",
       "tipo_prestamo                               0.1\n",
       "numero_cuota                                0.1"
      ]
     },
     "execution_count": 116,
     "metadata": {},
     "output_type": "execute_result"
    }
   ],
   "source": [
    "# Se instancia el modelo\n",
    "dtc = DecisionTreeClassifier(max_leaf_nodes=200,random_state = 1)\n",
    "# Se fitea el modelo\n",
    "dtc.fit(X_train, y_train)\n",
    "# Se predice el modelo\n",
    "dtc_range = dtc.predict(X_test)\n",
    "# Se evalua el modelo\n",
    "dtc_score = dtc.score(X_test, y_test)\n",
    "dtc_mae = mean_absolute_error(y_test, dtc_range)\n",
    "print('score DT: ', dtc_score)\n",
    "print('promedio de error absoluto DT', dtc_mae)\n",
    "importancia_features = pd.DataFrame(dt.feature_importances_, index = X.columns, columns=['importancia'])\n",
    "importancia_features_sort = importancia_features.sort_values('importancia', ascending=False)\n",
    "importancia_features_sort[0:5]\n"
   ]
  },
  {
   "cell_type": "code",
   "execution_count": null,
   "id": "296187c4",
   "metadata": {},
   "outputs": [],
   "source": [
    "plt.figure(figsize=(10,5))\n",
    "tree.plot_tree(dt,feature_names=df.columns[:-1],filled=True,rounded=True, fontsize=12)\n",
    "plt.show()"
   ]
  },
  {
   "cell_type": "markdown",
   "id": "b991d8dd",
   "metadata": {},
   "source": [
    "### Decision Tree Regression"
   ]
  },
  {
   "cell_type": "code",
   "execution_count": 93,
   "id": "aade9f2e",
   "metadata": {},
   "outputs": [
    {
     "name": "stdout",
     "output_type": "stream",
     "text": [
      "score DT:  0.24563199108051725\n",
      "promedio de error absoluto DT 0.36751227808564313\n"
     ]
    }
   ],
   "source": [
    "# Se instancia el modelo\n",
    "dt = DecisionTreeRegressor(max_leaf_nodes=200, random_state = 1)\n",
    "# Se fitea el modelo\n",
    "dt.fit(X_train, y_train)\n",
    "# Prediccion\n",
    "dt_range = dt.predict(X_test)\n",
    "# Evaluación del modelo\n",
    "dt_score = dt.score(X_test, y_test)\n",
    "dt_Mae = mean_absolute_error(y_test, dt_range)\n",
    "print('score DT: ', dt_score)\n",
    "print('promedio de error absoluto DT', dt_Mae)"
   ]
  },
  {
   "cell_type": "code",
   "execution_count": 95,
   "id": "5b18b00b",
   "metadata": {},
   "outputs": [],
   "source": [
    "from sklearn.preprocessing import StandardScaler\n",
    "scaler = StandardScaler()\n",
    "X_train_scl = scaler.fit_transform(X_train)\n",
    "\n",
    "X_test_scl = scaler.transform(X_test)"
   ]
  },
  {
   "cell_type": "code",
   "execution_count": 96,
   "id": "ee55e392",
   "metadata": {},
   "outputs": [],
   "source": [
    "model_1 = GaussianNB()\n",
    "fit_1 = model_1.fit(X_train_scl, y_train)"
   ]
  },
  {
   "cell_type": "code",
   "execution_count": 97,
   "id": "e198e553",
   "metadata": {},
   "outputs": [
    {
     "name": "stdout",
     "output_type": "stream",
     "text": [
      "0.5713380281690141\n",
      "[[25229 23255]\n",
      " [25441 39675]]\n"
     ]
    }
   ],
   "source": [
    "predict_1_cat = fit_1.predict(X_test_scl)\n",
    "accuracy_1 = accuracy_score(y_test, predict_1_cat)\n",
    "print(accuracy_1)\n",
    "conf_mat_1 = confusion_matrix(y_test, predict_1_cat)\n",
    "print(conf_mat_1)"
   ]
  },
  {
   "cell_type": "code",
   "execution_count": 98,
   "id": "91b5bf48",
   "metadata": {},
   "outputs": [],
   "source": [
    "model_2 = KNeighborsClassifier()\n",
    "fit_2 = model_2.fit(X_train_scl, y_train)"
   ]
  },
  {
   "cell_type": "code",
   "execution_count": 99,
   "id": "23f6eb6a",
   "metadata": {},
   "outputs": [
    {
     "name": "stdout",
     "output_type": "stream",
     "text": [
      "0.7940492957746479\n",
      "[[34514 13970]\n",
      " [ 9426 55690]]\n"
     ]
    }
   ],
   "source": [
    "predict_2_cat = fit_2.predict(X_test_scl)\n",
    "accuracy_2 = accuracy_score(y_test, predict_2_cat)\n",
    "print(accuracy_2)\n",
    "conf_mat_2 = confusion_matrix(y_test, predict_2_cat)\n",
    "print(conf_mat_2)"
   ]
  },
  {
   "cell_type": "code",
   "execution_count": 100,
   "id": "78b2e43c",
   "metadata": {},
   "outputs": [],
   "source": [
    "model_3 = tree.DecisionTreeClassifier(criterion='gini')\n",
    "fit_3 = model_3.fit(X_train_scl, y_train)"
   ]
  },
  {
   "cell_type": "code",
   "execution_count": 101,
   "id": "947b74cd",
   "metadata": {},
   "outputs": [
    {
     "name": "stdout",
     "output_type": "stream",
     "text": [
      "0.8586443661971831\n",
      "[[40053  8431]\n",
      " [ 7627 57489]]\n"
     ]
    }
   ],
   "source": [
    "predict_3_cat = fit_3.predict(X_test_scl)\n",
    "accuracy_3 = accuracy_score(y_test, predict_3_cat)\n",
    "print(accuracy_3)\n",
    "conf_mat_3 = confusion_matrix(y_test, predict_3_cat)\n",
    "print(conf_mat_3)"
   ]
  },
  {
   "cell_type": "code",
   "execution_count": null,
   "id": "10a2d5ae",
   "metadata": {},
   "outputs": [],
   "source": []
  },
  {
   "cell_type": "code",
   "execution_count": 111,
   "id": "dff66f96",
   "metadata": {},
   "outputs": [],
   "source": [
    "import statistics\n",
    "from statistics import mode\n",
    "def predict_ensamble(X, model_1, model_2, model_3):\n",
    "    y_pred_1 = model_1.predict(X)\n",
    "    y_pred_2 = model_2.predict(X)\n",
    "    y_pred_3 = model_3.predict(X)\n",
    "    result_mode = mode([y_pred_1, y_pred_2, y_pred_3]).mode\n",
    "    result = np.transpose(result_mode)    \n",
    "    return result"
   ]
  },
  {
   "cell_type": "code",
   "execution_count": 113,
   "id": "f82b9a81",
   "metadata": {},
   "outputs": [
    {
     "ename": "TypeError",
     "evalue": "unhashable type: 'numpy.ndarray'",
     "output_type": "error",
     "traceback": [
      "\u001b[1;31m---------------------------------------------------------------------------\u001b[0m",
      "\u001b[1;31mTypeError\u001b[0m                                 Traceback (most recent call last)",
      "\u001b[1;32m<ipython-input-113-59a3aafe63ad>\u001b[0m in \u001b[0;36m<module>\u001b[1;34m\u001b[0m\n\u001b[1;32m----> 1\u001b[1;33m \u001b[0mpredict_cat_ensemble\u001b[0m \u001b[1;33m=\u001b[0m \u001b[0mpredict_ensamble\u001b[0m\u001b[1;33m(\u001b[0m\u001b[0mX_test_scl\u001b[0m\u001b[1;33m,\u001b[0m \u001b[0mfit_1\u001b[0m\u001b[1;33m,\u001b[0m \u001b[0mfit_2\u001b[0m\u001b[1;33m,\u001b[0m \u001b[0mfit_3\u001b[0m\u001b[1;33m)\u001b[0m\u001b[1;33m\u001b[0m\u001b[1;33m\u001b[0m\u001b[0m\n\u001b[0m\u001b[0;32m      2\u001b[0m \u001b[0maccuracy_ensemble\u001b[0m \u001b[1;33m=\u001b[0m \u001b[0maccuracy_score\u001b[0m\u001b[1;33m(\u001b[0m\u001b[0my_test\u001b[0m\u001b[1;33m,\u001b[0m \u001b[0mpredict_cat_ensemble\u001b[0m\u001b[1;33m)\u001b[0m\u001b[1;33m\u001b[0m\u001b[1;33m\u001b[0m\u001b[0m\n\u001b[0;32m      3\u001b[0m \u001b[0mprint\u001b[0m\u001b[1;33m(\u001b[0m\u001b[0maccuracy_ensemble\u001b[0m\u001b[1;33m)\u001b[0m\u001b[1;33m\u001b[0m\u001b[1;33m\u001b[0m\u001b[0m\n\u001b[0;32m      4\u001b[0m \u001b[1;31m#predict_cat_ensemble.shape\u001b[0m\u001b[1;33m\u001b[0m\u001b[1;33m\u001b[0m\u001b[1;33m\u001b[0m\u001b[0m\n\u001b[0;32m      5\u001b[0m \u001b[1;31m#conf_mat_ensemble = confusion_matrix(y_test, predict_cat_ensemble)\u001b[0m\u001b[1;33m\u001b[0m\u001b[1;33m\u001b[0m\u001b[1;33m\u001b[0m\u001b[0m\n",
      "\u001b[1;32m<ipython-input-111-0664cdd13b83>\u001b[0m in \u001b[0;36mpredict_ensamble\u001b[1;34m(X, model_1, model_2, model_3)\u001b[0m\n\u001b[0;32m      5\u001b[0m     \u001b[0my_pred_2\u001b[0m \u001b[1;33m=\u001b[0m \u001b[0mmodel_2\u001b[0m\u001b[1;33m.\u001b[0m\u001b[0mpredict\u001b[0m\u001b[1;33m(\u001b[0m\u001b[0mX\u001b[0m\u001b[1;33m)\u001b[0m\u001b[1;33m\u001b[0m\u001b[1;33m\u001b[0m\u001b[0m\n\u001b[0;32m      6\u001b[0m     \u001b[0my_pred_3\u001b[0m \u001b[1;33m=\u001b[0m \u001b[0mmodel_3\u001b[0m\u001b[1;33m.\u001b[0m\u001b[0mpredict\u001b[0m\u001b[1;33m(\u001b[0m\u001b[0mX\u001b[0m\u001b[1;33m)\u001b[0m\u001b[1;33m\u001b[0m\u001b[1;33m\u001b[0m\u001b[0m\n\u001b[1;32m----> 7\u001b[1;33m     \u001b[0mresult_mode\u001b[0m \u001b[1;33m=\u001b[0m \u001b[0mmode\u001b[0m\u001b[1;33m(\u001b[0m\u001b[1;33m[\u001b[0m\u001b[0my_pred_1\u001b[0m\u001b[1;33m,\u001b[0m \u001b[0my_pred_2\u001b[0m\u001b[1;33m,\u001b[0m \u001b[0my_pred_3\u001b[0m\u001b[1;33m]\u001b[0m\u001b[1;33m)\u001b[0m\u001b[1;33m.\u001b[0m\u001b[0mmode\u001b[0m\u001b[1;33m\u001b[0m\u001b[1;33m\u001b[0m\u001b[0m\n\u001b[0m\u001b[0;32m      8\u001b[0m     \u001b[0mresult\u001b[0m \u001b[1;33m=\u001b[0m \u001b[0mnp\u001b[0m\u001b[1;33m.\u001b[0m\u001b[0mtranspose\u001b[0m\u001b[1;33m(\u001b[0m\u001b[0mresult_mode\u001b[0m\u001b[1;33m)\u001b[0m\u001b[1;33m\u001b[0m\u001b[1;33m\u001b[0m\u001b[0m\n\u001b[0;32m      9\u001b[0m     \u001b[1;32mreturn\u001b[0m \u001b[0mresult\u001b[0m\u001b[1;33m\u001b[0m\u001b[1;33m\u001b[0m\u001b[0m\n",
      "\u001b[1;32m~\\anaconda3\\lib\\statistics.py\u001b[0m in \u001b[0;36mmode\u001b[1;34m(data)\u001b[0m\n\u001b[0;32m    556\u001b[0m     \"\"\"\n\u001b[0;32m    557\u001b[0m     \u001b[0mdata\u001b[0m \u001b[1;33m=\u001b[0m \u001b[0miter\u001b[0m\u001b[1;33m(\u001b[0m\u001b[0mdata\u001b[0m\u001b[1;33m)\u001b[0m\u001b[1;33m\u001b[0m\u001b[1;33m\u001b[0m\u001b[0m\n\u001b[1;32m--> 558\u001b[1;33m     \u001b[0mpairs\u001b[0m \u001b[1;33m=\u001b[0m \u001b[0mCounter\u001b[0m\u001b[1;33m(\u001b[0m\u001b[0mdata\u001b[0m\u001b[1;33m)\u001b[0m\u001b[1;33m.\u001b[0m\u001b[0mmost_common\u001b[0m\u001b[1;33m(\u001b[0m\u001b[1;36m1\u001b[0m\u001b[1;33m)\u001b[0m\u001b[1;33m\u001b[0m\u001b[1;33m\u001b[0m\u001b[0m\n\u001b[0m\u001b[0;32m    559\u001b[0m     \u001b[1;32mtry\u001b[0m\u001b[1;33m:\u001b[0m\u001b[1;33m\u001b[0m\u001b[1;33m\u001b[0m\u001b[0m\n\u001b[0;32m    560\u001b[0m         \u001b[1;32mreturn\u001b[0m \u001b[0mpairs\u001b[0m\u001b[1;33m[\u001b[0m\u001b[1;36m0\u001b[0m\u001b[1;33m]\u001b[0m\u001b[1;33m[\u001b[0m\u001b[1;36m0\u001b[0m\u001b[1;33m]\u001b[0m\u001b[1;33m\u001b[0m\u001b[1;33m\u001b[0m\u001b[0m\n",
      "\u001b[1;32m~\\anaconda3\\lib\\collections\\__init__.py\u001b[0m in \u001b[0;36m__init__\u001b[1;34m(self, iterable, **kwds)\u001b[0m\n\u001b[0;32m    550\u001b[0m         '''\n\u001b[0;32m    551\u001b[0m         \u001b[0msuper\u001b[0m\u001b[1;33m(\u001b[0m\u001b[0mCounter\u001b[0m\u001b[1;33m,\u001b[0m \u001b[0mself\u001b[0m\u001b[1;33m)\u001b[0m\u001b[1;33m.\u001b[0m\u001b[0m__init__\u001b[0m\u001b[1;33m(\u001b[0m\u001b[1;33m)\u001b[0m\u001b[1;33m\u001b[0m\u001b[1;33m\u001b[0m\u001b[0m\n\u001b[1;32m--> 552\u001b[1;33m         \u001b[0mself\u001b[0m\u001b[1;33m.\u001b[0m\u001b[0mupdate\u001b[0m\u001b[1;33m(\u001b[0m\u001b[0miterable\u001b[0m\u001b[1;33m,\u001b[0m \u001b[1;33m**\u001b[0m\u001b[0mkwds\u001b[0m\u001b[1;33m)\u001b[0m\u001b[1;33m\u001b[0m\u001b[1;33m\u001b[0m\u001b[0m\n\u001b[0m\u001b[0;32m    553\u001b[0m \u001b[1;33m\u001b[0m\u001b[0m\n\u001b[0;32m    554\u001b[0m     \u001b[1;32mdef\u001b[0m \u001b[0m__missing__\u001b[0m\u001b[1;33m(\u001b[0m\u001b[0mself\u001b[0m\u001b[1;33m,\u001b[0m \u001b[0mkey\u001b[0m\u001b[1;33m)\u001b[0m\u001b[1;33m:\u001b[0m\u001b[1;33m\u001b[0m\u001b[1;33m\u001b[0m\u001b[0m\n",
      "\u001b[1;32m~\\anaconda3\\lib\\collections\\__init__.py\u001b[0m in \u001b[0;36mupdate\u001b[1;34m(self, iterable, **kwds)\u001b[0m\n\u001b[0;32m    635\u001b[0m                     \u001b[0msuper\u001b[0m\u001b[1;33m(\u001b[0m\u001b[0mCounter\u001b[0m\u001b[1;33m,\u001b[0m \u001b[0mself\u001b[0m\u001b[1;33m)\u001b[0m\u001b[1;33m.\u001b[0m\u001b[0mupdate\u001b[0m\u001b[1;33m(\u001b[0m\u001b[0miterable\u001b[0m\u001b[1;33m)\u001b[0m \u001b[1;31m# fast path when counter is empty\u001b[0m\u001b[1;33m\u001b[0m\u001b[1;33m\u001b[0m\u001b[0m\n\u001b[0;32m    636\u001b[0m             \u001b[1;32melse\u001b[0m\u001b[1;33m:\u001b[0m\u001b[1;33m\u001b[0m\u001b[1;33m\u001b[0m\u001b[0m\n\u001b[1;32m--> 637\u001b[1;33m                 \u001b[0m_count_elements\u001b[0m\u001b[1;33m(\u001b[0m\u001b[0mself\u001b[0m\u001b[1;33m,\u001b[0m \u001b[0miterable\u001b[0m\u001b[1;33m)\u001b[0m\u001b[1;33m\u001b[0m\u001b[1;33m\u001b[0m\u001b[0m\n\u001b[0m\u001b[0;32m    638\u001b[0m         \u001b[1;32mif\u001b[0m \u001b[0mkwds\u001b[0m\u001b[1;33m:\u001b[0m\u001b[1;33m\u001b[0m\u001b[1;33m\u001b[0m\u001b[0m\n\u001b[0;32m    639\u001b[0m             \u001b[0mself\u001b[0m\u001b[1;33m.\u001b[0m\u001b[0mupdate\u001b[0m\u001b[1;33m(\u001b[0m\u001b[0mkwds\u001b[0m\u001b[1;33m)\u001b[0m\u001b[1;33m\u001b[0m\u001b[1;33m\u001b[0m\u001b[0m\n",
      "\u001b[1;31mTypeError\u001b[0m: unhashable type: 'numpy.ndarray'"
     ]
    }
   ],
   "source": [
    "predict_cat_ensemble = predict_ensamble(X_test_scl, fit_1, fit_2, fit_3)\n",
    "accuracy_ensemble = accuracy_score(y_test, predict_cat_ensemble)\n",
    "print(accuracy_ensemble)\n",
    "#predict_cat_ensemble.shape\n",
    "#conf_mat_ensemble = confusion_matrix(y_test, predict_cat_ensemble)\n",
    "#print(conf_mat_ensemble)"
   ]
  },
  {
   "cell_type": "code",
   "execution_count": null,
   "id": "f7339adf",
   "metadata": {},
   "outputs": [],
   "source": []
  }
 ],
 "metadata": {
  "kernelspec": {
   "display_name": "Python 3 (ipykernel)",
   "language": "python",
   "name": "python3"
  },
  "language_info": {
   "codemirror_mode": {
    "name": "ipython",
    "version": 3
   },
   "file_extension": ".py",
   "mimetype": "text/x-python",
   "name": "python",
   "nbconvert_exporter": "python",
   "pygments_lexer": "ipython3",
   "version": "3.8.12"
  }
 },
 "nbformat": 4,
 "nbformat_minor": 5
}
