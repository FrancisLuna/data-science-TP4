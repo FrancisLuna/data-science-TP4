{
 "cells": [
  {
   "cell_type": "markdown",
   "id": "23cef025",
   "metadata": {},
   "source": [
    "# COMENTARIOS"
   ]
  },
  {
   "cell_type": "markdown",
   "id": "c4a207b7",
   "metadata": {},
   "source": [
    "* En este dataset se busca info con personas. Por eso, se pierden las filas donde hay problemas con la persona\n",
    "* Ver si corrijo el calculo de las columnas de tipo float"
   ]
  },
  {
   "cell_type": "markdown",
   "id": "786aebfa",
   "metadata": {},
   "source": [
    "# Información "
   ]
  },
  {
   "cell_type": "markdown",
   "id": "d3fc3c45",
   "metadata": {},
   "source": [
    "1. Descricpción del problema\n",
    "1. Data cleaning \n",
    "1. Data formatting\n",
    "1. EDA\n",
    "3. Feature selecction y engenieering\n",
    "4. Comparación de modelos\n",
    "5. Hyperparameter tunning sobre el mejor modelo\n",
    "6. Evaluacion\n",
    "7. Interpretación\n",
    "8. Conclusión"
   ]
  },
  {
   "cell_type": "markdown",
   "id": "dca73295",
   "metadata": {},
   "source": [
    "OBJETIVO: Determinar que personas van a ser morosos en los prestamos"
   ]
  },
  {
   "cell_type": "markdown",
   "id": "2ebb7fe5",
   "metadata": {},
   "source": [
    "# 0. IMPORTACIONES Y SETEOS"
   ]
  },
  {
   "cell_type": "markdown",
   "id": "329af21c",
   "metadata": {},
   "source": [
    "## Imports "
   ]
  },
  {
   "cell_type": "code",
   "execution_count": 1,
   "id": "7ec3d226",
   "metadata": {},
   "outputs": [],
   "source": [
    "# Pandas y numpy para manipulación\n",
    "import pandas as pd\n",
    "import numpy as np\n",
    "# Librerias para gráficos \n",
    "import seaborn as sns\n",
    "import matplotlib.pyplot as plt\n",
    "\n",
    "# Funciones de DS\n",
    "import DSImplementation as dsimp\n",
    "# Funciones para analizar valores faltantes \n",
    "import missingno as msno"
   ]
  },
  {
   "cell_type": "markdown",
   "id": "68a20a00",
   "metadata": {},
   "source": [
    "## Seteos"
   ]
  },
  {
   "cell_type": "code",
   "execution_count": 2,
   "id": "4bf8eaaa",
   "metadata": {},
   "outputs": [],
   "source": [
    "# Para evitar que salgan advertencias por usar dataframes sin un .copy()\n",
    "pd.options.mode.chained_assignment = None\n",
    "\n",
    "# Se setea un maximo de 60 columnas para visualizar\n",
    "pd.set_option('display.max_columns', 60)\n",
    "\n",
    "# Matplotlib visualización en la celda\n",
    "%matplotlib inline\n",
    "\n",
    "# Ver con dos decimales los float\n",
    "pd.options.display.float_format = \"{:,.2f}\".format\n"
   ]
  },
  {
   "cell_type": "markdown",
   "id": "38d4e297",
   "metadata": {},
   "source": [
    "# 1. DESCRIPCIÓN DEL PROBLEMA "
   ]
  },
  {
   "cell_type": "markdown",
   "id": "c6c8d9e1",
   "metadata": {},
   "source": [
    "* Fecha_Pago: fecha cuando la persona pago la cuota del prestamo. Es diferente a la fecha de acreditación. \n",
    "* Vencimiento: fecha en la cual vence el prestamos, y hay algunos prestamos con doble fecha de vencimiento. El primer vencimiento es siempre el 20 y el segundo es el 30. No todos los tipos de linea de prestamos admiten segundo vencimiento. \n",
    "* Tipo de prestamo: numero de ID, cada ID corresponde a un barrio diferente. El IVC construye de a un barrio por vez. Puede pasar que para un mismo barrio puedo tener diferentes tipo de prestamo (linea de prestamo). \n",
    "* Numero_Prestamo: Es el ID del prestamo. Es unico y no se repite\n",
    "* Total_prestamo[CALCULADO]: el total que tiene que pagar para el prestamos, no es lo que le falta. Se calcula como suma de capital, interes y gastos.\n",
    "* Total_cutas: cantidad de cuotas que tiene el prestamo\n",
    "* Numero de cuota: es la cuota que se esta pagando. Se permite saltear cuotas, es decir, se puede no pagar la 16 y pagar la 17. De esta forma la persona quedaria adeudnado la cuota 16.\n",
    "* Pago: monto del recibo de pago. Cada pago puede no corresponder a una unica cuota. Puede ser una de cuatro opciones: Pago de cuota completa, pago parcial de cuota, adelanto de cuota, pago completo del prestamo. \n",
    "* Genero: Masculino o Femenino, binario\n",
    "* Edad[CALCULADO]: la edad del que pide el prestamo\n",
    "* Paga_en_termino [CALCULADO]: si pago antes del vencimiento. A partir de 2021 se introdujo segundo vencimiento (el 30). 1 es que esta en termino, 0 que no pago en termino\n",
    "* Refinaciado [CALCULADO] : indica si el prestamo fue refinanciado en el pasado. Es decir, cuando se reestructura la deuda. 1 es que esta refinanciado, 0 que no esta refinanciado. \n"
   ]
  },
  {
   "cell_type": "markdown",
   "id": "d502f94e",
   "metadata": {},
   "source": [
    "Nuestro campo targe es \"Pagado en termino\" para evaluar si el mes que viene me van a pagar o no "
   ]
  },
  {
   "cell_type": "markdown",
   "id": "0e0f0c40",
   "metadata": {},
   "source": [
    "Columnas a agregar:\n",
    "\n",
    "* Numerico indicando tipo de pago. 1: Pago de cuota completa, 2: pago parcial de cuota, 3: adelanto de cuota, 4: pago completo del prestamo\n",
    "* Faltante total a pagar: el monto que falta pagar del prestamo"
   ]
  },
  {
   "cell_type": "markdown",
   "id": "0703324b",
   "metadata": {},
   "source": [
    "Preguntas:\n",
    "\n",
    "* Agrego columnas que traiga cantidad de cuotas no pagas en terminas para ese prestamo por esa persona?\n"
   ]
  },
  {
   "cell_type": "markdown",
   "id": "7987fe52",
   "metadata": {},
   "source": [
    "# 2. DATA CLEANING"
   ]
  },
  {
   "cell_type": "markdown",
   "id": "103e1466",
   "metadata": {},
   "source": [
    "## Carga del dataset a trabajar "
   ]
  },
  {
   "cell_type": "code",
   "execution_count": 3,
   "id": "ebef0a10",
   "metadata": {},
   "outputs": [
    {
     "data": {
      "text/html": [
       "<div>\n",
       "<style scoped>\n",
       "    .dataframe tbody tr th:only-of-type {\n",
       "        vertical-align: middle;\n",
       "    }\n",
       "\n",
       "    .dataframe tbody tr th {\n",
       "        vertical-align: top;\n",
       "    }\n",
       "\n",
       "    .dataframe thead th {\n",
       "        text-align: right;\n",
       "    }\n",
       "</style>\n",
       "<table border=\"1\" class=\"dataframe\">\n",
       "  <thead>\n",
       "    <tr style=\"text-align: right;\">\n",
       "      <th></th>\n",
       "      <th>Fecha_Pago</th>\n",
       "      <th>Vencimiento</th>\n",
       "      <th>Tipo_Prestamo</th>\n",
       "      <th>Numero_Prestamo</th>\n",
       "      <th>DNI</th>\n",
       "      <th>Total_Prestamo</th>\n",
       "      <th>Total_cuotas</th>\n",
       "      <th>Numero_Cuota</th>\n",
       "      <th>Porcentaje_de_cuotas_faltantes</th>\n",
       "      <th>Pago</th>\n",
       "      <th>Porcentaje_de_cuota_sobre_prestamo</th>\n",
       "      <th>genero</th>\n",
       "      <th>Edad</th>\n",
       "      <th>Paga_en_Termino</th>\n",
       "      <th>Refinanciado</th>\n",
       "    </tr>\n",
       "  </thead>\n",
       "  <tbody>\n",
       "    <tr>\n",
       "      <th>0</th>\n",
       "      <td>02/01/2015</td>\n",
       "      <td>20/02/2015</td>\n",
       "      <td>974</td>\n",
       "      <td>1091205</td>\n",
       "      <td>16,090,435.00</td>\n",
       "      <td>181874,40</td>\n",
       "      <td>240</td>\n",
       "      <td>119</td>\n",
       "      <td>0,50</td>\n",
       "      <td>623,82</td>\n",
       "      <td>0,34</td>\n",
       "      <td>Masculino</td>\n",
       "      <td>42.00</td>\n",
       "      <td>1</td>\n",
       "      <td>0</td>\n",
       "    </tr>\n",
       "    <tr>\n",
       "      <th>1</th>\n",
       "      <td>02/01/2015</td>\n",
       "      <td>20/01/2015</td>\n",
       "      <td>974</td>\n",
       "      <td>1091205</td>\n",
       "      <td>16,090,435.00</td>\n",
       "      <td>181874,40</td>\n",
       "      <td>240</td>\n",
       "      <td>118</td>\n",
       "      <td>0,51</td>\n",
       "      <td>623,82</td>\n",
       "      <td>0,34</td>\n",
       "      <td>Masculino</td>\n",
       "      <td>42.00</td>\n",
       "      <td>1</td>\n",
       "      <td>0</td>\n",
       "    </tr>\n",
       "    <tr>\n",
       "      <th>2</th>\n",
       "      <td>02/01/2015</td>\n",
       "      <td>20/03/2015</td>\n",
       "      <td>974</td>\n",
       "      <td>1091205</td>\n",
       "      <td>16,090,435.00</td>\n",
       "      <td>181874,40</td>\n",
       "      <td>240</td>\n",
       "      <td>120</td>\n",
       "      <td>0,50</td>\n",
       "      <td>623,82</td>\n",
       "      <td>0,34</td>\n",
       "      <td>Masculino</td>\n",
       "      <td>42.00</td>\n",
       "      <td>1</td>\n",
       "      <td>0</td>\n",
       "    </tr>\n",
       "    <tr>\n",
       "      <th>3</th>\n",
       "      <td>02/01/2015</td>\n",
       "      <td>20/01/2015</td>\n",
       "      <td>955</td>\n",
       "      <td>1095467</td>\n",
       "      <td>2,115,837.00</td>\n",
       "      <td>14180,19</td>\n",
       "      <td>360</td>\n",
       "      <td>102</td>\n",
       "      <td>0,72</td>\n",
       "      <td>45,26</td>\n",
       "      <td>0,32</td>\n",
       "      <td>Femenino</td>\n",
       "      <td>95.00</td>\n",
       "      <td>1</td>\n",
       "      <td>0</td>\n",
       "    </tr>\n",
       "    <tr>\n",
       "      <th>4</th>\n",
       "      <td>02/01/2015</td>\n",
       "      <td>20/02/2015</td>\n",
       "      <td>877</td>\n",
       "      <td>10991758</td>\n",
       "      <td>25,238,393.00</td>\n",
       "      <td>551452,31</td>\n",
       "      <td>360</td>\n",
       "      <td>45</td>\n",
       "      <td>0,88</td>\n",
       "      <td>993,63</td>\n",
       "      <td>0,18</td>\n",
       "      <td>NaN</td>\n",
       "      <td>45.00</td>\n",
       "      <td>1</td>\n",
       "      <td>0</td>\n",
       "    </tr>\n",
       "  </tbody>\n",
       "</table>\n",
       "</div>"
      ],
      "text/plain": [
       "   Fecha_Pago Vencimiento  Tipo_Prestamo  Numero_Prestamo           DNI  \\\n",
       "0  02/01/2015  20/02/2015            974          1091205 16,090,435.00   \n",
       "1  02/01/2015  20/01/2015            974          1091205 16,090,435.00   \n",
       "2  02/01/2015  20/03/2015            974          1091205 16,090,435.00   \n",
       "3  02/01/2015  20/01/2015            955          1095467  2,115,837.00   \n",
       "4  02/01/2015  20/02/2015            877         10991758 25,238,393.00   \n",
       "\n",
       "  Total_Prestamo  Total_cuotas  Numero_Cuota Porcentaje_de_cuotas_faltantes  \\\n",
       "0      181874,40           240           119                           0,50   \n",
       "1      181874,40           240           118                           0,51   \n",
       "2      181874,40           240           120                           0,50   \n",
       "3       14180,19           360           102                           0,72   \n",
       "4      551452,31           360            45                           0,88   \n",
       "\n",
       "     Pago Porcentaje_de_cuota_sobre_prestamo     genero  Edad  \\\n",
       "0  623,82                               0,34  Masculino 42.00   \n",
       "1  623,82                               0,34  Masculino 42.00   \n",
       "2  623,82                               0,34  Masculino 42.00   \n",
       "3   45,26                               0,32   Femenino 95.00   \n",
       "4  993,63                               0,18        NaN 45.00   \n",
       "\n",
       "   Paga_en_Termino  Refinanciado  \n",
       "0                1             0  \n",
       "1                1             0  \n",
       "2                1             0  \n",
       "3                1             0  \n",
       "4                1             0  "
      ]
     },
     "execution_count": 3,
     "metadata": {},
     "output_type": "execute_result"
    }
   ],
   "source": [
    "# Se carga el dataset\n",
    "df = pd.read_csv('Data/DATASET TP4 VERSION 7 2015-2019 correjido.csv', sep=';')\n",
    "df.head(5)"
   ]
  },
  {
   "cell_type": "code",
   "execution_count": 4,
   "id": "f6e35308",
   "metadata": {},
   "outputs": [
    {
     "data": {
      "text/html": [
       "<div>\n",
       "<style scoped>\n",
       "    .dataframe tbody tr th:only-of-type {\n",
       "        vertical-align: middle;\n",
       "    }\n",
       "\n",
       "    .dataframe tbody tr th {\n",
       "        vertical-align: top;\n",
       "    }\n",
       "\n",
       "    .dataframe thead th {\n",
       "        text-align: right;\n",
       "    }\n",
       "</style>\n",
       "<table border=\"1\" class=\"dataframe\">\n",
       "  <thead>\n",
       "    <tr style=\"text-align: right;\">\n",
       "      <th></th>\n",
       "      <th>fecha_pago</th>\n",
       "      <th>vencimiento</th>\n",
       "      <th>tipo_prestamo</th>\n",
       "      <th>numero_prestamo</th>\n",
       "      <th>dni</th>\n",
       "      <th>total_prestamo</th>\n",
       "      <th>total_cuotas</th>\n",
       "      <th>numero_cuota</th>\n",
       "      <th>porcentaje_de_cuotas_faltantes</th>\n",
       "      <th>pago</th>\n",
       "      <th>porcentaje_de_cuota_sobre_prestamo</th>\n",
       "      <th>genero</th>\n",
       "      <th>edad</th>\n",
       "      <th>paga_en_termino</th>\n",
       "      <th>refinanciado</th>\n",
       "    </tr>\n",
       "  </thead>\n",
       "  <tbody>\n",
       "    <tr>\n",
       "      <th>0</th>\n",
       "      <td>02/01/2015</td>\n",
       "      <td>20/02/2015</td>\n",
       "      <td>974</td>\n",
       "      <td>1091205</td>\n",
       "      <td>16,090,435.00</td>\n",
       "      <td>181874,40</td>\n",
       "      <td>240</td>\n",
       "      <td>119</td>\n",
       "      <td>0,50</td>\n",
       "      <td>623,82</td>\n",
       "      <td>0,34</td>\n",
       "      <td>Masculino</td>\n",
       "      <td>42.00</td>\n",
       "      <td>1</td>\n",
       "      <td>0</td>\n",
       "    </tr>\n",
       "    <tr>\n",
       "      <th>1</th>\n",
       "      <td>02/01/2015</td>\n",
       "      <td>20/01/2015</td>\n",
       "      <td>974</td>\n",
       "      <td>1091205</td>\n",
       "      <td>16,090,435.00</td>\n",
       "      <td>181874,40</td>\n",
       "      <td>240</td>\n",
       "      <td>118</td>\n",
       "      <td>0,51</td>\n",
       "      <td>623,82</td>\n",
       "      <td>0,34</td>\n",
       "      <td>Masculino</td>\n",
       "      <td>42.00</td>\n",
       "      <td>1</td>\n",
       "      <td>0</td>\n",
       "    </tr>\n",
       "    <tr>\n",
       "      <th>2</th>\n",
       "      <td>02/01/2015</td>\n",
       "      <td>20/03/2015</td>\n",
       "      <td>974</td>\n",
       "      <td>1091205</td>\n",
       "      <td>16,090,435.00</td>\n",
       "      <td>181874,40</td>\n",
       "      <td>240</td>\n",
       "      <td>120</td>\n",
       "      <td>0,50</td>\n",
       "      <td>623,82</td>\n",
       "      <td>0,34</td>\n",
       "      <td>Masculino</td>\n",
       "      <td>42.00</td>\n",
       "      <td>1</td>\n",
       "      <td>0</td>\n",
       "    </tr>\n",
       "    <tr>\n",
       "      <th>3</th>\n",
       "      <td>02/01/2015</td>\n",
       "      <td>20/01/2015</td>\n",
       "      <td>955</td>\n",
       "      <td>1095467</td>\n",
       "      <td>2,115,837.00</td>\n",
       "      <td>14180,19</td>\n",
       "      <td>360</td>\n",
       "      <td>102</td>\n",
       "      <td>0,72</td>\n",
       "      <td>45,26</td>\n",
       "      <td>0,32</td>\n",
       "      <td>Femenino</td>\n",
       "      <td>95.00</td>\n",
       "      <td>1</td>\n",
       "      <td>0</td>\n",
       "    </tr>\n",
       "    <tr>\n",
       "      <th>4</th>\n",
       "      <td>02/01/2015</td>\n",
       "      <td>20/02/2015</td>\n",
       "      <td>877</td>\n",
       "      <td>10991758</td>\n",
       "      <td>25,238,393.00</td>\n",
       "      <td>551452,31</td>\n",
       "      <td>360</td>\n",
       "      <td>45</td>\n",
       "      <td>0,88</td>\n",
       "      <td>993,63</td>\n",
       "      <td>0,18</td>\n",
       "      <td>NaN</td>\n",
       "      <td>45.00</td>\n",
       "      <td>1</td>\n",
       "      <td>0</td>\n",
       "    </tr>\n",
       "  </tbody>\n",
       "</table>\n",
       "</div>"
      ],
      "text/plain": [
       "   fecha_pago vencimiento  tipo_prestamo  numero_prestamo           dni  \\\n",
       "0  02/01/2015  20/02/2015            974          1091205 16,090,435.00   \n",
       "1  02/01/2015  20/01/2015            974          1091205 16,090,435.00   \n",
       "2  02/01/2015  20/03/2015            974          1091205 16,090,435.00   \n",
       "3  02/01/2015  20/01/2015            955          1095467  2,115,837.00   \n",
       "4  02/01/2015  20/02/2015            877         10991758 25,238,393.00   \n",
       "\n",
       "  total_prestamo  total_cuotas  numero_cuota porcentaje_de_cuotas_faltantes  \\\n",
       "0      181874,40           240           119                           0,50   \n",
       "1      181874,40           240           118                           0,51   \n",
       "2      181874,40           240           120                           0,50   \n",
       "3       14180,19           360           102                           0,72   \n",
       "4      551452,31           360            45                           0,88   \n",
       "\n",
       "     pago porcentaje_de_cuota_sobre_prestamo     genero  edad  \\\n",
       "0  623,82                               0,34  Masculino 42.00   \n",
       "1  623,82                               0,34  Masculino 42.00   \n",
       "2  623,82                               0,34  Masculino 42.00   \n",
       "3   45,26                               0,32   Femenino 95.00   \n",
       "4  993,63                               0,18        NaN 45.00   \n",
       "\n",
       "   paga_en_termino  refinanciado  \n",
       "0                1             0  \n",
       "1                1             0  \n",
       "2                1             0  \n",
       "3                1             0  \n",
       "4                1             0  "
      ]
     },
     "execution_count": 4,
     "metadata": {},
     "output_type": "execute_result"
    }
   ],
   "source": [
    "# Unifico nombre de columnas\n",
    "columns_names_new = list(map(lambda x: x.lower(), df.columns))\n",
    "df.columns = columns_names_new\n",
    "df.head()"
   ]
  },
  {
   "cell_type": "markdown",
   "id": "671cc40f",
   "metadata": {},
   "source": [
    "## Tipo de datos, valores faltantes y valores nulos "
   ]
  },
  {
   "cell_type": "code",
   "execution_count": 5,
   "id": "7300dfae",
   "metadata": {},
   "outputs": [
    {
     "name": "stdout",
     "output_type": "stream",
     "text": [
      "763877 15\n"
     ]
    }
   ],
   "source": [
    "# Cantidad de datos totales\n",
    "rows_n, cols_n = df.shape\n",
    "print(rows_n, cols_n)"
   ]
  },
  {
   "cell_type": "markdown",
   "id": "6cadb74e",
   "metadata": {},
   "source": [
    "### Valores nulos y tipo de datos "
   ]
  },
  {
   "cell_type": "code",
   "execution_count": 6,
   "id": "4c5a5645",
   "metadata": {},
   "outputs": [
    {
     "name": "stdout",
     "output_type": "stream",
     "text": [
      "<class 'pandas.core.frame.DataFrame'>\n",
      "RangeIndex: 763877 entries, 0 to 763876\n",
      "Data columns (total 15 columns):\n",
      " #   Column                              Non-Null Count   Dtype  \n",
      "---  ------                              --------------   -----  \n",
      " 0   fecha_pago                          763877 non-null  object \n",
      " 1   vencimiento                         763877 non-null  object \n",
      " 2   tipo_prestamo                       763877 non-null  int64  \n",
      " 3   numero_prestamo                     763877 non-null  int64  \n",
      " 4   dni                                 649441 non-null  float64\n",
      " 5   total_prestamo                      763877 non-null  object \n",
      " 6   total_cuotas                        763877 non-null  int64  \n",
      " 7   numero_cuota                        763877 non-null  int64  \n",
      " 8   porcentaje_de_cuotas_faltantes      763877 non-null  object \n",
      " 9   pago                                763877 non-null  object \n",
      " 10  porcentaje_de_cuota_sobre_prestamo  763877 non-null  object \n",
      " 11  genero                              437189 non-null  object \n",
      " 12  edad                                464327 non-null  float64\n",
      " 13  paga_en_termino                     763877 non-null  int64  \n",
      " 14  refinanciado                        763877 non-null  int64  \n",
      "dtypes: float64(2), int64(6), object(7)\n",
      "memory usage: 87.4+ MB\n"
     ]
    }
   ],
   "source": [
    "# Se observa los tipos de columna\n",
    "df.info()"
   ]
  },
  {
   "cell_type": "code",
   "execution_count": 7,
   "id": "285ecf9b",
   "metadata": {},
   "outputs": [
    {
     "name": "stdout",
     "output_type": "stream",
     "text": [
      "Your selected dataframe has 15 columns.\n",
      "There are 3 columns that have missing values.\n"
     ]
    },
    {
     "data": {
      "text/html": [
       "<div>\n",
       "<style scoped>\n",
       "    .dataframe tbody tr th:only-of-type {\n",
       "        vertical-align: middle;\n",
       "    }\n",
       "\n",
       "    .dataframe tbody tr th {\n",
       "        vertical-align: top;\n",
       "    }\n",
       "\n",
       "    .dataframe thead th {\n",
       "        text-align: right;\n",
       "    }\n",
       "</style>\n",
       "<table border=\"1\" class=\"dataframe\">\n",
       "  <thead>\n",
       "    <tr style=\"text-align: right;\">\n",
       "      <th></th>\n",
       "      <th>Missing Values</th>\n",
       "      <th>% of Total Values</th>\n",
       "    </tr>\n",
       "  </thead>\n",
       "  <tbody>\n",
       "    <tr>\n",
       "      <th>genero</th>\n",
       "      <td>326688</td>\n",
       "      <td>42.80</td>\n",
       "    </tr>\n",
       "    <tr>\n",
       "      <th>edad</th>\n",
       "      <td>299550</td>\n",
       "      <td>39.20</td>\n",
       "    </tr>\n",
       "    <tr>\n",
       "      <th>dni</th>\n",
       "      <td>114436</td>\n",
       "      <td>15.00</td>\n",
       "    </tr>\n",
       "  </tbody>\n",
       "</table>\n",
       "</div>"
      ],
      "text/plain": [
       "        Missing Values  % of Total Values\n",
       "genero          326688              42.80\n",
       "edad            299550              39.20\n",
       "dni             114436              15.00"
      ]
     },
     "execution_count": 7,
     "metadata": {},
     "output_type": "execute_result"
    }
   ],
   "source": [
    "# Detectamos valores faltantes en genero\n",
    "dsimp.missing_values_table(df)"
   ]
  },
  {
   "cell_type": "markdown",
   "id": "971eb500",
   "metadata": {},
   "source": [
    "Detectamos Valores faltantes en GENERO; EDAD Y DNI"
   ]
  },
  {
   "cell_type": "code",
   "execution_count": 8,
   "id": "dfcad236",
   "metadata": {},
   "outputs": [
    {
     "data": {
      "text/plain": [
       "<AxesSubplot:>"
      ]
     },
     "execution_count": 8,
     "metadata": {},
     "output_type": "execute_result"
    },
    {
     "data": {
      "image/png": "[encoded data removed]",
      "text/plain": [
       "<Figure size 2160x720 with 2 Axes>"
      ]
     },
     "metadata": {
      "needs_background": "light"
     },
     "output_type": "display_data"
    }
   ],
   "source": [
    "# Detectamos valores faltantes\n",
    "msno.matrix(df, figsize=(30,10))"
   ]
  },
  {
   "cell_type": "markdown",
   "id": "13c70773",
   "metadata": {},
   "source": [
    "## Chequeo que para cada DNI exista una unica edad y genero"
   ]
  },
  {
   "cell_type": "code",
   "execution_count": 9,
   "id": "c6237566",
   "metadata": {},
   "outputs": [],
   "source": [
    "dni_df = df[['dni', 'edad', 'genero']]"
   ]
  },
  {
   "cell_type": "code",
   "execution_count": 10,
   "id": "e6cafcac",
   "metadata": {},
   "outputs": [
    {
     "name": "stderr",
     "output_type": "stream",
     "text": [
      "C:\\Users\\Fran\\AppData\\Local\\Temp/ipykernel_5396/2013069165.py:1: FutureWarning: Indexing with multiple keys (implicitly converted to a tuple of keys) will be deprecated, use a list instead.\n",
      "  dni_uniques = dni_df.groupby('dni')['edad','genero'].nunique()\n"
     ]
    },
    {
     "data": {
      "text/html": [
       "<div>\n",
       "<style scoped>\n",
       "    .dataframe tbody tr th:only-of-type {\n",
       "        vertical-align: middle;\n",
       "    }\n",
       "\n",
       "    .dataframe tbody tr th {\n",
       "        vertical-align: top;\n",
       "    }\n",
       "\n",
       "    .dataframe thead th {\n",
       "        text-align: right;\n",
       "    }\n",
       "</style>\n",
       "<table border=\"1\" class=\"dataframe\">\n",
       "  <thead>\n",
       "    <tr style=\"text-align: right;\">\n",
       "      <th></th>\n",
       "      <th>edad</th>\n",
       "      <th>genero</th>\n",
       "    </tr>\n",
       "    <tr>\n",
       "      <th>dni</th>\n",
       "      <th></th>\n",
       "      <th></th>\n",
       "    </tr>\n",
       "  </thead>\n",
       "  <tbody>\n",
       "    <tr>\n",
       "      <th>2.00</th>\n",
       "      <td>0</td>\n",
       "      <td>0</td>\n",
       "    </tr>\n",
       "    <tr>\n",
       "      <th>9.00</th>\n",
       "      <td>1</td>\n",
       "      <td>1</td>\n",
       "    </tr>\n",
       "    <tr>\n",
       "      <th>29.00</th>\n",
       "      <td>1</td>\n",
       "      <td>1</td>\n",
       "    </tr>\n",
       "  </tbody>\n",
       "</table>\n",
       "</div>"
      ],
      "text/plain": [
       "       edad  genero\n",
       "dni                \n",
       "2.00      0       0\n",
       "9.00      1       1\n",
       "29.00     1       1"
      ]
     },
     "execution_count": 10,
     "metadata": {},
     "output_type": "execute_result"
    }
   ],
   "source": [
    "dni_uniques = dni_df.groupby('dni')['edad','genero'].nunique()\n",
    "dni_uniques.head(3)"
   ]
  },
  {
   "cell_type": "code",
   "execution_count": 11,
   "id": "442cd177",
   "metadata": {},
   "outputs": [
    {
     "data": {
      "text/plain": [
       "Float64Index([ 3073270.0,  4305479.0,  4954272.0,  4991124.0,  5087952.0,\n",
       "               5124029.0,  5138405.0,  5201050.0,  5282162.0,  5570811.0,\n",
       "               5594257.0,  5658001.0,  5665791.0,  6084686.0,  6147893.0,\n",
       "               6245394.0,  6371629.0,  6519814.0,  6536437.0,  6652650.0,\n",
       "               7162249.0,  7377515.0,  7704965.0,  8252165.0,  8326485.0,\n",
       "               8400924.0,  8514256.0,  8633243.0, 10174146.0, 10758672.0,\n",
       "              11241030.0, 11469042.0, 11768623.0, 12702446.0, 12712566.0,\n",
       "              13285676.0, 14317845.0, 16051677.0, 16315055.0, 16938614.0,\n",
       "              17046748.0, 17187923.0, 17283305.0, 17563244.0, 17614252.0,\n",
       "              18328611.0, 18387076.0, 18404973.0, 18652869.0, 20351439.0,\n",
       "              20389809.0, 20986191.0, 21640157.0, 24905162.0, 25228398.0,\n",
       "              92028416.0, 92089425.0, 92099674.0, 92244256.0, 92452663.0,\n",
       "              92640824.0, 92676137.0, 92840561.0, 92903683.0, 92940304.0,\n",
       "              92947290.0, 92950018.0, 93329610.0, 93575551.0, 93953826.0,\n",
       "              94173978.0, 94317611.0, 94602650.0],\n",
       "             dtype='float64', name='dni')"
      ]
     },
     "execution_count": 11,
     "metadata": {},
     "output_type": "execute_result"
    }
   ],
   "source": [
    "# Obtengo los DNI que tengan mas de una edad o genero\n",
    "dni_error = dni_uniques[(dni_uniques>1).any(axis=1)].index\n",
    "dni_error"
   ]
  },
  {
   "cell_type": "code",
   "execution_count": 12,
   "id": "114e42fe",
   "metadata": {},
   "outputs": [],
   "source": [
    "df_1_sin_dni_error = df[~df['dni'].isin(dni_error)].copy()"
   ]
  },
  {
   "cell_type": "markdown",
   "id": "265a9824",
   "metadata": {},
   "source": [
    "### Genero y edad "
   ]
  },
  {
   "cell_type": "code",
   "execution_count": 13,
   "id": "59f5050b",
   "metadata": {},
   "outputs": [],
   "source": [
    "# Separado las columnas que no tienen problemas de las que si\n",
    "columns_problem = ['genero', 'edad']\n",
    "columns_ok = list(set(df.columns) - set(columns_problem))"
   ]
  },
  {
   "cell_type": "code",
   "execution_count": 14,
   "id": "2315eb3f",
   "metadata": {},
   "outputs": [
    {
     "data": {
      "text/plain": [
       "65590"
      ]
     },
     "execution_count": 14,
     "metadata": {},
     "output_type": "execute_result"
    }
   ],
   "source": [
    "#  Chequeo filas duplicadas del dataset, habiendo sacado las columnas de genero y edad\n",
    "df_1_sin_dni_error[columns_ok].duplicated().sum()"
   ]
  },
  {
   "cell_type": "code",
   "execution_count": 15,
   "id": "d3fc8ee6",
   "metadata": {},
   "outputs": [],
   "source": [
    "# Mergeo las filas duplicadas remplazando los valores nulos de genero y edad // ver si las droppeo los prestamos\n",
    "df_2_sin_dup =df_1_sin_dni_error.groupby(columns_ok)[columns_problem].first().reset_index()"
   ]
  },
  {
   "cell_type": "code",
   "execution_count": 16,
   "id": "abeeccf0",
   "metadata": {},
   "outputs": [
    {
     "name": "stdout",
     "output_type": "stream",
     "text": [
      "Your selected dataframe has 15 columns.\n",
      "There are 2 columns that have missing values.\n"
     ]
    },
    {
     "data": {
      "text/html": [
       "<div>\n",
       "<style scoped>\n",
       "    .dataframe tbody tr th:only-of-type {\n",
       "        vertical-align: middle;\n",
       "    }\n",
       "\n",
       "    .dataframe tbody tr th {\n",
       "        vertical-align: top;\n",
       "    }\n",
       "\n",
       "    .dataframe thead th {\n",
       "        text-align: right;\n",
       "    }\n",
       "</style>\n",
       "<table border=\"1\" class=\"dataframe\">\n",
       "  <thead>\n",
       "    <tr style=\"text-align: right;\">\n",
       "      <th></th>\n",
       "      <th>Missing Values</th>\n",
       "      <th>% of Total Values</th>\n",
       "    </tr>\n",
       "  </thead>\n",
       "  <tbody>\n",
       "    <tr>\n",
       "      <th>genero</th>\n",
       "      <td>142829</td>\n",
       "      <td>24.80</td>\n",
       "    </tr>\n",
       "    <tr>\n",
       "      <th>edad</th>\n",
       "      <td>121511</td>\n",
       "      <td>21.10</td>\n",
       "    </tr>\n",
       "  </tbody>\n",
       "</table>\n",
       "</div>"
      ],
      "text/plain": [
       "        Missing Values  % of Total Values\n",
       "genero          142829              24.80\n",
       "edad            121511              21.10"
      ]
     },
     "execution_count": 16,
     "metadata": {},
     "output_type": "execute_result"
    }
   ],
   "source": [
    "# chequeo valores faltantes\n",
    "dsimp.missing_values_table(df_2_sin_dup)"
   ]
  },
  {
   "cell_type": "code",
   "execution_count": 17,
   "id": "67a8090e",
   "metadata": {},
   "outputs": [
    {
     "data": {
      "text/plain": [
       "0"
      ]
     },
     "execution_count": 17,
     "metadata": {},
     "output_type": "execute_result"
    }
   ],
   "source": [
    "# ya no tengo filas duplicadas\n",
    "df_2_sin_dup[columns_ok].duplicated().sum()"
   ]
  },
  {
   "cell_type": "code",
   "execution_count": 18,
   "id": "31bb9af0",
   "metadata": {},
   "outputs": [],
   "source": [
    "# separo los dni que tienen valores nulos\n",
    "dni_gen_null = df_2_sin_dup.loc[df_2_sin_dup['genero'].isnull(), 'dni']\n",
    "dni_edad_null = df_2_sin_dup.loc[df_2_sin_dup['edad'].isnull(), 'dni']"
   ]
  },
  {
   "cell_type": "markdown",
   "id": "b872255a",
   "metadata": {},
   "source": [
    "### Busco completar el genero que sigue en NAN"
   ]
  },
  {
   "cell_type": "code",
   "execution_count": 19,
   "id": "3e347f51",
   "metadata": {},
   "outputs": [
    {
     "data": {
      "text/html": [
       "<div>\n",
       "<style scoped>\n",
       "    .dataframe tbody tr th:only-of-type {\n",
       "        vertical-align: middle;\n",
       "    }\n",
       "\n",
       "    .dataframe tbody tr th {\n",
       "        vertical-align: top;\n",
       "    }\n",
       "\n",
       "    .dataframe thead th {\n",
       "        text-align: right;\n",
       "    }\n",
       "</style>\n",
       "<table border=\"1\" class=\"dataframe\">\n",
       "  <thead>\n",
       "    <tr style=\"text-align: right;\">\n",
       "      <th></th>\n",
       "      <th>fecha_pago</th>\n",
       "      <th>vencimiento</th>\n",
       "      <th>tipo_prestamo</th>\n",
       "      <th>numero_prestamo</th>\n",
       "      <th>dni</th>\n",
       "      <th>total_prestamo</th>\n",
       "      <th>total_cuotas</th>\n",
       "      <th>numero_cuota</th>\n",
       "      <th>porcentaje_de_cuotas_faltantes</th>\n",
       "      <th>pago</th>\n",
       "      <th>porcentaje_de_cuota_sobre_prestamo</th>\n",
       "      <th>genero</th>\n",
       "      <th>edad</th>\n",
       "      <th>paga_en_termino</th>\n",
       "      <th>refinanciado</th>\n",
       "    </tr>\n",
       "  </thead>\n",
       "  <tbody>\n",
       "  </tbody>\n",
       "</table>\n",
       "</div>"
      ],
      "text/plain": [
       "Empty DataFrame\n",
       "Columns: [fecha_pago, vencimiento, tipo_prestamo, numero_prestamo, dni, total_prestamo, total_cuotas, numero_cuota, porcentaje_de_cuotas_faltantes, pago, porcentaje_de_cuota_sobre_prestamo, genero, edad, paga_en_termino, refinanciado]\n",
       "Index: []"
      ]
     },
     "execution_count": 19,
     "metadata": {},
     "output_type": "execute_result"
    }
   ],
   "source": [
    "# trato de ver si puedo traer el genero del dni\n",
    "df.loc[(df['dni'].isin(dni_gen_null)) & (~df['genero'].isnull())]"
   ]
  },
  {
   "cell_type": "markdown",
   "id": "ec55ec4c",
   "metadata": {},
   "source": [
    "### Busco completar la edad que sigue en NAN"
   ]
  },
  {
   "cell_type": "code",
   "execution_count": 20,
   "id": "716ddff0",
   "metadata": {},
   "outputs": [
    {
     "data": {
      "text/html": [
       "<div>\n",
       "<style scoped>\n",
       "    .dataframe tbody tr th:only-of-type {\n",
       "        vertical-align: middle;\n",
       "    }\n",
       "\n",
       "    .dataframe tbody tr th {\n",
       "        vertical-align: top;\n",
       "    }\n",
       "\n",
       "    .dataframe thead th {\n",
       "        text-align: right;\n",
       "    }\n",
       "</style>\n",
       "<table border=\"1\" class=\"dataframe\">\n",
       "  <thead>\n",
       "    <tr style=\"text-align: right;\">\n",
       "      <th></th>\n",
       "      <th>fecha_pago</th>\n",
       "      <th>vencimiento</th>\n",
       "      <th>tipo_prestamo</th>\n",
       "      <th>numero_prestamo</th>\n",
       "      <th>dni</th>\n",
       "      <th>total_prestamo</th>\n",
       "      <th>total_cuotas</th>\n",
       "      <th>numero_cuota</th>\n",
       "      <th>porcentaje_de_cuotas_faltantes</th>\n",
       "      <th>pago</th>\n",
       "      <th>porcentaje_de_cuota_sobre_prestamo</th>\n",
       "      <th>genero</th>\n",
       "      <th>edad</th>\n",
       "      <th>paga_en_termino</th>\n",
       "      <th>refinanciado</th>\n",
       "    </tr>\n",
       "  </thead>\n",
       "  <tbody>\n",
       "  </tbody>\n",
       "</table>\n",
       "</div>"
      ],
      "text/plain": [
       "Empty DataFrame\n",
       "Columns: [fecha_pago, vencimiento, tipo_prestamo, numero_prestamo, dni, total_prestamo, total_cuotas, numero_cuota, porcentaje_de_cuotas_faltantes, pago, porcentaje_de_cuota_sobre_prestamo, genero, edad, paga_en_termino, refinanciado]\n",
       "Index: []"
      ]
     },
     "execution_count": 20,
     "metadata": {},
     "output_type": "execute_result"
    }
   ],
   "source": [
    "# trato de ver si puedo traer la edad del los dni faltantes buscandolos en el dataset  original\n",
    "df.loc[(df['dni'].isin(dni_edad_null)) & (~df['edad'].isnull())]"
   ]
  },
  {
   "cell_type": "code",
   "execution_count": 21,
   "id": "1ebbecc2",
   "metadata": {},
   "outputs": [],
   "source": [
    "# No puedo completar las filas asi que las saco\n",
    "df_3_sin_nan = df_2_sin_dup.dropna()"
   ]
  },
  {
   "cell_type": "code",
   "execution_count": 22,
   "id": "77d9cdba",
   "metadata": {},
   "outputs": [
    {
     "name": "stdout",
     "output_type": "stream",
     "text": [
      "Your selected dataframe has 15 columns.\n",
      "There are 0 columns that have missing values.\n"
     ]
    },
    {
     "data": {
      "text/html": [
       "<div>\n",
       "<style scoped>\n",
       "    .dataframe tbody tr th:only-of-type {\n",
       "        vertical-align: middle;\n",
       "    }\n",
       "\n",
       "    .dataframe tbody tr th {\n",
       "        vertical-align: top;\n",
       "    }\n",
       "\n",
       "    .dataframe thead th {\n",
       "        text-align: right;\n",
       "    }\n",
       "</style>\n",
       "<table border=\"1\" class=\"dataframe\">\n",
       "  <thead>\n",
       "    <tr style=\"text-align: right;\">\n",
       "      <th></th>\n",
       "      <th>Missing Values</th>\n",
       "      <th>% of Total Values</th>\n",
       "    </tr>\n",
       "  </thead>\n",
       "  <tbody>\n",
       "  </tbody>\n",
       "</table>\n",
       "</div>"
      ],
      "text/plain": [
       "Empty DataFrame\n",
       "Columns: [Missing Values, % of Total Values]\n",
       "Index: []"
      ]
     },
     "execution_count": 22,
     "metadata": {},
     "output_type": "execute_result"
    }
   ],
   "source": [
    "# chequeo valores faltantes\n",
    "dsimp.missing_values_table(df_3_sin_nan)"
   ]
  },
  {
   "cell_type": "markdown",
   "id": "4c89fde1",
   "metadata": {},
   "source": [
    "# 3. DATA FORMATING"
   ]
  },
  {
   "cell_type": "code",
   "execution_count": 23,
   "id": "4d1c536e",
   "metadata": {},
   "outputs": [],
   "source": [
    "df_4_parsed = df_3_sin_nan.copy()"
   ]
  },
  {
   "cell_type": "code",
   "execution_count": 24,
   "id": "dfd7f5f4",
   "metadata": {},
   "outputs": [
    {
     "name": "stdout",
     "output_type": "stream",
     "text": [
      "<class 'pandas.core.frame.DataFrame'>\n",
      "Int64Index: 395516 entries, 0 to 575914\n",
      "Data columns (total 15 columns):\n",
      " #   Column                              Non-Null Count   Dtype  \n",
      "---  ------                              --------------   -----  \n",
      " 0   paga_en_termino                     395516 non-null  int64  \n",
      " 1   numero_cuota                        395516 non-null  int64  \n",
      " 2   porcentaje_de_cuotas_faltantes      395516 non-null  object \n",
      " 3   vencimiento                         395516 non-null  object \n",
      " 4   porcentaje_de_cuota_sobre_prestamo  395516 non-null  object \n",
      " 5   total_cuotas                        395516 non-null  int64  \n",
      " 6   tipo_prestamo                       395516 non-null  int64  \n",
      " 7   total_prestamo                      395516 non-null  object \n",
      " 8   numero_prestamo                     395516 non-null  int64  \n",
      " 9   refinanciado                        395516 non-null  int64  \n",
      " 10  pago                                395516 non-null  object \n",
      " 11  dni                                 395516 non-null  float64\n",
      " 12  fecha_pago                          395516 non-null  object \n",
      " 13  genero                              395516 non-null  object \n",
      " 14  edad                                395516 non-null  float64\n",
      "dtypes: float64(2), int64(6), object(7)\n",
      "memory usage: 48.3+ MB\n"
     ]
    }
   ],
   "source": [
    "df_4_parsed.info()"
   ]
  },
  {
   "cell_type": "markdown",
   "id": "97456aad",
   "metadata": {},
   "source": [
    " ### Análisis de los tipo de de columna"
   ]
  },
  {
   "cell_type": "code",
   "execution_count": 25,
   "id": "0ee8acbb",
   "metadata": {},
   "outputs": [
    {
     "data": {
      "text/plain": [
       "Index(['porcentaje_de_cuotas_faltantes', 'vencimiento',\n",
       "       'porcentaje_de_cuota_sobre_prestamo', 'total_prestamo', 'pago',\n",
       "       'fecha_pago', 'genero'],\n",
       "      dtype='object')"
      ]
     },
     "execution_count": 25,
     "metadata": {},
     "output_type": "execute_result"
    }
   ],
   "source": [
    "# Columnas que son de tipo objeto\n",
    "df_4_parsed.select_dtypes(include=\"object\").columns"
   ]
  },
  {
   "cell_type": "code",
   "execution_count": 26,
   "id": "67e88e95",
   "metadata": {},
   "outputs": [
    {
     "data": {
      "text/plain": [
       "Index(['dni', 'edad'], dtype='object')"
      ]
     },
     "execution_count": 26,
     "metadata": {},
     "output_type": "execute_result"
    }
   ],
   "source": [
    "# Columnas que son de tipo float\n",
    "df_4_parsed.select_dtypes(include=\"float\").columns"
   ]
  },
  {
   "cell_type": "code",
   "execution_count": 27,
   "id": "451b6232",
   "metadata": {},
   "outputs": [
    {
     "data": {
      "text/plain": [
       "Index([], dtype='object')"
      ]
     },
     "execution_count": 27,
     "metadata": {},
     "output_type": "execute_result"
    }
   ],
   "source": [
    "# Columnas que son de tipo int\n",
    "df_4_parsed.select_dtypes(include=\"int\").columns"
   ]
  },
  {
   "cell_type": "markdown",
   "id": "96557351",
   "metadata": {},
   "source": [
    "### Parseo de columnas str a float"
   ]
  },
  {
   "cell_type": "code",
   "execution_count": 28,
   "id": "8913928c",
   "metadata": {},
   "outputs": [],
   "source": [
    "# Parceo a tipo float\n",
    "columns_to_float = ['pago', 'total_prestamo', 'porcentaje_de_cuotas_faltantes',  'porcentaje_de_cuota_sobre_prestamo']\n",
    "for column in columns_to_float:\n",
    "    df_4_parsed[column] = df_3_sin_nan[column].str.replace(',','.').astype('float')"
   ]
  },
  {
   "cell_type": "code",
   "execution_count": 29,
   "id": "733e64a2",
   "metadata": {},
   "outputs": [
    {
     "name": "stdout",
     "output_type": "stream",
     "text": [
      "<class 'pandas.core.frame.DataFrame'>\n",
      "Int64Index: 395516 entries, 0 to 575914\n",
      "Data columns (total 4 columns):\n",
      " #   Column                              Non-Null Count   Dtype  \n",
      "---  ------                              --------------   -----  \n",
      " 0   pago                                395516 non-null  float64\n",
      " 1   total_prestamo                      395516 non-null  float64\n",
      " 2   porcentaje_de_cuotas_faltantes      395516 non-null  float64\n",
      " 3   porcentaje_de_cuota_sobre_prestamo  395516 non-null  float64\n",
      "dtypes: float64(4)\n",
      "memory usage: 15.1 MB\n"
     ]
    }
   ],
   "source": [
    "df_4_parsed[columns_to_float].info()"
   ]
  },
  {
   "cell_type": "code",
   "execution_count": 30,
   "id": "b602e00a",
   "metadata": {},
   "outputs": [
    {
     "data": {
      "text/html": [
       "<div>\n",
       "<style scoped>\n",
       "    .dataframe tbody tr th:only-of-type {\n",
       "        vertical-align: middle;\n",
       "    }\n",
       "\n",
       "    .dataframe tbody tr th {\n",
       "        vertical-align: top;\n",
       "    }\n",
       "\n",
       "    .dataframe thead th {\n",
       "        text-align: right;\n",
       "    }\n",
       "</style>\n",
       "<table border=\"1\" class=\"dataframe\">\n",
       "  <thead>\n",
       "    <tr style=\"text-align: right;\">\n",
       "      <th></th>\n",
       "      <th>pago</th>\n",
       "      <th>total_prestamo</th>\n",
       "      <th>porcentaje_de_cuotas_faltantes</th>\n",
       "      <th>porcentaje_de_cuota_sobre_prestamo</th>\n",
       "    </tr>\n",
       "  </thead>\n",
       "  <tbody>\n",
       "    <tr>\n",
       "      <th>count</th>\n",
       "      <td>395516.00000</td>\n",
       "      <td>395516.00000</td>\n",
       "      <td>395516.00000</td>\n",
       "      <td>395516.00000</td>\n",
       "    </tr>\n",
       "    <tr>\n",
       "      <th>mean</th>\n",
       "      <td>5613.99243</td>\n",
       "      <td>207312.16066</td>\n",
       "      <td>0.69413</td>\n",
       "      <td>0.75141</td>\n",
       "    </tr>\n",
       "    <tr>\n",
       "      <th>std</th>\n",
       "      <td>122692.01370</td>\n",
       "      <td>439371.30052</td>\n",
       "      <td>0.21966</td>\n",
       "      <td>4.72712</td>\n",
       "    </tr>\n",
       "    <tr>\n",
       "      <th>min</th>\n",
       "      <td>1.01000</td>\n",
       "      <td>94.74000</td>\n",
       "      <td>0.00000</td>\n",
       "      <td>0.00000</td>\n",
       "    </tr>\n",
       "    <tr>\n",
       "      <th>25%</th>\n",
       "      <td>58.04000</td>\n",
       "      <td>20001.68000</td>\n",
       "      <td>0.59000</td>\n",
       "      <td>0.23000</td>\n",
       "    </tr>\n",
       "    <tr>\n",
       "      <th>50%</th>\n",
       "      <td>201.81000</td>\n",
       "      <td>66939.97000</td>\n",
       "      <td>0.72000</td>\n",
       "      <td>0.30000</td>\n",
       "    </tr>\n",
       "    <tr>\n",
       "      <th>75%</th>\n",
       "      <td>453.00000</td>\n",
       "      <td>152827.93000</td>\n",
       "      <td>0.86000</td>\n",
       "      <td>0.40000</td>\n",
       "    </tr>\n",
       "    <tr>\n",
       "      <th>max</th>\n",
       "      <td>6680660.81000</td>\n",
       "      <td>7951994.75000</td>\n",
       "      <td>1.00000</td>\n",
       "      <td>105.56000</td>\n",
       "    </tr>\n",
       "  </tbody>\n",
       "</table>\n",
       "</div>"
      ],
      "text/plain": [
       "                pago total_prestamo porcentaje_de_cuotas_faltantes  \\\n",
       "count   395516.00000   395516.00000                   395516.00000   \n",
       "mean      5613.99243   207312.16066                        0.69413   \n",
       "std     122692.01370   439371.30052                        0.21966   \n",
       "min          1.01000       94.74000                        0.00000   \n",
       "25%         58.04000    20001.68000                        0.59000   \n",
       "50%        201.81000    66939.97000                        0.72000   \n",
       "75%        453.00000   152827.93000                        0.86000   \n",
       "max    6680660.81000  7951994.75000                        1.00000   \n",
       "\n",
       "      porcentaje_de_cuota_sobre_prestamo  \n",
       "count                       395516.00000  \n",
       "mean                             0.75141  \n",
       "std                              4.72712  \n",
       "min                              0.00000  \n",
       "25%                              0.23000  \n",
       "50%                              0.30000  \n",
       "75%                              0.40000  \n",
       "max                            105.56000  "
      ]
     },
     "execution_count": 30,
     "metadata": {},
     "output_type": "execute_result"
    }
   ],
   "source": [
    "df_4_parsed[columns_to_float].describe().apply(lambda col: col.apply('{0:.5f}'.format))"
   ]
  },
  {
   "cell_type": "markdown",
   "id": "261de29c",
   "metadata": {},
   "source": [
    "### Parseo de columnas str a date"
   ]
  },
  {
   "cell_type": "code",
   "execution_count": 31,
   "id": "d3d7e75c",
   "metadata": {},
   "outputs": [],
   "source": [
    "# Se convierten las columnas de tipo object a tipo date \n",
    "columns_to_dates = ['fecha_pago', 'vencimiento']\n",
    "df_4_parsed[columns_to_dates] =df_4_parsed[columns_to_dates].astype('datetime64[ns]')"
   ]
  },
  {
   "cell_type": "markdown",
   "id": "e1560c8b",
   "metadata": {},
   "source": [
    "### Parseo de columnas str a category"
   ]
  },
  {
   "cell_type": "code",
   "execution_count": 32,
   "id": "58578d26",
   "metadata": {},
   "outputs": [],
   "source": [
    "df_4_parsed['genero'] = df_4_parsed['genero'].str.lower().replace(['femenino','masculino'],[0,1])"
   ]
  },
  {
   "cell_type": "markdown",
   "id": "33da5dd4",
   "metadata": {},
   "source": [
    "### Formato final"
   ]
  },
  {
   "cell_type": "code",
   "execution_count": 33,
   "id": "a8bd5d75",
   "metadata": {},
   "outputs": [
    {
     "name": "stdout",
     "output_type": "stream",
     "text": [
      "<class 'pandas.core.frame.DataFrame'>\n",
      "Int64Index: 395516 entries, 0 to 575914\n",
      "Data columns (total 15 columns):\n",
      " #   Column                              Non-Null Count   Dtype         \n",
      "---  ------                              --------------   -----         \n",
      " 0   paga_en_termino                     395516 non-null  int64         \n",
      " 1   numero_cuota                        395516 non-null  int64         \n",
      " 2   porcentaje_de_cuotas_faltantes      395516 non-null  float64       \n",
      " 3   vencimiento                         395516 non-null  datetime64[ns]\n",
      " 4   porcentaje_de_cuota_sobre_prestamo  395516 non-null  float64       \n",
      " 5   total_cuotas                        395516 non-null  int64         \n",
      " 6   tipo_prestamo                       395516 non-null  int64         \n",
      " 7   total_prestamo                      395516 non-null  float64       \n",
      " 8   numero_prestamo                     395516 non-null  int64         \n",
      " 9   refinanciado                        395516 non-null  int64         \n",
      " 10  pago                                395516 non-null  float64       \n",
      " 11  dni                                 395516 non-null  float64       \n",
      " 12  fecha_pago                          395516 non-null  datetime64[ns]\n",
      " 13  genero                              395516 non-null  int64         \n",
      " 14  edad                                395516 non-null  float64       \n",
      "dtypes: datetime64[ns](2), float64(6), int64(7)\n",
      "memory usage: 48.3 MB\n"
     ]
    }
   ],
   "source": [
    "df_4_parsed.info()"
   ]
  },
  {
   "cell_type": "markdown",
   "id": "4f063393",
   "metadata": {
    "tags": []
   },
   "source": [
    "# 4. EDA"
   ]
  },
  {
   "cell_type": "markdown",
   "id": "a90d389f",
   "metadata": {},
   "source": [
    "## Analisis variable objetivo"
   ]
  },
  {
   "cell_type": "markdown",
   "id": "37040109",
   "metadata": {},
   "source": [
    "Primero se inicia analizando la variable target para analizar si se encuentra balanceado el data set. Observamos que sigue una distribución uniforme, con lo cual no vamos a necesitar recurrir a SMOTE para balancearlo. Concluimos que:\n",
    "\n",
    "* El dataset se encuentra balanceado\n",
    "* No se observa presencia de anomalias o outliers"
   ]
  },
  {
   "cell_type": "code",
   "execution_count": 34,
   "id": "7b10c345",
   "metadata": {},
   "outputs": [
    {
     "data": {
      "text/plain": [
       "Text(0.5, 1.0, 'Balance de la variable objetivo \"Paga_en_Termino\"')"
      ]
     },
     "execution_count": 34,
     "metadata": {},
     "output_type": "execute_result"
    },
    {
     "data": {
      "image/png": "[encoded data removed]",
      "text/plain": [
       "<Figure size 432x288 with 1 Axes>"
      ]
     },
     "metadata": {
      "needs_background": "light"
     },
     "output_type": "display_data"
    }
   ],
   "source": [
    "# Grafico\n",
    "df_4_parsed['paga_en_termino'].value_counts().plot(kind='bar')\n",
    "# Seteos del gráfico\n",
    "plt.style.use('fivethirtyeight')\n",
    "plt.xlabel('clases')\n",
    "plt.ylabel ('cantidad')\n",
    "plt.title('Balance de la variable objetivo \"Paga_en_Termino\"')"
   ]
  },
  {
   "cell_type": "markdown",
   "id": "10e9dc95",
   "metadata": {},
   "source": [
    "## Análisis de variables  "
   ]
  },
  {
   "cell_type": "code",
   "execution_count": 35,
   "id": "96356df8",
   "metadata": {},
   "outputs": [
    {
     "data": {
      "text/plain": [
       "Index(['paga_en_termino', 'numero_cuota', 'porcentaje_de_cuotas_faltantes',\n",
       "       'vencimiento', 'porcentaje_de_cuota_sobre_prestamo', 'total_cuotas',\n",
       "       'tipo_prestamo', 'total_prestamo', 'numero_prestamo', 'refinanciado',\n",
       "       'pago', 'dni', 'fecha_pago', 'genero', 'edad'],\n",
       "      dtype='object')"
      ]
     },
     "execution_count": 35,
     "metadata": {},
     "output_type": "execute_result"
    }
   ],
   "source": [
    "df_4_parsed.columns"
   ]
  },
  {
   "cell_type": "code",
   "execution_count": 36,
   "id": "2fd1e75e",
   "metadata": {},
   "outputs": [],
   "source": [
    "columns_data = ['total_cuotas', 'fecha_pago', 'numero_cuota', 'refinanciado', 'tipo_prestamo', 'pago', 'vencimiento',\n",
    "                'total_prestamo','porcentaje_de_cuota_sobre_prestamo', 'paga_en_termino', 'porcentaje_de_cuotas_faltantes',  \n",
    "               'genero', 'edad']"
   ]
  },
  {
   "cell_type": "code",
   "execution_count": 37,
   "id": "34bf6d7f",
   "metadata": {},
   "outputs": [
    {
     "data": {
      "text/html": [
       "<div>\n",
       "<style scoped>\n",
       "    .dataframe tbody tr th:only-of-type {\n",
       "        vertical-align: middle;\n",
       "    }\n",
       "\n",
       "    .dataframe tbody tr th {\n",
       "        vertical-align: top;\n",
       "    }\n",
       "\n",
       "    .dataframe thead th {\n",
       "        text-align: right;\n",
       "    }\n",
       "</style>\n",
       "<table border=\"1\" class=\"dataframe\">\n",
       "  <thead>\n",
       "    <tr style=\"text-align: right;\">\n",
       "      <th></th>\n",
       "      <th>paga_en_termino</th>\n",
       "      <th>numero_cuota</th>\n",
       "      <th>porcentaje_de_cuotas_faltantes</th>\n",
       "      <th>vencimiento</th>\n",
       "      <th>porcentaje_de_cuota_sobre_prestamo</th>\n",
       "      <th>total_cuotas</th>\n",
       "      <th>tipo_prestamo</th>\n",
       "      <th>total_prestamo</th>\n",
       "      <th>numero_prestamo</th>\n",
       "      <th>refinanciado</th>\n",
       "      <th>pago</th>\n",
       "      <th>dni</th>\n",
       "      <th>fecha_pago</th>\n",
       "      <th>genero</th>\n",
       "      <th>edad</th>\n",
       "    </tr>\n",
       "  </thead>\n",
       "  <tbody>\n",
       "    <tr>\n",
       "      <th>count</th>\n",
       "      <td>395,516.00</td>\n",
       "      <td>395,516.00</td>\n",
       "      <td>395,516.00</td>\n",
       "      <td>395516</td>\n",
       "      <td>395,516.00</td>\n",
       "      <td>395,516.00</td>\n",
       "      <td>395,516.00</td>\n",
       "      <td>395,516.00</td>\n",
       "      <td>395,516.00</td>\n",
       "      <td>395,516.00</td>\n",
       "      <td>395,516.00</td>\n",
       "      <td>395,516.00</td>\n",
       "      <td>395516</td>\n",
       "      <td>395,516.00</td>\n",
       "      <td>395,516.00</td>\n",
       "    </tr>\n",
       "    <tr>\n",
       "      <th>unique</th>\n",
       "      <td>nan</td>\n",
       "      <td>nan</td>\n",
       "      <td>nan</td>\n",
       "      <td>920</td>\n",
       "      <td>nan</td>\n",
       "      <td>nan</td>\n",
       "      <td>nan</td>\n",
       "      <td>nan</td>\n",
       "      <td>nan</td>\n",
       "      <td>nan</td>\n",
       "      <td>nan</td>\n",
       "      <td>nan</td>\n",
       "      <td>1722</td>\n",
       "      <td>nan</td>\n",
       "      <td>nan</td>\n",
       "    </tr>\n",
       "    <tr>\n",
       "      <th>top</th>\n",
       "      <td>nan</td>\n",
       "      <td>nan</td>\n",
       "      <td>nan</td>\n",
       "      <td>2018-11-20 00:00:00</td>\n",
       "      <td>nan</td>\n",
       "      <td>nan</td>\n",
       "      <td>nan</td>\n",
       "      <td>nan</td>\n",
       "      <td>nan</td>\n",
       "      <td>nan</td>\n",
       "      <td>nan</td>\n",
       "      <td>nan</td>\n",
       "      <td>2018-01-22 00:00:00</td>\n",
       "      <td>nan</td>\n",
       "      <td>nan</td>\n",
       "    </tr>\n",
       "    <tr>\n",
       "      <th>freq</th>\n",
       "      <td>nan</td>\n",
       "      <td>nan</td>\n",
       "      <td>nan</td>\n",
       "      <td>6413</td>\n",
       "      <td>nan</td>\n",
       "      <td>nan</td>\n",
       "      <td>nan</td>\n",
       "      <td>nan</td>\n",
       "      <td>nan</td>\n",
       "      <td>nan</td>\n",
       "      <td>nan</td>\n",
       "      <td>nan</td>\n",
       "      <td>2062</td>\n",
       "      <td>nan</td>\n",
       "      <td>nan</td>\n",
       "    </tr>\n",
       "    <tr>\n",
       "      <th>first</th>\n",
       "      <td>nan</td>\n",
       "      <td>nan</td>\n",
       "      <td>nan</td>\n",
       "      <td>1997-09-22 00:00:00</td>\n",
       "      <td>nan</td>\n",
       "      <td>nan</td>\n",
       "      <td>nan</td>\n",
       "      <td>nan</td>\n",
       "      <td>nan</td>\n",
       "      <td>nan</td>\n",
       "      <td>nan</td>\n",
       "      <td>nan</td>\n",
       "      <td>2015-01-02 00:00:00</td>\n",
       "      <td>nan</td>\n",
       "      <td>nan</td>\n",
       "    </tr>\n",
       "    <tr>\n",
       "      <th>last</th>\n",
       "      <td>nan</td>\n",
       "      <td>nan</td>\n",
       "      <td>nan</td>\n",
       "      <td>2025-11-20 00:00:00</td>\n",
       "      <td>nan</td>\n",
       "      <td>nan</td>\n",
       "      <td>nan</td>\n",
       "      <td>nan</td>\n",
       "      <td>nan</td>\n",
       "      <td>nan</td>\n",
       "      <td>nan</td>\n",
       "      <td>nan</td>\n",
       "      <td>2019-12-31 00:00:00</td>\n",
       "      <td>nan</td>\n",
       "      <td>nan</td>\n",
       "    </tr>\n",
       "    <tr>\n",
       "      <th>mean</th>\n",
       "      <td>0.57</td>\n",
       "      <td>76.52</td>\n",
       "      <td>0.69</td>\n",
       "      <td>NaN</td>\n",
       "      <td>0.75</td>\n",
       "      <td>277.12</td>\n",
       "      <td>738.07</td>\n",
       "      <td>207,312.16</td>\n",
       "      <td>7,231,047.59</td>\n",
       "      <td>0.02</td>\n",
       "      <td>5,613.99</td>\n",
       "      <td>28,548,291.04</td>\n",
       "      <td>NaN</td>\n",
       "      <td>0.54</td>\n",
       "      <td>54.06</td>\n",
       "    </tr>\n",
       "    <tr>\n",
       "      <th>std</th>\n",
       "      <td>0.50</td>\n",
       "      <td>55.64</td>\n",
       "      <td>0.22</td>\n",
       "      <td>NaN</td>\n",
       "      <td>4.73</td>\n",
       "      <td>115.46</td>\n",
       "      <td>334.21</td>\n",
       "      <td>439,371.30</td>\n",
       "      <td>4,739,496.28</td>\n",
       "      <td>0.14</td>\n",
       "      <td>122,692.01</td>\n",
       "      <td>27,983,733.44</td>\n",
       "      <td>NaN</td>\n",
       "      <td>0.50</td>\n",
       "      <td>15.49</td>\n",
       "    </tr>\n",
       "    <tr>\n",
       "      <th>min</th>\n",
       "      <td>0.00</td>\n",
       "      <td>1.00</td>\n",
       "      <td>0.00</td>\n",
       "      <td>NaN</td>\n",
       "      <td>0.00</td>\n",
       "      <td>1.00</td>\n",
       "      <td>1.00</td>\n",
       "      <td>94.74</td>\n",
       "      <td>107,059.00</td>\n",
       "      <td>0.00</td>\n",
       "      <td>1.01</td>\n",
       "      <td>9.00</td>\n",
       "      <td>NaN</td>\n",
       "      <td>0.00</td>\n",
       "      <td>3.00</td>\n",
       "    </tr>\n",
       "    <tr>\n",
       "      <th>25%</th>\n",
       "      <td>0.00</td>\n",
       "      <td>27.00</td>\n",
       "      <td>0.59</td>\n",
       "      <td>NaN</td>\n",
       "      <td>0.23</td>\n",
       "      <td>188.00</td>\n",
       "      <td>480.00</td>\n",
       "      <td>20,001.68</td>\n",
       "      <td>1,093,507.00</td>\n",
       "      <td>0.00</td>\n",
       "      <td>58.04</td>\n",
       "      <td>12,131,738.00</td>\n",
       "      <td>NaN</td>\n",
       "      <td>0.00</td>\n",
       "      <td>43.00</td>\n",
       "    </tr>\n",
       "    <tr>\n",
       "      <th>50%</th>\n",
       "      <td>1.00</td>\n",
       "      <td>69.00</td>\n",
       "      <td>0.72</td>\n",
       "      <td>NaN</td>\n",
       "      <td>0.30</td>\n",
       "      <td>360.00</td>\n",
       "      <td>938.00</td>\n",
       "      <td>66,939.97</td>\n",
       "      <td>10,991,071.00</td>\n",
       "      <td>0.00</td>\n",
       "      <td>201.81</td>\n",
       "      <td>20,019,709.00</td>\n",
       "      <td>NaN</td>\n",
       "      <td>1.00</td>\n",
       "      <td>50.00</td>\n",
       "    </tr>\n",
       "    <tr>\n",
       "      <th>75%</th>\n",
       "      <td>1.00</td>\n",
       "      <td>120.00</td>\n",
       "      <td>0.86</td>\n",
       "      <td>NaN</td>\n",
       "      <td>0.40</td>\n",
       "      <td>360.00</td>\n",
       "      <td>955.00</td>\n",
       "      <td>152,827.93</td>\n",
       "      <td>10,997,752.00</td>\n",
       "      <td>0.00</td>\n",
       "      <td>453.00</td>\n",
       "      <td>27,820,385.00</td>\n",
       "      <td>NaN</td>\n",
       "      <td>1.00</td>\n",
       "      <td>63.00</td>\n",
       "    </tr>\n",
       "    <tr>\n",
       "      <th>max</th>\n",
       "      <td>1.00</td>\n",
       "      <td>360.00</td>\n",
       "      <td>1.00</td>\n",
       "      <td>NaN</td>\n",
       "      <td>105.56</td>\n",
       "      <td>999.00</td>\n",
       "      <td>998.00</td>\n",
       "      <td>7,951,994.75</td>\n",
       "      <td>20,001,455.00</td>\n",
       "      <td>1.00</td>\n",
       "      <td>6,680,660.81</td>\n",
       "      <td>95,845,853.00</td>\n",
       "      <td>NaN</td>\n",
       "      <td>1.00</td>\n",
       "      <td>143.00</td>\n",
       "    </tr>\n",
       "  </tbody>\n",
       "</table>\n",
       "</div>"
      ],
      "text/plain": [
       "        paga_en_termino  numero_cuota  porcentaje_de_cuotas_faltantes  \\\n",
       "count        395,516.00    395,516.00                      395,516.00   \n",
       "unique              nan           nan                             nan   \n",
       "top                 nan           nan                             nan   \n",
       "freq                nan           nan                             nan   \n",
       "first               nan           nan                             nan   \n",
       "last                nan           nan                             nan   \n",
       "mean               0.57         76.52                            0.69   \n",
       "std                0.50         55.64                            0.22   \n",
       "min                0.00          1.00                            0.00   \n",
       "25%                0.00         27.00                            0.59   \n",
       "50%                1.00         69.00                            0.72   \n",
       "75%                1.00        120.00                            0.86   \n",
       "max                1.00        360.00                            1.00   \n",
       "\n",
       "                vencimiento  porcentaje_de_cuota_sobre_prestamo  total_cuotas  \\\n",
       "count                395516                          395,516.00    395,516.00   \n",
       "unique                  920                                 nan           nan   \n",
       "top     2018-11-20 00:00:00                                 nan           nan   \n",
       "freq                   6413                                 nan           nan   \n",
       "first   1997-09-22 00:00:00                                 nan           nan   \n",
       "last    2025-11-20 00:00:00                                 nan           nan   \n",
       "mean                    NaN                                0.75        277.12   \n",
       "std                     NaN                                4.73        115.46   \n",
       "min                     NaN                                0.00          1.00   \n",
       "25%                     NaN                                0.23        188.00   \n",
       "50%                     NaN                                0.30        360.00   \n",
       "75%                     NaN                                0.40        360.00   \n",
       "max                     NaN                              105.56        999.00   \n",
       "\n",
       "        tipo_prestamo  total_prestamo  numero_prestamo  refinanciado  \\\n",
       "count      395,516.00      395,516.00       395,516.00    395,516.00   \n",
       "unique            nan             nan              nan           nan   \n",
       "top               nan             nan              nan           nan   \n",
       "freq              nan             nan              nan           nan   \n",
       "first             nan             nan              nan           nan   \n",
       "last              nan             nan              nan           nan   \n",
       "mean           738.07      207,312.16     7,231,047.59          0.02   \n",
       "std            334.21      439,371.30     4,739,496.28          0.14   \n",
       "min              1.00           94.74       107,059.00          0.00   \n",
       "25%            480.00       20,001.68     1,093,507.00          0.00   \n",
       "50%            938.00       66,939.97    10,991,071.00          0.00   \n",
       "75%            955.00      152,827.93    10,997,752.00          0.00   \n",
       "max            998.00    7,951,994.75    20,001,455.00          1.00   \n",
       "\n",
       "               pago           dni           fecha_pago     genero       edad  \n",
       "count    395,516.00    395,516.00               395516 395,516.00 395,516.00  \n",
       "unique          nan           nan                 1722        nan        nan  \n",
       "top             nan           nan  2018-01-22 00:00:00        nan        nan  \n",
       "freq            nan           nan                 2062        nan        nan  \n",
       "first           nan           nan  2015-01-02 00:00:00        nan        nan  \n",
       "last            nan           nan  2019-12-31 00:00:00        nan        nan  \n",
       "mean       5,613.99 28,548,291.04                  NaN       0.54      54.06  \n",
       "std      122,692.01 27,983,733.44                  NaN       0.50      15.49  \n",
       "min            1.01          9.00                  NaN       0.00       3.00  \n",
       "25%           58.04 12,131,738.00                  NaN       0.00      43.00  \n",
       "50%          201.81 20,019,709.00                  NaN       1.00      50.00  \n",
       "75%          453.00 27,820,385.00                  NaN       1.00      63.00  \n",
       "max    6,680,660.81 95,845,853.00                  NaN       1.00     143.00  "
      ]
     },
     "execution_count": 37,
     "metadata": {},
     "output_type": "execute_result"
    }
   ],
   "source": [
    "df_4_parsed.describe(include='all')"
   ]
  },
  {
   "cell_type": "code",
   "execution_count": 38,
   "id": "c0da5d2b",
   "metadata": {},
   "outputs": [
    {
     "data": {
      "text/plain": [
       "0         1,321.87\n",
       "1         7,090.52\n",
       "2         1,705.31\n",
       "3           534.52\n",
       "4        13,788.69\n",
       "            ...   \n",
       "575909      275.13\n",
       "575910      152.91\n",
       "575911      147.18\n",
       "575913      313.45\n",
       "575914       35.94\n",
       "Name: pago, Length: 395516, dtype: float64"
      ]
     },
     "execution_count": 38,
     "metadata": {},
     "output_type": "execute_result"
    }
   ],
   "source": [
    "df_4_parsed.pago"
   ]
  },
  {
   "cell_type": "code",
   "execution_count": 39,
   "id": "2481ee99",
   "metadata": {},
   "outputs": [
    {
     "data": {
      "text/plain": [
       "<Figure size 432x288 with 0 Axes>"
      ]
     },
     "metadata": {},
     "output_type": "display_data"
    },
    {
     "data": {
      "image/png": "[encoded data removed]",
      "text/plain": [
       "<Figure size 1440x1440 with 16 Axes>"
      ]
     },
     "metadata": {},
     "output_type": "display_data"
    }
   ],
   "source": [
    "f = plt.figure() \n",
    "df_4_parsed.hist(figsize=(20,20))\n",
    "plt.ticklabel_format(style='plain', axis='x')\n",
    "plt.show()"
   ]
  },
  {
   "cell_type": "markdown",
   "id": "298cab09",
   "metadata": {},
   "source": [
    "### Total cuotas"
   ]
  },
  {
   "cell_type": "code",
   "execution_count": 40,
   "id": "9260f1ed",
   "metadata": {},
   "outputs": [
    {
     "data": {
      "text/plain": [
       "<AxesSubplot:>"
      ]
     },
     "execution_count": 40,
     "metadata": {},
     "output_type": "execute_result"
    },
    {
     "data": {
      "image/png": "[encoded data removed]",
      "text/plain": [
       "<Figure size 432x288 with 1 Axes>"
      ]
     },
     "metadata": {},
     "output_type": "display_data"
    }
   ],
   "source": [
    "df_4_parsed['total_cuotas'].hist()"
   ]
  },
  {
   "cell_type": "code",
   "execution_count": 41,
   "id": "62c5677d",
   "metadata": {},
   "outputs": [
    {
     "data": {
      "text/plain": [
       "count   395,516.00\n",
       "mean        277.12\n",
       "std         115.46\n",
       "min           1.00\n",
       "25%         188.00\n",
       "50%         360.00\n",
       "75%         360.00\n",
       "max         999.00\n",
       "Name: total_cuotas, dtype: float64"
      ]
     },
     "execution_count": 41,
     "metadata": {},
     "output_type": "execute_result"
    }
   ],
   "source": [
    "df_4_parsed['total_cuotas'].describe()"
   ]
  },
  {
   "cell_type": "code",
   "execution_count": 42,
   "id": "bac25874",
   "metadata": {},
   "outputs": [
    {
     "data": {
      "text/plain": [
       "{'whiskers': [<matplotlib.lines.Line2D at 0x1cd8c733cd0>,\n",
       "  <matplotlib.lines.Line2D at 0x1cd8c741070>],\n",
       " 'caps': [<matplotlib.lines.Line2D at 0x1cd8c7413d0>,\n",
       "  <matplotlib.lines.Line2D at 0x1cd8c741730>],\n",
       " 'boxes': [<matplotlib.lines.Line2D at 0x1cd8c733970>],\n",
       " 'medians': [<matplotlib.lines.Line2D at 0x1cd8c741a60>],\n",
       " 'fliers': [<matplotlib.lines.Line2D at 0x1cd8c741d90>],\n",
       " 'means': []}"
      ]
     },
     "execution_count": 42,
     "metadata": {},
     "output_type": "execute_result"
    },
    {
     "data": {
      "image/png": "[encoded data removed]",
      "text/plain": [
       "<Figure size 432x288 with 1 Axes>"
      ]
     },
     "metadata": {},
     "output_type": "display_data"
    }
   ],
   "source": [
    "green_diamond = dict(markerfacecolor='g', marker='D')\n",
    "fig, ax = plt.subplots()\n",
    "ax.set_title('Boxplot total cuotas')\n",
    "ax.boxplot(df_4_parsed['total_cuotas'], flierprops=green_diamond, labels=[\"Edad\"])"
   ]
  },
  {
   "cell_type": "markdown",
   "id": "6bf77fd5",
   "metadata": {},
   "source": [
    "### Total prestamo"
   ]
  },
  {
   "cell_type": "code",
   "execution_count": 43,
   "id": "9a54081c",
   "metadata": {},
   "outputs": [
    {
     "data": {
      "text/plain": [
       "<AxesSubplot:>"
      ]
     },
     "execution_count": 43,
     "metadata": {},
     "output_type": "execute_result"
    },
    {
     "data": {
      "image/png": "[encoded data removed]",
      "text/plain": [
       "<Figure size 432x288 with 1 Axes>"
      ]
     },
     "metadata": {},
     "output_type": "display_data"
    }
   ],
   "source": [
    "df_4_parsed['total_prestamo'].hist()"
   ]
  },
  {
   "cell_type": "code",
   "execution_count": 44,
   "id": "39cc654a",
   "metadata": {},
   "outputs": [
    {
     "data": {
      "text/plain": [
       "count    395516.0\n",
       "mean     207312.2\n",
       "std      439371.3\n",
       "min          94.7\n",
       "25%       20001.7\n",
       "50%       66940.0\n",
       "75%      152827.9\n",
       "max     7951994.8\n",
       "Name: total_prestamo, dtype: float64"
      ]
     },
     "execution_count": 44,
     "metadata": {},
     "output_type": "execute_result"
    }
   ],
   "source": [
    "pd.options.display.float_format = '{:.1f}'.format\n",
    "df_4_parsed['total_prestamo'].describe()"
   ]
  },
  {
   "cell_type": "code",
   "execution_count": 91,
   "id": "0cfbdce5",
   "metadata": {},
   "outputs": [
    {
     "data": {
      "text/plain": [
       "{'whiskers': [<matplotlib.lines.Line2D at 0x1cdb9d93f70>,\n",
       "  <matplotlib.lines.Line2D at 0x1cdb9db34c0>],\n",
       " 'caps': [<matplotlib.lines.Line2D at 0x1cdb9db3820>,\n",
       "  <matplotlib.lines.Line2D at 0x1cdb9db3d30>],\n",
       " 'boxes': [<matplotlib.lines.Line2D at 0x1cdb9d93c10>],\n",
       " 'medians': [<matplotlib.lines.Line2D at 0x1cdb7147610>],\n",
       " 'fliers': [<matplotlib.lines.Line2D at 0x1cdb7147940>],\n",
       " 'means': []}"
      ]
     },
     "execution_count": 91,
     "metadata": {},
     "output_type": "execute_result"
    },
    {
     "data": {
      "image/png": "[encoded data removed]",
      "text/plain": [
       "<Figure size 432x288 with 1 Axes>"
      ]
     },
     "metadata": {},
     "output_type": "display_data"
    }
   ],
   "source": [
    "green_diamond = dict(markerfacecolor='g', marker='D')\n",
    "fig, ax = plt.subplots()\n",
    "ax.set_title('Boxplot total_prestamo')\n",
    "ax.boxplot(df_4_parsed['total_prestamo'], flierprops=green_diamond, labels=[\"total\"])"
   ]
  },
  {
   "cell_type": "code",
   "execution_count": 46,
   "id": "4dfadfab",
   "metadata": {},
   "outputs": [
    {
     "data": {
      "text/plain": [
       "[]"
      ]
     },
     "execution_count": 46,
     "metadata": {},
     "output_type": "execute_result"
    },
    {
     "data": {
      "image/png": "[encoded data removed]",
      "text/plain": [
       "<Figure size 432x288 with 1 Axes>"
      ]
     },
     "metadata": {},
     "output_type": "display_data"
    }
   ],
   "source": [
    "green_diamond = dict(markerfacecolor='g', marker='D')\n",
    "fig, ax = plt.subplots()\n",
    "# ax.(figsize=(8, 8))\n",
    "ax.set_title('Boxplot total_prestamo')\n",
    "ax.ticklabel_format(useOffset=False)\n",
    "ax.scatter(y= df_4_parsed['total_prestamo'], x=df_4_parsed['total_prestamo'].index)\n",
    "ax.ticklabel_format(useOffset=False)\n",
    "plt.plot()"
   ]
  },
  {
   "cell_type": "markdown",
   "id": "f2b16359",
   "metadata": {},
   "source": [
    "------------------\n",
    "----"
   ]
  },
  {
   "cell_type": "code",
   "execution_count": 47,
   "id": "7c46e951",
   "metadata": {},
   "outputs": [
    {
     "data": {
      "text/html": [
       "<div>\n",
       "<style scoped>\n",
       "    .dataframe tbody tr th:only-of-type {\n",
       "        vertical-align: middle;\n",
       "    }\n",
       "\n",
       "    .dataframe tbody tr th {\n",
       "        vertical-align: top;\n",
       "    }\n",
       "\n",
       "    .dataframe thead th {\n",
       "        text-align: right;\n",
       "    }\n",
       "</style>\n",
       "<table border=\"1\" class=\"dataframe\">\n",
       "  <thead>\n",
       "    <tr style=\"text-align: right;\">\n",
       "      <th></th>\n",
       "      <th>edad</th>\n",
       "      <th>salario</th>\n",
       "      <th>compras</th>\n",
       "    </tr>\n",
       "  </thead>\n",
       "  <tbody>\n",
       "    <tr>\n",
       "      <th>0</th>\n",
       "      <td>22</td>\n",
       "      <td>16</td>\n",
       "      <td>1</td>\n",
       "    </tr>\n",
       "    <tr>\n",
       "      <th>1</th>\n",
       "      <td>22</td>\n",
       "      <td>20</td>\n",
       "      <td>2</td>\n",
       "    </tr>\n",
       "    <tr>\n",
       "      <th>2</th>\n",
       "      <td>23</td>\n",
       "      <td>15</td>\n",
       "      <td>1</td>\n",
       "    </tr>\n",
       "    <tr>\n",
       "      <th>3</th>\n",
       "      <td>23</td>\n",
       "      <td>21</td>\n",
       "      <td>20</td>\n",
       "    </tr>\n",
       "    <tr>\n",
       "      <th>4</th>\n",
       "      <td>23</td>\n",
       "      <td>19</td>\n",
       "      <td>1</td>\n",
       "    </tr>\n",
       "    <tr>\n",
       "      <th>5</th>\n",
       "      <td>23</td>\n",
       "      <td>17</td>\n",
       "      <td>0</td>\n",
       "    </tr>\n",
       "    <tr>\n",
       "      <th>6</th>\n",
       "      <td>26</td>\n",
       "      <td>33</td>\n",
       "      <td>3</td>\n",
       "    </tr>\n",
       "    <tr>\n",
       "      <th>7</th>\n",
       "      <td>27</td>\n",
       "      <td>22</td>\n",
       "      <td>2</td>\n",
       "    </tr>\n",
       "    <tr>\n",
       "      <th>8</th>\n",
       "      <td>27</td>\n",
       "      <td>31</td>\n",
       "      <td>3</td>\n",
       "    </tr>\n",
       "    <tr>\n",
       "      <th>9</th>\n",
       "      <td>28</td>\n",
       "      <td>32</td>\n",
       "      <td>0</td>\n",
       "    </tr>\n",
       "    <tr>\n",
       "      <th>10</th>\n",
       "      <td>30</td>\n",
       "      <td>56</td>\n",
       "      <td>5</td>\n",
       "    </tr>\n",
       "    <tr>\n",
       "      <th>11</th>\n",
       "      <td>30</td>\n",
       "      <td>30</td>\n",
       "      <td>3</td>\n",
       "    </tr>\n",
       "    <tr>\n",
       "      <th>12</th>\n",
       "      <td>30</td>\n",
       "      <td>22</td>\n",
       "      <td>2</td>\n",
       "    </tr>\n",
       "    <tr>\n",
       "      <th>13</th>\n",
       "      <td>30</td>\n",
       "      <td>31</td>\n",
       "      <td>1</td>\n",
       "    </tr>\n",
       "    <tr>\n",
       "      <th>14</th>\n",
       "      <td>31</td>\n",
       "      <td>30</td>\n",
       "      <td>0</td>\n",
       "    </tr>\n",
       "    <tr>\n",
       "      <th>15</th>\n",
       "      <td>32</td>\n",
       "      <td>16</td>\n",
       "      <td>1</td>\n",
       "    </tr>\n",
       "    <tr>\n",
       "      <th>16</th>\n",
       "      <td>33</td>\n",
       "      <td>2</td>\n",
       "      <td>2</td>\n",
       "    </tr>\n",
       "    <tr>\n",
       "      <th>17</th>\n",
       "      <td>34</td>\n",
       "      <td>22</td>\n",
       "      <td>2</td>\n",
       "    </tr>\n",
       "    <tr>\n",
       "      <th>18</th>\n",
       "      <td>80</td>\n",
       "      <td>23</td>\n",
       "      <td>2</td>\n",
       "    </tr>\n",
       "  </tbody>\n",
       "</table>\n",
       "</div>"
      ],
      "text/plain": [
       "    edad  salario  compras\n",
       "0     22       16        1\n",
       "1     22       20        2\n",
       "2     23       15        1\n",
       "3     23       21       20\n",
       "4     23       19        1\n",
       "5     23       17        0\n",
       "6     26       33        3\n",
       "7     27       22        2\n",
       "8     27       31        3\n",
       "9     28       32        0\n",
       "10    30       56        5\n",
       "11    30       30        3\n",
       "12    30       22        2\n",
       "13    30       31        1\n",
       "14    31       30        0\n",
       "15    32       16        1\n",
       "16    33        2        2\n",
       "17    34       22        2\n",
       "18    80       23        2"
      ]
     },
     "execution_count": 47,
     "metadata": {},
     "output_type": "execute_result"
    }
   ],
   "source": [
    "from pyod.models.knn import KNN\n",
    "import pandas as pd\n",
    " \n",
    "edades = np.array([22,22,23,23,23,23,26,27,27,28,30,30,30,30,31,32,33,34,80])\n",
    "edad_unique, counts = np.unique(edades, return_counts=True)\n",
    "salario_anual_miles = np.array([16,20,15,21,19,17,33,22,31,32,56,30,22,31,30,16,2,22,23])\n",
    "compras_mes = np.array([1,2,1,20,1,0,3,2,3,0,5,3,2,1,0,1,2,2,2])\n",
    "\n",
    "\n",
    "X = pd.DataFrame(data={'edad':edades,'salario':salario_anual_miles, 'compras':compras_mes})\n",
    "X"
   ]
  },
  {
   "cell_type": "code",
   "execution_count": 48,
   "id": "73ef3ac9",
   "metadata": {},
   "outputs": [
    {
     "data": {
      "text/html": [
       "<div>\n",
       "<style scoped>\n",
       "    .dataframe tbody tr th:only-of-type {\n",
       "        vertical-align: middle;\n",
       "    }\n",
       "\n",
       "    .dataframe tbody tr th {\n",
       "        vertical-align: top;\n",
       "    }\n",
       "\n",
       "    .dataframe thead th {\n",
       "        text-align: right;\n",
       "    }\n",
       "</style>\n",
       "<table border=\"1\" class=\"dataframe\">\n",
       "  <thead>\n",
       "    <tr style=\"text-align: right;\">\n",
       "      <th></th>\n",
       "      <th>edad</th>\n",
       "      <th>salario</th>\n",
       "      <th>compras</th>\n",
       "    </tr>\n",
       "  </thead>\n",
       "  <tbody>\n",
       "    <tr>\n",
       "      <th>3</th>\n",
       "      <td>23</td>\n",
       "      <td>21</td>\n",
       "      <td>20</td>\n",
       "    </tr>\n",
       "    <tr>\n",
       "      <th>10</th>\n",
       "      <td>30</td>\n",
       "      <td>56</td>\n",
       "      <td>5</td>\n",
       "    </tr>\n",
       "    <tr>\n",
       "      <th>16</th>\n",
       "      <td>33</td>\n",
       "      <td>2</td>\n",
       "      <td>2</td>\n",
       "    </tr>\n",
       "    <tr>\n",
       "      <th>18</th>\n",
       "      <td>80</td>\n",
       "      <td>23</td>\n",
       "      <td>2</td>\n",
       "    </tr>\n",
       "  </tbody>\n",
       "</table>\n",
       "</div>"
      ],
      "text/plain": [
       "    edad  salario  compras\n",
       "3     23       21       20\n",
       "10    30       56        5\n",
       "16    33        2        2\n",
       "18    80       23        2"
      ]
     },
     "execution_count": 48,
     "metadata": {},
     "output_type": "execute_result"
    }
   ],
   "source": [
    "clf = KNN(contamination=0.18)\n",
    "clf.fit(X)\n",
    "y_pred = clf.predict(X)\n",
    "X[y_pred == 1]"
   ]
  },
  {
   "cell_type": "code",
   "execution_count": null,
   "id": "271dc63f",
   "metadata": {},
   "outputs": [],
   "source": []
  },
  {
   "cell_type": "markdown",
   "id": "e9ea25af",
   "metadata": {},
   "source": [
    "--------\n",
    "-------"
   ]
  },
  {
   "cell_type": "markdown",
   "id": "87753b62",
   "metadata": {},
   "source": [
    "## Distribución de prestamos entre mujeres, hombres y edades "
   ]
  },
  {
   "cell_type": "code",
   "execution_count": 49,
   "id": "5ce54cfb",
   "metadata": {},
   "outputs": [
    {
     "name": "stdout",
     "output_type": "stream",
     "text": [
      "<class 'pandas.core.frame.DataFrame'>\n",
      "Int64Index: 395516 entries, 0 to 575914\n",
      "Data columns (total 15 columns):\n",
      " #   Column                              Non-Null Count   Dtype         \n",
      "---  ------                              --------------   -----         \n",
      " 0   paga_en_termino                     395516 non-null  int64         \n",
      " 1   numero_cuota                        395516 non-null  int64         \n",
      " 2   porcentaje_de_cuotas_faltantes      395516 non-null  float64       \n",
      " 3   vencimiento                         395516 non-null  datetime64[ns]\n",
      " 4   porcentaje_de_cuota_sobre_prestamo  395516 non-null  float64       \n",
      " 5   total_cuotas                        395516 non-null  int64         \n",
      " 6   tipo_prestamo                       395516 non-null  int64         \n",
      " 7   total_prestamo                      395516 non-null  float64       \n",
      " 8   numero_prestamo                     395516 non-null  int64         \n",
      " 9   refinanciado                        395516 non-null  int64         \n",
      " 10  pago                                395516 non-null  float64       \n",
      " 11  dni                                 395516 non-null  float64       \n",
      " 12  fecha_pago                          395516 non-null  datetime64[ns]\n",
      " 13  genero                              395516 non-null  int64         \n",
      " 14  edad                                395516 non-null  float64       \n",
      "dtypes: datetime64[ns](2), float64(6), int64(7)\n",
      "memory usage: 48.3 MB\n"
     ]
    }
   ],
   "source": [
    "df_4_parsed.info()"
   ]
  },
  {
   "cell_type": "code",
   "execution_count": 50,
   "id": "e363a435",
   "metadata": {},
   "outputs": [
    {
     "data": {
      "text/plain": [
       "10386"
      ]
     },
     "execution_count": 50,
     "metadata": {},
     "output_type": "execute_result"
    }
   ],
   "source": [
    "df_prestamos = df_4_parsed[['numero_prestamo', 'edad', 'genero']]\n",
    "df_prestamos = df_prestamos.drop_duplicates()\n",
    "df_prestamos.groupby(['genero','edad']).count().reset_index()['numero_prestamo'].sum()"
   ]
  },
  {
   "cell_type": "markdown",
   "id": "6d535204",
   "metadata": {},
   "source": [
    "### Corr "
   ]
  },
  {
   "cell_type": "code",
   "execution_count": 51,
   "id": "823c9412",
   "metadata": {},
   "outputs": [
    {
     "data": {
      "image/png": "[encoded data removed]",
      "text/plain": [
       "<Figure size 1080x720 with 2 Axes>"
      ]
     },
     "metadata": {},
     "output_type": "display_data"
    }
   ],
   "source": [
    "corr = df_4_parsed.corr()\n",
    "mask = np.triu(np.ones_like(corr))\n",
    "plt.figure(figsize=(15,10))\n",
    "sns.heatmap(corr, annot=True, fmt='.2f', linewidths=.2, mask=mask)\n",
    "plt.title('Dataset showing correlation between different variables in the dataset')\n",
    "plt.show()"
   ]
  },
  {
   "cell_type": "code",
   "execution_count": 52,
   "id": "d2f57623",
   "metadata": {},
   "outputs": [
    {
     "name": "stdout",
     "output_type": "stream",
     "text": [
      "top corr: \n",
      "paga_en_termino                       1.0\n",
      "numero_cuota                          0.1\n",
      "total_prestamo                        0.0\n",
      "porcentaje_de_cuota_sobre_prestamo    0.0\n",
      "pago                                  0.0\n",
      "edad                                  0.0\n",
      "genero                                0.0\n",
      "total_cuotas                          0.0\n",
      "tipo_prestamo                        -0.0\n",
      "dni                                  -0.0\n",
      "Name: paga_en_termino, dtype: float64 \n",
      "\n",
      "bottom corr: \n",
      "porcentaje_de_cuota_sobre_prestamo    0.0\n",
      "pago                                  0.0\n",
      "edad                                  0.0\n",
      "genero                                0.0\n",
      "total_cuotas                          0.0\n",
      "tipo_prestamo                        -0.0\n",
      "dni                                  -0.0\n",
      "numero_prestamo                      -0.0\n",
      "refinanciado                         -0.0\n",
      "porcentaje_de_cuotas_faltantes       -0.1\n",
      "Name: paga_en_termino, dtype: float64\n"
     ]
    }
   ],
   "source": [
    "price_range_corr =  corr.paga_en_termino.sort_values(ascending = False)\n",
    "price_range_corr_top = price_range_corr.head(10)\n",
    "price_range_corr_bottom = price_range_corr.tail(10)\n",
    "print ('top corr: \\n{} \\n\\nbottom corr: \\n{}'.format(price_range_corr_top, price_range_corr_bottom))"
   ]
  },
  {
   "cell_type": "code",
   "execution_count": 53,
   "id": "487398b4",
   "metadata": {},
   "outputs": [
    {
     "data": {
      "image/png": "[encoded data removed]",
      "text/plain": [
       "<Figure size 1080x720 with 2 Axes>"
      ]
     },
     "metadata": {},
     "output_type": "display_data"
    }
   ],
   "source": [
    "columns_data_corr = list(set(columns_data)&set(corr.columns))\n",
    "corr_filter = corr[(corr>0.4) | (corr<-0.4)][columns_data_corr].copy()\n",
    "corr_filter = corr_filter.filter(items = columns_data_corr, axis=0)\n",
    "mask = np.triu(np.ones_like(corr_filter))\n",
    "corr_filter.shape\n",
    "\n",
    "plt.figure(figsize=(15,10))\n",
    "sns.heatmap(corr_filter, annot=True, fmt='.2f', linewidths=.2,mask=mask)\n",
    "plt.title('Dataset showing correlation between different variables in the dataset')\n",
    "plt.show()"
   ]
  },
  {
   "cell_type": "markdown",
   "id": "b3447321",
   "metadata": {},
   "source": [
    "### Limpio los outliers principales  sobre el total de prestamo"
   ]
  },
  {
   "cell_type": "code",
   "execution_count": 54,
   "id": "376e8382",
   "metadata": {},
   "outputs": [
    {
     "data": {
      "text/plain": [
       "0          1311.8\n",
       "1          7080.0\n",
       "2          1695.2\n",
       "3           524.5\n",
       "4         13777.7\n",
       "           ...   \n",
       "575909    95112.0\n",
       "575910    45252.2\n",
       "575911    58412.5\n",
       "575913   110062.8\n",
       "575914    10782.0\n",
       "Name: total_prestamo, Length: 395516, dtype: float64"
      ]
     },
     "execution_count": 54,
     "metadata": {},
     "output_type": "execute_result"
    }
   ],
   "source": [
    "df_4_parsed['total_prestamo']"
   ]
  },
  {
   "cell_type": "code",
   "execution_count": 55,
   "id": "3aa06946",
   "metadata": {},
   "outputs": [
    {
     "data": {
      "text/plain": [
       "132826.25"
      ]
     },
     "execution_count": 55,
     "metadata": {},
     "output_type": "execute_result"
    }
   ],
   "source": [
    "Q1 = df_4_parsed['total_prestamo'].quantile(0.25)\n",
    "Q3 = df_4_parsed['total_prestamo'].quantile(0.75)\n",
    "IQR = Q3 - Q1\n",
    "IQR"
   ]
  },
  {
   "cell_type": "code",
   "execution_count": 56,
   "id": "407fced7",
   "metadata": {},
   "outputs": [
    {
     "data": {
      "text/plain": [
       "array([0.4688532 , 0.45572477, 0.46798057, ..., 0.33889291, 0.22133788,\n",
       "       0.44729908])"
      ]
     },
     "execution_count": 56,
     "metadata": {},
     "output_type": "execute_result"
    }
   ],
   "source": [
    "from scipy import stats\n",
    "z = np.abs(stats.zscore(df_4_parsed['total_prestamo']))\n",
    "z"
   ]
  },
  {
   "cell_type": "code",
   "execution_count": 57,
   "id": "8d4a1ad2",
   "metadata": {},
   "outputs": [],
   "source": [
    "# Se toman los prestamos con outliers\n",
    "index_no_outlier = df_4_parsed['total_prestamo'][(z < 3)].index"
   ]
  },
  {
   "cell_type": "code",
   "execution_count": 58,
   "id": "da70d7ee",
   "metadata": {},
   "outputs": [],
   "source": [
    "# Se filtran los prestamos sin outliers\n",
    "prestamos_sin_outlier = df.filter(items = index_no_outlier, axis=0)['numero_prestamo'].unique()"
   ]
  },
  {
   "cell_type": "code",
   "execution_count": 59,
   "id": "e47f2574",
   "metadata": {},
   "outputs": [],
   "source": [
    "# Se crea un nuevo dataset sin outliers de numero de prestamo\n",
    "df_5_sin_outlier = df_4_parsed[df_4_parsed['numero_prestamo'].isin(prestamos_sin_outlier)].copy()"
   ]
  },
  {
   "cell_type": "markdown",
   "id": "81bc01ea",
   "metadata": {},
   "source": [
    "## FILTRADO DE COLUMNA PARA EL MODELADO "
   ]
  },
  {
   "cell_type": "code",
   "execution_count": 60,
   "id": "4d11cc20",
   "metadata": {},
   "outputs": [
    {
     "data": {
      "text/plain": [
       "['total_cuotas',\n",
       " 'fecha_pago',\n",
       " 'numero_cuota',\n",
       " 'refinanciado',\n",
       " 'tipo_prestamo',\n",
       " 'pago',\n",
       " 'vencimiento',\n",
       " 'total_prestamo',\n",
       " 'porcentaje_de_cuota_sobre_prestamo',\n",
       " 'paga_en_termino',\n",
       " 'porcentaje_de_cuotas_faltantes',\n",
       " 'genero',\n",
       " 'edad']"
      ]
     },
     "execution_count": 60,
     "metadata": {},
     "output_type": "execute_result"
    }
   ],
   "source": [
    "columns_data"
   ]
  },
  {
   "cell_type": "code",
   "execution_count": 61,
   "id": "613fe51b",
   "metadata": {},
   "outputs": [],
   "source": [
    "columns_model_no_time = list(set(columns_data) - {'fecha_pago', 'pago', 'vencimiento'})"
   ]
  },
  {
   "cell_type": "markdown",
   "id": "c077df3e",
   "metadata": {},
   "source": [
    "## MODELADO "
   ]
  },
  {
   "cell_type": "code",
   "execution_count": 62,
   "id": "bfc7236e",
   "metadata": {},
   "outputs": [],
   "source": [
    "from sklearn.model_selection import train_test_split"
   ]
  },
  {
   "cell_type": "markdown",
   "id": "1c76ca75",
   "metadata": {},
   "source": [
    "### Sin genero"
   ]
  },
  {
   "cell_type": "code",
   "execution_count": 63,
   "id": "b9bb52b4",
   "metadata": {},
   "outputs": [],
   "source": [
    "y = df_5_sin_outlier['paga_en_termino']\n",
    "X = df_5_sin_outlier[list(set(columns_model_no_time)-{'paga_en_termino'})]"
   ]
  },
  {
   "cell_type": "code",
   "execution_count": 64,
   "id": "683296e3",
   "metadata": {},
   "outputs": [],
   "source": [
    "X_train, X_test, y_train, y_test = train_test_split(X, y, test_size=0.3) # 70% training and 30% test"
   ]
  },
  {
   "cell_type": "code",
   "execution_count": 65,
   "id": "db83ba13",
   "metadata": {},
   "outputs": [
    {
     "name": "stdout",
     "output_type": "stream",
     "text": [
      "Wall time: 1min 39s\n"
     ]
    }
   ],
   "source": [
    "%%time \n",
    "#Import Random Forest Model\n",
    "from sklearn.ensemble import RandomForestClassifier\n",
    "\n",
    "#Create a Gaussian Classifier\n",
    "clf=RandomForestClassifier(n_estimators=100)\n",
    "\n",
    "#Train the model using the training sets y_pred=clf.predict(X_test)\n",
    "clf.fit(X_train,y_train)\n",
    "\n",
    "y_pred=clf.predict(X_test)"
   ]
  },
  {
   "cell_type": "code",
   "execution_count": 66,
   "id": "7f7fc9b0",
   "metadata": {},
   "outputs": [
    {
     "name": "stdout",
     "output_type": "stream",
     "text": [
      "Accuracy: 0.8842789804469273\n",
      "Wall time: 20.9 ms\n"
     ]
    }
   ],
   "source": [
    "%%time \n",
    "from sklearn import metrics\n",
    "print(\"Accuracy:\",metrics.accuracy_score(y_test, y_pred))\n"
   ]
  },
  {
   "cell_type": "code",
   "execution_count": 67,
   "id": "e3dc0593",
   "metadata": {},
   "outputs": [],
   "source": [
    "from sklearn.linear_model import LogisticRegression\n",
    "from sklearn.neighbors import KNeighborsClassifier\n",
    "from sklearn.svm import SVC\n",
    "from sklearn.ensemble import RandomForestClassifier\n",
    "from sklearn.naive_bayes import GaussianNB\n",
    "from xgboost import XGBClassifier\n",
    "from sklearn import model_selection\n",
    "from sklearn.utils import class_weight\n",
    "from sklearn.metrics import classification_report\n",
    "from sklearn.metrics import confusion_matrix"
   ]
  },
  {
   "cell_type": "code",
   "execution_count": 68,
   "id": "3c00f84c",
   "metadata": {},
   "outputs": [],
   "source": [
    "models = [\n",
    "          ('LogReg', LogisticRegression()), \n",
    "          ('RF', RandomForestClassifier()),\n",
    "          ('KNN', KNeighborsClassifier()),\n",
    "          ('GNB', GaussianNB()),\n",
    "          ('XGB', XGBClassifier())\n",
    "        ]\n",
    "#  ('SVM', SVC()), "
   ]
  },
  {
   "cell_type": "code",
   "execution_count": 69,
   "id": "006d50af",
   "metadata": {},
   "outputs": [],
   "source": [
    "results = []\n",
    "names = []\n",
    "scoring = ['accuracy', 'precision_weighted', 'recall_weighted', 'f1_weighted', 'roc_auc']\n",
    "target_names = ['pago a termino', 'no pago a termino']\n",
    "dfs= []"
   ]
  },
  {
   "cell_type": "code",
   "execution_count": 70,
   "id": "b667d836",
   "metadata": {},
   "outputs": [
    {
     "name": "stdout",
     "output_type": "stream",
     "text": [
      "LogReg\n",
      "                   precision    recall  f1-score   support\n",
      "\n",
      "   pago a termino       0.53      0.26      0.35     49118\n",
      "no pago a termino       0.60      0.83      0.69     65442\n",
      "\n",
      "         accuracy                           0.58    114560\n",
      "        macro avg       0.56      0.54      0.52    114560\n",
      "     weighted avg       0.57      0.58      0.55    114560\n",
      "\n",
      "RF\n",
      "                   precision    recall  f1-score   support\n",
      "\n",
      "   pago a termino       0.89      0.84      0.86     49118\n",
      "no pago a termino       0.88      0.92      0.90     65442\n",
      "\n",
      "         accuracy                           0.88    114560\n",
      "        macro avg       0.88      0.88      0.88    114560\n",
      "     weighted avg       0.88      0.88      0.88    114560\n",
      "\n",
      "KNN\n",
      "                   precision    recall  f1-score   support\n",
      "\n",
      "   pago a termino       0.86      0.84      0.85     49118\n",
      "no pago a termino       0.88      0.89      0.89     65442\n",
      "\n",
      "         accuracy                           0.87    114560\n",
      "        macro avg       0.87      0.87      0.87    114560\n",
      "     weighted avg       0.87      0.87      0.87    114560\n",
      "\n",
      "GNB\n",
      "                   precision    recall  f1-score   support\n",
      "\n",
      "   pago a termino       0.50      0.37      0.42     49118\n",
      "no pago a termino       0.60      0.72      0.66     65442\n",
      "\n",
      "         accuracy                           0.57    114560\n",
      "        macro avg       0.55      0.54      0.54    114560\n",
      "     weighted avg       0.56      0.57      0.56    114560\n",
      "\n",
      "XGB\n",
      "                   precision    recall  f1-score   support\n",
      "\n",
      "   pago a termino       0.82      0.63      0.71     49118\n",
      "no pago a termino       0.76      0.90      0.83     65442\n",
      "\n",
      "         accuracy                           0.78    114560\n",
      "        macro avg       0.79      0.76      0.77    114560\n",
      "     weighted avg       0.79      0.78      0.78    114560\n",
      "\n"
     ]
    },
    {
     "data": {
      "text/html": [
       "<div>\n",
       "<style scoped>\n",
       "    .dataframe tbody tr th:only-of-type {\n",
       "        vertical-align: middle;\n",
       "    }\n",
       "\n",
       "    .dataframe tbody tr th {\n",
       "        vertical-align: top;\n",
       "    }\n",
       "\n",
       "    .dataframe thead th {\n",
       "        text-align: right;\n",
       "    }\n",
       "</style>\n",
       "<table border=\"1\" class=\"dataframe\">\n",
       "  <thead>\n",
       "    <tr style=\"text-align: right;\">\n",
       "      <th></th>\n",
       "      <th>fit_time</th>\n",
       "      <th>score_time</th>\n",
       "      <th>test_accuracy</th>\n",
       "      <th>test_precision_weighted</th>\n",
       "      <th>test_recall_weighted</th>\n",
       "      <th>test_f1_weighted</th>\n",
       "      <th>test_roc_auc</th>\n",
       "      <th>model</th>\n",
       "    </tr>\n",
       "  </thead>\n",
       "  <tbody>\n",
       "    <tr>\n",
       "      <th>0</th>\n",
       "      <td>2.6</td>\n",
       "      <td>0.1</td>\n",
       "      <td>0.6</td>\n",
       "      <td>0.6</td>\n",
       "      <td>0.6</td>\n",
       "      <td>0.5</td>\n",
       "      <td>0.6</td>\n",
       "      <td>LogReg</td>\n",
       "    </tr>\n",
       "    <tr>\n",
       "      <th>1</th>\n",
       "      <td>1.6</td>\n",
       "      <td>0.1</td>\n",
       "      <td>0.6</td>\n",
       "      <td>0.5</td>\n",
       "      <td>0.6</td>\n",
       "      <td>0.5</td>\n",
       "      <td>0.6</td>\n",
       "      <td>LogReg</td>\n",
       "    </tr>\n",
       "    <tr>\n",
       "      <th>2</th>\n",
       "      <td>3.3</td>\n",
       "      <td>0.1</td>\n",
       "      <td>0.6</td>\n",
       "      <td>0.6</td>\n",
       "      <td>0.6</td>\n",
       "      <td>0.5</td>\n",
       "      <td>0.6</td>\n",
       "      <td>LogReg</td>\n",
       "    </tr>\n",
       "    <tr>\n",
       "      <th>3</th>\n",
       "      <td>1.5</td>\n",
       "      <td>0.1</td>\n",
       "      <td>0.6</td>\n",
       "      <td>0.5</td>\n",
       "      <td>0.6</td>\n",
       "      <td>0.5</td>\n",
       "      <td>0.6</td>\n",
       "      <td>LogReg</td>\n",
       "    </tr>\n",
       "    <tr>\n",
       "      <th>4</th>\n",
       "      <td>4.6</td>\n",
       "      <td>0.3</td>\n",
       "      <td>0.6</td>\n",
       "      <td>0.6</td>\n",
       "      <td>0.6</td>\n",
       "      <td>0.5</td>\n",
       "      <td>0.6</td>\n",
       "      <td>LogReg</td>\n",
       "    </tr>\n",
       "    <tr>\n",
       "      <th>5</th>\n",
       "      <td>56.9</td>\n",
       "      <td>5.4</td>\n",
       "      <td>0.9</td>\n",
       "      <td>0.9</td>\n",
       "      <td>0.9</td>\n",
       "      <td>0.9</td>\n",
       "      <td>0.9</td>\n",
       "      <td>RF</td>\n",
       "    </tr>\n",
       "    <tr>\n",
       "      <th>6</th>\n",
       "      <td>68.3</td>\n",
       "      <td>12.3</td>\n",
       "      <td>0.9</td>\n",
       "      <td>0.9</td>\n",
       "      <td>0.9</td>\n",
       "      <td>0.9</td>\n",
       "      <td>0.9</td>\n",
       "      <td>RF</td>\n",
       "    </tr>\n",
       "    <tr>\n",
       "      <th>7</th>\n",
       "      <td>78.5</td>\n",
       "      <td>6.5</td>\n",
       "      <td>0.9</td>\n",
       "      <td>0.9</td>\n",
       "      <td>0.9</td>\n",
       "      <td>0.9</td>\n",
       "      <td>0.9</td>\n",
       "      <td>RF</td>\n",
       "    </tr>\n",
       "    <tr>\n",
       "      <th>8</th>\n",
       "      <td>84.9</td>\n",
       "      <td>7.4</td>\n",
       "      <td>0.9</td>\n",
       "      <td>0.9</td>\n",
       "      <td>0.9</td>\n",
       "      <td>0.9</td>\n",
       "      <td>0.9</td>\n",
       "      <td>RF</td>\n",
       "    </tr>\n",
       "    <tr>\n",
       "      <th>9</th>\n",
       "      <td>71.3</td>\n",
       "      <td>6.5</td>\n",
       "      <td>0.9</td>\n",
       "      <td>0.9</td>\n",
       "      <td>0.9</td>\n",
       "      <td>0.9</td>\n",
       "      <td>0.9</td>\n",
       "      <td>RF</td>\n",
       "    </tr>\n",
       "    <tr>\n",
       "      <th>10</th>\n",
       "      <td>4.6</td>\n",
       "      <td>4.5</td>\n",
       "      <td>0.9</td>\n",
       "      <td>0.9</td>\n",
       "      <td>0.9</td>\n",
       "      <td>0.9</td>\n",
       "      <td>0.9</td>\n",
       "      <td>KNN</td>\n",
       "    </tr>\n",
       "    <tr>\n",
       "      <th>11</th>\n",
       "      <td>1.9</td>\n",
       "      <td>4.7</td>\n",
       "      <td>0.9</td>\n",
       "      <td>0.9</td>\n",
       "      <td>0.9</td>\n",
       "      <td>0.9</td>\n",
       "      <td>0.9</td>\n",
       "      <td>KNN</td>\n",
       "    </tr>\n",
       "    <tr>\n",
       "      <th>12</th>\n",
       "      <td>2.1</td>\n",
       "      <td>4.6</td>\n",
       "      <td>0.9</td>\n",
       "      <td>0.9</td>\n",
       "      <td>0.9</td>\n",
       "      <td>0.9</td>\n",
       "      <td>0.9</td>\n",
       "      <td>KNN</td>\n",
       "    </tr>\n",
       "    <tr>\n",
       "      <th>13</th>\n",
       "      <td>1.6</td>\n",
       "      <td>4.5</td>\n",
       "      <td>0.9</td>\n",
       "      <td>0.9</td>\n",
       "      <td>0.9</td>\n",
       "      <td>0.9</td>\n",
       "      <td>0.9</td>\n",
       "      <td>KNN</td>\n",
       "    </tr>\n",
       "    <tr>\n",
       "      <th>14</th>\n",
       "      <td>2.0</td>\n",
       "      <td>6.8</td>\n",
       "      <td>0.9</td>\n",
       "      <td>0.9</td>\n",
       "      <td>0.9</td>\n",
       "      <td>0.9</td>\n",
       "      <td>0.9</td>\n",
       "      <td>KNN</td>\n",
       "    </tr>\n",
       "    <tr>\n",
       "      <th>15</th>\n",
       "      <td>0.1</td>\n",
       "      <td>0.1</td>\n",
       "      <td>0.6</td>\n",
       "      <td>0.6</td>\n",
       "      <td>0.6</td>\n",
       "      <td>0.6</td>\n",
       "      <td>0.6</td>\n",
       "      <td>GNB</td>\n",
       "    </tr>\n",
       "    <tr>\n",
       "      <th>16</th>\n",
       "      <td>0.1</td>\n",
       "      <td>0.2</td>\n",
       "      <td>0.6</td>\n",
       "      <td>0.6</td>\n",
       "      <td>0.6</td>\n",
       "      <td>0.6</td>\n",
       "      <td>0.6</td>\n",
       "      <td>GNB</td>\n",
       "    </tr>\n",
       "    <tr>\n",
       "      <th>17</th>\n",
       "      <td>0.1</td>\n",
       "      <td>0.1</td>\n",
       "      <td>0.6</td>\n",
       "      <td>0.6</td>\n",
       "      <td>0.6</td>\n",
       "      <td>0.6</td>\n",
       "      <td>0.6</td>\n",
       "      <td>GNB</td>\n",
       "    </tr>\n",
       "    <tr>\n",
       "      <th>18</th>\n",
       "      <td>0.1</td>\n",
       "      <td>0.1</td>\n",
       "      <td>0.6</td>\n",
       "      <td>0.6</td>\n",
       "      <td>0.6</td>\n",
       "      <td>0.6</td>\n",
       "      <td>0.6</td>\n",
       "      <td>GNB</td>\n",
       "    </tr>\n",
       "    <tr>\n",
       "      <th>19</th>\n",
       "      <td>0.1</td>\n",
       "      <td>0.1</td>\n",
       "      <td>0.6</td>\n",
       "      <td>0.6</td>\n",
       "      <td>0.6</td>\n",
       "      <td>0.6</td>\n",
       "      <td>0.6</td>\n",
       "      <td>GNB</td>\n",
       "    </tr>\n",
       "    <tr>\n",
       "      <th>20</th>\n",
       "      <td>11.7</td>\n",
       "      <td>0.7</td>\n",
       "      <td>0.8</td>\n",
       "      <td>0.8</td>\n",
       "      <td>0.8</td>\n",
       "      <td>0.8</td>\n",
       "      <td>0.9</td>\n",
       "      <td>XGB</td>\n",
       "    </tr>\n",
       "    <tr>\n",
       "      <th>21</th>\n",
       "      <td>10.2</td>\n",
       "      <td>0.7</td>\n",
       "      <td>0.8</td>\n",
       "      <td>0.8</td>\n",
       "      <td>0.8</td>\n",
       "      <td>0.8</td>\n",
       "      <td>0.9</td>\n",
       "      <td>XGB</td>\n",
       "    </tr>\n",
       "    <tr>\n",
       "      <th>22</th>\n",
       "      <td>10.1</td>\n",
       "      <td>1.0</td>\n",
       "      <td>0.8</td>\n",
       "      <td>0.8</td>\n",
       "      <td>0.8</td>\n",
       "      <td>0.8</td>\n",
       "      <td>0.9</td>\n",
       "      <td>XGB</td>\n",
       "    </tr>\n",
       "    <tr>\n",
       "      <th>23</th>\n",
       "      <td>9.3</td>\n",
       "      <td>0.7</td>\n",
       "      <td>0.8</td>\n",
       "      <td>0.8</td>\n",
       "      <td>0.8</td>\n",
       "      <td>0.8</td>\n",
       "      <td>0.9</td>\n",
       "      <td>XGB</td>\n",
       "    </tr>\n",
       "    <tr>\n",
       "      <th>24</th>\n",
       "      <td>10.0</td>\n",
       "      <td>0.7</td>\n",
       "      <td>0.8</td>\n",
       "      <td>0.8</td>\n",
       "      <td>0.8</td>\n",
       "      <td>0.8</td>\n",
       "      <td>0.9</td>\n",
       "      <td>XGB</td>\n",
       "    </tr>\n",
       "  </tbody>\n",
       "</table>\n",
       "</div>"
      ],
      "text/plain": [
       "    fit_time  score_time  test_accuracy  test_precision_weighted  \\\n",
       "0        2.6         0.1            0.6                      0.6   \n",
       "1        1.6         0.1            0.6                      0.5   \n",
       "2        3.3         0.1            0.6                      0.6   \n",
       "3        1.5         0.1            0.6                      0.5   \n",
       "4        4.6         0.3            0.6                      0.6   \n",
       "5       56.9         5.4            0.9                      0.9   \n",
       "6       68.3        12.3            0.9                      0.9   \n",
       "7       78.5         6.5            0.9                      0.9   \n",
       "8       84.9         7.4            0.9                      0.9   \n",
       "9       71.3         6.5            0.9                      0.9   \n",
       "10       4.6         4.5            0.9                      0.9   \n",
       "11       1.9         4.7            0.9                      0.9   \n",
       "12       2.1         4.6            0.9                      0.9   \n",
       "13       1.6         4.5            0.9                      0.9   \n",
       "14       2.0         6.8            0.9                      0.9   \n",
       "15       0.1         0.1            0.6                      0.6   \n",
       "16       0.1         0.2            0.6                      0.6   \n",
       "17       0.1         0.1            0.6                      0.6   \n",
       "18       0.1         0.1            0.6                      0.6   \n",
       "19       0.1         0.1            0.6                      0.6   \n",
       "20      11.7         0.7            0.8                      0.8   \n",
       "21      10.2         0.7            0.8                      0.8   \n",
       "22      10.1         1.0            0.8                      0.8   \n",
       "23       9.3         0.7            0.8                      0.8   \n",
       "24      10.0         0.7            0.8                      0.8   \n",
       "\n",
       "    test_recall_weighted  test_f1_weighted  test_roc_auc   model  \n",
       "0                    0.6               0.5           0.6  LogReg  \n",
       "1                    0.6               0.5           0.6  LogReg  \n",
       "2                    0.6               0.5           0.6  LogReg  \n",
       "3                    0.6               0.5           0.6  LogReg  \n",
       "4                    0.6               0.5           0.6  LogReg  \n",
       "5                    0.9               0.9           0.9      RF  \n",
       "6                    0.9               0.9           0.9      RF  \n",
       "7                    0.9               0.9           0.9      RF  \n",
       "8                    0.9               0.9           0.9      RF  \n",
       "9                    0.9               0.9           0.9      RF  \n",
       "10                   0.9               0.9           0.9     KNN  \n",
       "11                   0.9               0.9           0.9     KNN  \n",
       "12                   0.9               0.9           0.9     KNN  \n",
       "13                   0.9               0.9           0.9     KNN  \n",
       "14                   0.9               0.9           0.9     KNN  \n",
       "15                   0.6               0.6           0.6     GNB  \n",
       "16                   0.6               0.6           0.6     GNB  \n",
       "17                   0.6               0.6           0.6     GNB  \n",
       "18                   0.6               0.6           0.6     GNB  \n",
       "19                   0.6               0.6           0.6     GNB  \n",
       "20                   0.8               0.8           0.9     XGB  \n",
       "21                   0.8               0.8           0.9     XGB  \n",
       "22                   0.8               0.8           0.9     XGB  \n",
       "23                   0.8               0.8           0.9     XGB  \n",
       "24                   0.8               0.8           0.9     XGB  "
      ]
     },
     "execution_count": 70,
     "metadata": {},
     "output_type": "execute_result"
    }
   ],
   "source": [
    "for name, model in models:\n",
    "    kfold = model_selection.KFold(n_splits=5, shuffle=True, random_state=90210)\n",
    "    cv_results = model_selection.cross_validate(model, X_train, y_train, cv=kfold, scoring=scoring)\n",
    "    clf = model.fit(X_train, y_train)\n",
    "    y_pred = clf.predict(X_test)\n",
    "    print(name)\n",
    "    print(classification_report(y_test, y_pred, target_names=target_names))\n",
    "    results.append(cv_results)\n",
    "    names.append(name)\n",
    "    this_df = pd.DataFrame(cv_results)\n",
    "    this_df['model'] = name\n",
    "    dfs.append(this_df)\n",
    "\n",
    "final = pd.concat(dfs, ignore_index=True)\n",
    "final"
   ]
  },
  {
   "cell_type": "code",
   "execution_count": 76,
   "id": "dbe89142",
   "metadata": {},
   "outputs": [
    {
     "data": {
      "text/html": [
       "<div>\n",
       "<style scoped>\n",
       "    .dataframe tbody tr th:only-of-type {\n",
       "        vertical-align: middle;\n",
       "    }\n",
       "\n",
       "    .dataframe tbody tr th {\n",
       "        vertical-align: top;\n",
       "    }\n",
       "\n",
       "    .dataframe thead th {\n",
       "        text-align: right;\n",
       "    }\n",
       "</style>\n",
       "<table border=\"1\" class=\"dataframe\">\n",
       "  <thead>\n",
       "    <tr style=\"text-align: right;\">\n",
       "      <th></th>\n",
       "      <th>fit_time</th>\n",
       "      <th>score_time</th>\n",
       "      <th>test_accuracy</th>\n",
       "      <th>test_precision_weighted</th>\n",
       "      <th>test_recall_weighted</th>\n",
       "      <th>test_f1_weighted</th>\n",
       "      <th>test_roc_auc</th>\n",
       "      <th>model</th>\n",
       "    </tr>\n",
       "  </thead>\n",
       "  <tbody>\n",
       "    <tr>\n",
       "      <th>5</th>\n",
       "      <td>56.9</td>\n",
       "      <td>5.4</td>\n",
       "      <td>0.9</td>\n",
       "      <td>0.9</td>\n",
       "      <td>0.9</td>\n",
       "      <td>0.9</td>\n",
       "      <td>0.9</td>\n",
       "      <td>RF</td>\n",
       "    </tr>\n",
       "    <tr>\n",
       "      <th>6</th>\n",
       "      <td>68.3</td>\n",
       "      <td>12.3</td>\n",
       "      <td>0.9</td>\n",
       "      <td>0.9</td>\n",
       "      <td>0.9</td>\n",
       "      <td>0.9</td>\n",
       "      <td>0.9</td>\n",
       "      <td>RF</td>\n",
       "    </tr>\n",
       "    <tr>\n",
       "      <th>7</th>\n",
       "      <td>78.5</td>\n",
       "      <td>6.5</td>\n",
       "      <td>0.9</td>\n",
       "      <td>0.9</td>\n",
       "      <td>0.9</td>\n",
       "      <td>0.9</td>\n",
       "      <td>0.9</td>\n",
       "      <td>RF</td>\n",
       "    </tr>\n",
       "    <tr>\n",
       "      <th>8</th>\n",
       "      <td>84.9</td>\n",
       "      <td>7.4</td>\n",
       "      <td>0.9</td>\n",
       "      <td>0.9</td>\n",
       "      <td>0.9</td>\n",
       "      <td>0.9</td>\n",
       "      <td>0.9</td>\n",
       "      <td>RF</td>\n",
       "    </tr>\n",
       "    <tr>\n",
       "      <th>9</th>\n",
       "      <td>71.3</td>\n",
       "      <td>6.5</td>\n",
       "      <td>0.9</td>\n",
       "      <td>0.9</td>\n",
       "      <td>0.9</td>\n",
       "      <td>0.9</td>\n",
       "      <td>0.9</td>\n",
       "      <td>RF</td>\n",
       "    </tr>\n",
       "    <tr>\n",
       "      <th>10</th>\n",
       "      <td>4.6</td>\n",
       "      <td>4.5</td>\n",
       "      <td>0.9</td>\n",
       "      <td>0.9</td>\n",
       "      <td>0.9</td>\n",
       "      <td>0.9</td>\n",
       "      <td>0.9</td>\n",
       "      <td>KNN</td>\n",
       "    </tr>\n",
       "    <tr>\n",
       "      <th>11</th>\n",
       "      <td>1.9</td>\n",
       "      <td>4.7</td>\n",
       "      <td>0.9</td>\n",
       "      <td>0.9</td>\n",
       "      <td>0.9</td>\n",
       "      <td>0.9</td>\n",
       "      <td>0.9</td>\n",
       "      <td>KNN</td>\n",
       "    </tr>\n",
       "    <tr>\n",
       "      <th>12</th>\n",
       "      <td>2.1</td>\n",
       "      <td>4.6</td>\n",
       "      <td>0.9</td>\n",
       "      <td>0.9</td>\n",
       "      <td>0.9</td>\n",
       "      <td>0.9</td>\n",
       "      <td>0.9</td>\n",
       "      <td>KNN</td>\n",
       "    </tr>\n",
       "    <tr>\n",
       "      <th>13</th>\n",
       "      <td>1.6</td>\n",
       "      <td>4.5</td>\n",
       "      <td>0.9</td>\n",
       "      <td>0.9</td>\n",
       "      <td>0.9</td>\n",
       "      <td>0.9</td>\n",
       "      <td>0.9</td>\n",
       "      <td>KNN</td>\n",
       "    </tr>\n",
       "    <tr>\n",
       "      <th>14</th>\n",
       "      <td>2.0</td>\n",
       "      <td>6.8</td>\n",
       "      <td>0.9</td>\n",
       "      <td>0.9</td>\n",
       "      <td>0.9</td>\n",
       "      <td>0.9</td>\n",
       "      <td>0.9</td>\n",
       "      <td>KNN</td>\n",
       "    </tr>\n",
       "    <tr>\n",
       "      <th>20</th>\n",
       "      <td>11.7</td>\n",
       "      <td>0.7</td>\n",
       "      <td>0.8</td>\n",
       "      <td>0.8</td>\n",
       "      <td>0.8</td>\n",
       "      <td>0.8</td>\n",
       "      <td>0.9</td>\n",
       "      <td>XGB</td>\n",
       "    </tr>\n",
       "    <tr>\n",
       "      <th>21</th>\n",
       "      <td>10.2</td>\n",
       "      <td>0.7</td>\n",
       "      <td>0.8</td>\n",
       "      <td>0.8</td>\n",
       "      <td>0.8</td>\n",
       "      <td>0.8</td>\n",
       "      <td>0.9</td>\n",
       "      <td>XGB</td>\n",
       "    </tr>\n",
       "    <tr>\n",
       "      <th>22</th>\n",
       "      <td>10.1</td>\n",
       "      <td>1.0</td>\n",
       "      <td>0.8</td>\n",
       "      <td>0.8</td>\n",
       "      <td>0.8</td>\n",
       "      <td>0.8</td>\n",
       "      <td>0.9</td>\n",
       "      <td>XGB</td>\n",
       "    </tr>\n",
       "    <tr>\n",
       "      <th>23</th>\n",
       "      <td>9.3</td>\n",
       "      <td>0.7</td>\n",
       "      <td>0.8</td>\n",
       "      <td>0.8</td>\n",
       "      <td>0.8</td>\n",
       "      <td>0.8</td>\n",
       "      <td>0.9</td>\n",
       "      <td>XGB</td>\n",
       "    </tr>\n",
       "    <tr>\n",
       "      <th>24</th>\n",
       "      <td>10.0</td>\n",
       "      <td>0.7</td>\n",
       "      <td>0.8</td>\n",
       "      <td>0.8</td>\n",
       "      <td>0.8</td>\n",
       "      <td>0.8</td>\n",
       "      <td>0.9</td>\n",
       "      <td>XGB</td>\n",
       "    </tr>\n",
       "  </tbody>\n",
       "</table>\n",
       "</div>"
      ],
      "text/plain": [
       "    fit_time  score_time  test_accuracy  test_precision_weighted  \\\n",
       "5       56.9         5.4            0.9                      0.9   \n",
       "6       68.3        12.3            0.9                      0.9   \n",
       "7       78.5         6.5            0.9                      0.9   \n",
       "8       84.9         7.4            0.9                      0.9   \n",
       "9       71.3         6.5            0.9                      0.9   \n",
       "10       4.6         4.5            0.9                      0.9   \n",
       "11       1.9         4.7            0.9                      0.9   \n",
       "12       2.1         4.6            0.9                      0.9   \n",
       "13       1.6         4.5            0.9                      0.9   \n",
       "14       2.0         6.8            0.9                      0.9   \n",
       "20      11.7         0.7            0.8                      0.8   \n",
       "21      10.2         0.7            0.8                      0.8   \n",
       "22      10.1         1.0            0.8                      0.8   \n",
       "23       9.3         0.7            0.8                      0.8   \n",
       "24      10.0         0.7            0.8                      0.8   \n",
       "\n",
       "    test_recall_weighted  test_f1_weighted  test_roc_auc model  \n",
       "5                    0.9               0.9           0.9    RF  \n",
       "6                    0.9               0.9           0.9    RF  \n",
       "7                    0.9               0.9           0.9    RF  \n",
       "8                    0.9               0.9           0.9    RF  \n",
       "9                    0.9               0.9           0.9    RF  \n",
       "10                   0.9               0.9           0.9   KNN  \n",
       "11                   0.9               0.9           0.9   KNN  \n",
       "12                   0.9               0.9           0.9   KNN  \n",
       "13                   0.9               0.9           0.9   KNN  \n",
       "14                   0.9               0.9           0.9   KNN  \n",
       "20                   0.8               0.8           0.9   XGB  \n",
       "21                   0.8               0.8           0.9   XGB  \n",
       "22                   0.8               0.8           0.9   XGB  \n",
       "23                   0.8               0.8           0.9   XGB  \n",
       "24                   0.8               0.8           0.9   XGB  "
      ]
     },
     "execution_count": 76,
     "metadata": {},
     "output_type": "execute_result"
    }
   ],
   "source": [
    "final[final['test_f1_weighted']>0.75]"
   ]
  }
 ],
 "metadata": {
  "kernelspec": {
   "display_name": "Python 3 (ipykernel)",
   "language": "python",
   "name": "python3"
  },
  "language_info": {
   "codemirror_mode": {
    "name": "ipython",
    "version": 3
   },
   "file_extension": ".py",
   "mimetype": "text/x-python",
   "name": "python",
   "nbconvert_exporter": "python",
   "pygments_lexer": "ipython3",
   "version": "3.8.12"
  }
 },
 "nbformat": 4,
 "nbformat_minor": 5
}
